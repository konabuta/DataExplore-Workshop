{
 "cells": [
  {
   "cell_type": "markdown",
   "metadata": {},
   "source": [
    "# 決定木 Decision Tree による要因探索とメトリック記録"
   ]
  },
  {
   "cell_type": "markdown",
   "metadata": {},
   "source": [
    "製造工程データに決定木を適用し、説明変数・因子がどのように製造品の良品・不良品に影響しているかを分析します。Scikit Learnを使用し決定木で学習します。Azure Machine Learning service のメトリック記録機能を使って、作業内容を記録することも示します。"
   ]
  },
  {
   "cell_type": "markdown",
   "metadata": {},
   "source": [
    "## Azure Machine Learning service\n",
    "Azure Machine Learning service の資産管理の仕組みを利用して、メトリック、データセット、モデルを保存します。\n",
    "### Python SDK インポート"
   ]
  },
  {
   "cell_type": "code",
   "execution_count": 1,
   "metadata": {},
   "outputs": [],
   "source": [
    "import azureml.core\n",
    "from azureml.core.experiment import Experiment\n",
    "from azureml.core.workspace import Workspace"
   ]
  },
  {
   "cell_type": "code",
   "execution_count": 2,
   "metadata": {},
   "outputs": [
    {
     "name": "stdout",
     "output_type": "stream",
     "text": [
      "Azure ML SDK Version:  1.0.62\n"
     ]
    }
   ],
   "source": [
    "print(\"Azure ML SDK Version: \", azureml.core.VERSION)"
   ]
  },
  {
   "cell_type": "markdown",
   "metadata": {},
   "source": [
    "### ワークスペースへの接続"
   ]
  },
  {
   "cell_type": "code",
   "execution_count": 3,
   "metadata": {},
   "outputs": [
    {
     "name": "stdout",
     "output_type": "stream",
     "text": [
      "azureml\teastus\tmlservice\teastus\n"
     ]
    }
   ],
   "source": [
    "ws = Workspace.from_config()\n",
    "print(ws.name, ws.location, ws.resource_group, ws.location, sep = '\\t')"
   ]
  },
  {
   "cell_type": "markdown",
   "metadata": {},
   "source": [
    "### 実験の開始"
   ]
  },
  {
   "cell_type": "code",
   "execution_count": 4,
   "metadata": {},
   "outputs": [],
   "source": [
    "experiment=Experiment(ws, \"decisiontree-explore\")\n",
    "# 実験メトリックの記録開始\n",
    "run = experiment.start_logging()"
   ]
  },
  {
   "cell_type": "markdown",
   "metadata": {},
   "source": [
    "# 学習データの準備"
   ]
  },
  {
   "cell_type": "code",
   "execution_count": 5,
   "metadata": {},
   "outputs": [],
   "source": [
    "import pandas as pd\n",
    "import os\n",
    "\n",
    "df = pd.read_csv(\"../data/Factory.csv\")"
   ]
  },
  {
   "cell_type": "code",
   "execution_count": 6,
   "metadata": {},
   "outputs": [
    {
     "data": {
      "text/html": [
       "<div>\n",
       "<style scoped>\n",
       "    .dataframe tbody tr th:only-of-type {\n",
       "        vertical-align: middle;\n",
       "    }\n",
       "\n",
       "    .dataframe tbody tr th {\n",
       "        vertical-align: top;\n",
       "    }\n",
       "\n",
       "    .dataframe thead th {\n",
       "        text-align: right;\n",
       "    }\n",
       "</style>\n",
       "<table border=\"1\" class=\"dataframe\">\n",
       "  <thead>\n",
       "    <tr style=\"text-align: right;\">\n",
       "      <th></th>\n",
       "      <th>ID</th>\n",
       "      <th>Quality</th>\n",
       "      <th>ProcessA-Pressure</th>\n",
       "      <th>ProcessA-Humidity</th>\n",
       "      <th>ProcessA-Vibration</th>\n",
       "      <th>ProcessB-Light</th>\n",
       "      <th>ProcessB-Skill</th>\n",
       "      <th>ProcessB-Temp</th>\n",
       "      <th>ProcessB-Rotation</th>\n",
       "      <th>ProcessC-Density</th>\n",
       "      <th>ProcessC-PH</th>\n",
       "      <th>ProcessC-skewness</th>\n",
       "      <th>ProcessC-Time</th>\n",
       "    </tr>\n",
       "  </thead>\n",
       "  <tbody>\n",
       "    <tr>\n",
       "      <th>0</th>\n",
       "      <td>1</td>\n",
       "      <td>0</td>\n",
       "      <td>7.0</td>\n",
       "      <td>0.27</td>\n",
       "      <td>0.36</td>\n",
       "      <td>20.7</td>\n",
       "      <td>0.045</td>\n",
       "      <td>45.0</td>\n",
       "      <td>170.0</td>\n",
       "      <td>1.0010</td>\n",
       "      <td>3.00</td>\n",
       "      <td>0.45</td>\n",
       "      <td>8.8</td>\n",
       "    </tr>\n",
       "    <tr>\n",
       "      <th>1</th>\n",
       "      <td>2</td>\n",
       "      <td>0</td>\n",
       "      <td>6.3</td>\n",
       "      <td>0.30</td>\n",
       "      <td>0.34</td>\n",
       "      <td>1.6</td>\n",
       "      <td>0.049</td>\n",
       "      <td>14.0</td>\n",
       "      <td>132.0</td>\n",
       "      <td>0.9940</td>\n",
       "      <td>3.30</td>\n",
       "      <td>0.49</td>\n",
       "      <td>9.5</td>\n",
       "    </tr>\n",
       "    <tr>\n",
       "      <th>2</th>\n",
       "      <td>3</td>\n",
       "      <td>0</td>\n",
       "      <td>8.1</td>\n",
       "      <td>0.28</td>\n",
       "      <td>0.40</td>\n",
       "      <td>6.9</td>\n",
       "      <td>0.050</td>\n",
       "      <td>30.0</td>\n",
       "      <td>97.0</td>\n",
       "      <td>0.9951</td>\n",
       "      <td>3.26</td>\n",
       "      <td>0.44</td>\n",
       "      <td>10.1</td>\n",
       "    </tr>\n",
       "    <tr>\n",
       "      <th>3</th>\n",
       "      <td>4</td>\n",
       "      <td>0</td>\n",
       "      <td>7.2</td>\n",
       "      <td>0.23</td>\n",
       "      <td>0.32</td>\n",
       "      <td>8.5</td>\n",
       "      <td>0.058</td>\n",
       "      <td>47.0</td>\n",
       "      <td>186.0</td>\n",
       "      <td>0.9956</td>\n",
       "      <td>3.19</td>\n",
       "      <td>0.40</td>\n",
       "      <td>9.9</td>\n",
       "    </tr>\n",
       "    <tr>\n",
       "      <th>4</th>\n",
       "      <td>5</td>\n",
       "      <td>0</td>\n",
       "      <td>7.2</td>\n",
       "      <td>0.23</td>\n",
       "      <td>0.32</td>\n",
       "      <td>8.5</td>\n",
       "      <td>0.058</td>\n",
       "      <td>47.0</td>\n",
       "      <td>186.0</td>\n",
       "      <td>0.9956</td>\n",
       "      <td>3.19</td>\n",
       "      <td>0.40</td>\n",
       "      <td>9.9</td>\n",
       "    </tr>\n",
       "    <tr>\n",
       "      <th>5</th>\n",
       "      <td>6</td>\n",
       "      <td>0</td>\n",
       "      <td>8.1</td>\n",
       "      <td>0.28</td>\n",
       "      <td>0.40</td>\n",
       "      <td>6.9</td>\n",
       "      <td>0.050</td>\n",
       "      <td>30.0</td>\n",
       "      <td>97.0</td>\n",
       "      <td>0.9951</td>\n",
       "      <td>3.26</td>\n",
       "      <td>0.44</td>\n",
       "      <td>10.1</td>\n",
       "    </tr>\n",
       "    <tr>\n",
       "      <th>6</th>\n",
       "      <td>7</td>\n",
       "      <td>0</td>\n",
       "      <td>6.2</td>\n",
       "      <td>0.32</td>\n",
       "      <td>0.16</td>\n",
       "      <td>7.0</td>\n",
       "      <td>0.045</td>\n",
       "      <td>30.0</td>\n",
       "      <td>136.0</td>\n",
       "      <td>0.9949</td>\n",
       "      <td>3.18</td>\n",
       "      <td>0.47</td>\n",
       "      <td>9.6</td>\n",
       "    </tr>\n",
       "    <tr>\n",
       "      <th>7</th>\n",
       "      <td>8</td>\n",
       "      <td>0</td>\n",
       "      <td>7.0</td>\n",
       "      <td>0.27</td>\n",
       "      <td>0.36</td>\n",
       "      <td>20.7</td>\n",
       "      <td>0.045</td>\n",
       "      <td>45.0</td>\n",
       "      <td>170.0</td>\n",
       "      <td>1.0010</td>\n",
       "      <td>3.00</td>\n",
       "      <td>0.45</td>\n",
       "      <td>8.8</td>\n",
       "    </tr>\n",
       "    <tr>\n",
       "      <th>8</th>\n",
       "      <td>9</td>\n",
       "      <td>0</td>\n",
       "      <td>6.3</td>\n",
       "      <td>0.30</td>\n",
       "      <td>0.34</td>\n",
       "      <td>1.6</td>\n",
       "      <td>0.049</td>\n",
       "      <td>14.0</td>\n",
       "      <td>132.0</td>\n",
       "      <td>0.9940</td>\n",
       "      <td>3.30</td>\n",
       "      <td>0.49</td>\n",
       "      <td>9.5</td>\n",
       "    </tr>\n",
       "    <tr>\n",
       "      <th>9</th>\n",
       "      <td>10</td>\n",
       "      <td>0</td>\n",
       "      <td>8.1</td>\n",
       "      <td>0.22</td>\n",
       "      <td>0.43</td>\n",
       "      <td>1.5</td>\n",
       "      <td>0.044</td>\n",
       "      <td>28.0</td>\n",
       "      <td>129.0</td>\n",
       "      <td>0.9938</td>\n",
       "      <td>3.22</td>\n",
       "      <td>0.45</td>\n",
       "      <td>11.0</td>\n",
       "    </tr>\n",
       "  </tbody>\n",
       "</table>\n",
       "</div>"
      ],
      "text/plain": [
       "   ID  Quality  ProcessA-Pressure  ProcessA-Humidity  ProcessA-Vibration  \\\n",
       "0   1        0                7.0               0.27                0.36   \n",
       "1   2        0                6.3               0.30                0.34   \n",
       "2   3        0                8.1               0.28                0.40   \n",
       "3   4        0                7.2               0.23                0.32   \n",
       "4   5        0                7.2               0.23                0.32   \n",
       "5   6        0                8.1               0.28                0.40   \n",
       "6   7        0                6.2               0.32                0.16   \n",
       "7   8        0                7.0               0.27                0.36   \n",
       "8   9        0                6.3               0.30                0.34   \n",
       "9  10        0                8.1               0.22                0.43   \n",
       "\n",
       "   ProcessB-Light  ProcessB-Skill  ProcessB-Temp  ProcessB-Rotation  \\\n",
       "0            20.7           0.045           45.0              170.0   \n",
       "1             1.6           0.049           14.0              132.0   \n",
       "2             6.9           0.050           30.0               97.0   \n",
       "3             8.5           0.058           47.0              186.0   \n",
       "4             8.5           0.058           47.0              186.0   \n",
       "5             6.9           0.050           30.0               97.0   \n",
       "6             7.0           0.045           30.0              136.0   \n",
       "7            20.7           0.045           45.0              170.0   \n",
       "8             1.6           0.049           14.0              132.0   \n",
       "9             1.5           0.044           28.0              129.0   \n",
       "\n",
       "   ProcessC-Density  ProcessC-PH  ProcessC-skewness  ProcessC-Time  \n",
       "0            1.0010         3.00               0.45            8.8  \n",
       "1            0.9940         3.30               0.49            9.5  \n",
       "2            0.9951         3.26               0.44           10.1  \n",
       "3            0.9956         3.19               0.40            9.9  \n",
       "4            0.9956         3.19               0.40            9.9  \n",
       "5            0.9951         3.26               0.44           10.1  \n",
       "6            0.9949         3.18               0.47            9.6  \n",
       "7            1.0010         3.00               0.45            8.8  \n",
       "8            0.9940         3.30               0.49            9.5  \n",
       "9            0.9938         3.22               0.45           11.0  "
      ]
     },
     "execution_count": 6,
     "metadata": {},
     "output_type": "execute_result"
    }
   ],
   "source": [
    "df.head(10)"
   ]
  },
  {
   "cell_type": "code",
   "execution_count": 7,
   "metadata": {},
   "outputs": [],
   "source": [
    "from sklearn.model_selection import train_test_split\n",
    "\n",
    "X = df.drop([\"Quality\",\"ID\"],axis=1)\n",
    "y = df[\"Quality\"].values\n",
    "\n",
    "# 学習データとテストデータに分割\n",
    "X_train, X_test, y_train, y_test = train_test_split(X,y,test_size=0.1,random_state=100,stratify=y)"
   ]
  },
  {
   "cell_type": "markdown",
   "metadata": {},
   "source": [
    "# 決定木 Decision Tree による学習\n",
    "[Scikit-Learn Decision Tree](https://scikit-learn.org/0.20/modules/tree.html) による機械学習モデリング"
   ]
  },
  {
   "cell_type": "code",
   "execution_count": 8,
   "metadata": {},
   "outputs": [],
   "source": [
    "from sklearn import tree\n",
    "\n",
    "# ハイパーパラメータの設定\n",
    "criterion='gini'\n",
    "max_depth=2\n",
    "\n",
    "# モデル定義と学習\n",
    "clf = tree.DecisionTreeClassifier(max_depth=max_depth, criterion=criterion)\n",
    "clf = clf.fit(X_train, y_train)"
   ]
  },
  {
   "cell_type": "markdown",
   "metadata": {},
   "source": [
    "### モデル精度の確認"
   ]
  },
  {
   "cell_type": "code",
   "execution_count": 9,
   "metadata": {},
   "outputs": [
    {
     "name": "stdout",
     "output_type": "stream",
     "text": [
      "AUC 0.5769211871069183\n",
      "正解率 0.7918367346938775\n"
     ]
    }
   ],
   "source": [
    "from sklearn.metrics import (roc_curve, auc, accuracy_score)\n",
    "\n",
    "pred = clf.predict(X_test)\n",
    "fpr, tpr, thresholds = roc_curve(y_test, pred, pos_label=1)\n",
    "print(\"AUC\", auc(fpr, tpr))\n",
    "print(\"正解率\", accuracy_score(pred, y_test))"
   ]
  },
  {
   "cell_type": "code",
   "execution_count": 10,
   "metadata": {},
   "outputs": [
    {
     "data": {
      "text/plain": [
       "<Figure size 432x288 with 0 Axes>"
      ]
     },
     "metadata": {},
     "output_type": "display_data"
    },
    {
     "data": {
      "image/png": "[encoded data removed]",
      "text/plain": [
       "<Figure size 432x432 with 1 Axes>"
      ]
     },
     "metadata": {
      "needs_background": "light"
     },
     "output_type": "display_data"
    }
   ],
   "source": [
    "%matplotlib inline\n",
    "\n",
    "# ROC 曲線\n",
    "import matplotlib.pyplot as plt\n",
    "\n",
    "plt.clf()\n",
    "plt.figure(figsize=(6,6))\n",
    "plt.plot(fpr, tpr,label='ROC curve (area = %.2f)'%auc(fpr, tpr))\n",
    "plt.title(\"ROC curve\")\n",
    "plt.xlabel(\"False Positive Rate\")\n",
    "plt.ylabel(\"True Positive Rate\")\n",
    "plt.legend()\n",
    "plt.grid(True)\n",
    "plt.savefig('ROC.png')\n",
    "plt.show()"
   ]
  },
  {
   "cell_type": "markdown",
   "metadata": {},
   "source": [
    "### 決定木の可視化"
   ]
  },
  {
   "cell_type": "code",
   "execution_count": 11,
   "metadata": {},
   "outputs": [],
   "source": [
    "#!conda install python-graphviz\n",
    "#!pip install pydotplus"
   ]
  },
  {
   "cell_type": "code",
   "execution_count": 12,
   "metadata": {},
   "outputs": [
    {
     "data": {
      "image/svg+xml": [
       "<?xml version=\"1.0\" encoding=\"UTF-8\" standalone=\"no\"?>\n",
       "<!DOCTYPE svg PUBLIC \"-//W3C//DTD SVG 1.1//EN\"\n",
       " \"http://www.w3.org/Graphics/SVG/1.1/DTD/svg11.dtd\">\n",
       "<!-- Generated by graphviz version 2.40.1 (20161225.0304)\n",
       " -->\n",
       "<!-- Title: Tree Pages: 1 -->\n",
       "<svg width=\"681pt\" height=\"269pt\"\n",
       " viewBox=\"0.00 0.00 681.00 269.00\" xmlns=\"http://www.w3.org/2000/svg\" xmlns:xlink=\"http://www.w3.org/1999/xlink\">\n",
       "<g id=\"graph0\" class=\"graph\" transform=\"scale(1 1) rotate(0) translate(4 265)\">\n",
       "<title>Tree</title>\n",
       "<polygon fill=\"#ffffff\" stroke=\"transparent\" points=\"-4,4 -4,-265 677,-265 677,4 -4,4\"/>\n",
       "<!-- 0 -->\n",
       "<g id=\"node1\" class=\"node\">\n",
       "<title>0</title>\n",
       "<path fill=\"#e58139\" fill-opacity=\"0.725490\" stroke=\"#000000\" d=\"M405.5,-261C405.5,-261 266.5,-261 266.5,-261 260.5,-261 254.5,-255 254.5,-249 254.5,-249 254.5,-205 254.5,-205 254.5,-199 260.5,-193 266.5,-193 266.5,-193 405.5,-193 405.5,-193 411.5,-193 417.5,-199 417.5,-205 417.5,-205 417.5,-249 417.5,-249 417.5,-255 411.5,-261 405.5,-261\"/>\n",
       "<text text-anchor=\"start\" x=\"262.5\" y=\"-245.8\" font-family=\"Helvetica,sans-Serif\" font-size=\"14.00\" fill=\"#000000\">ProcessC&#45;Time ≤ 10.85</text>\n",
       "<text text-anchor=\"start\" x=\"299.5\" y=\"-230.8\" font-family=\"Helvetica,sans-Serif\" font-size=\"14.00\" fill=\"#000000\">gini = 0.339</text>\n",
       "<text text-anchor=\"start\" x=\"278\" y=\"-215.8\" font-family=\"Helvetica,sans-Serif\" font-size=\"14.00\" fill=\"#000000\">samples = 100.0%</text>\n",
       "<text text-anchor=\"start\" x=\"268\" y=\"-200.8\" font-family=\"Helvetica,sans-Serif\" font-size=\"14.00\" fill=\"#000000\">value = [0.784, 0.216]</text>\n",
       "</g>\n",
       "<!-- 1 -->\n",
       "<g id=\"node2\" class=\"node\">\n",
       "<title>1</title>\n",
       "<path fill=\"#e58139\" fill-opacity=\"0.886275\" stroke=\"#000000\" d=\"M321,-157C321,-157 159,-157 159,-157 153,-157 147,-151 147,-145 147,-145 147,-101 147,-101 147,-95 153,-89 159,-89 159,-89 321,-89 321,-89 327,-89 333,-95 333,-101 333,-101 333,-145 333,-145 333,-151 327,-157 321,-157\"/>\n",
       "<text text-anchor=\"start\" x=\"155\" y=\"-141.8\" font-family=\"Helvetica,sans-Serif\" font-size=\"14.00\" fill=\"#000000\">ProcessA&#45;Humidity ≤ 0.203</text>\n",
       "<text text-anchor=\"start\" x=\"203.5\" y=\"-126.8\" font-family=\"Helvetica,sans-Serif\" font-size=\"14.00\" fill=\"#000000\">gini = 0.184</text>\n",
       "<text text-anchor=\"start\" x=\"186\" y=\"-111.8\" font-family=\"Helvetica,sans-Serif\" font-size=\"14.00\" fill=\"#000000\">samples = 63.2%</text>\n",
       "<text text-anchor=\"start\" x=\"172\" y=\"-96.8\" font-family=\"Helvetica,sans-Serif\" font-size=\"14.00\" fill=\"#000000\">value = [0.898, 0.102]</text>\n",
       "</g>\n",
       "<!-- 0&#45;&gt;1 -->\n",
       "<g id=\"edge1\" class=\"edge\">\n",
       "<title>0&#45;&gt;1</title>\n",
       "<path fill=\"none\" stroke=\"#000000\" d=\"M304.566,-192.9465C296.1953,-183.8782 287.0584,-173.9799 278.3617,-164.5585\"/>\n",
       "<polygon fill=\"#000000\" stroke=\"#000000\" points=\"280.8593,-162.1041 271.5046,-157.13 275.7156,-166.852 280.8593,-162.1041\"/>\n",
       "<text text-anchor=\"middle\" x=\"270.5054\" y=\"-178.41\" font-family=\"Helvetica,sans-Serif\" font-size=\"14.00\" fill=\"#000000\">True</text>\n",
       "</g>\n",
       "<!-- 4 -->\n",
       "<g id=\"node5\" class=\"node\">\n",
       "<title>4</title>\n",
       "<path fill=\"#e58139\" fill-opacity=\"0.298039\" stroke=\"#000000\" d=\"M502.5,-157C502.5,-157 363.5,-157 363.5,-157 357.5,-157 351.5,-151 351.5,-145 351.5,-145 351.5,-101 351.5,-101 351.5,-95 357.5,-89 363.5,-89 363.5,-89 502.5,-89 502.5,-89 508.5,-89 514.5,-95 514.5,-101 514.5,-101 514.5,-145 514.5,-145 514.5,-151 508.5,-157 502.5,-157\"/>\n",
       "<text text-anchor=\"start\" x=\"359.5\" y=\"-141.8\" font-family=\"Helvetica,sans-Serif\" font-size=\"14.00\" fill=\"#000000\">ProcessC&#45;Time ≤ 12.55</text>\n",
       "<text text-anchor=\"start\" x=\"396.5\" y=\"-126.8\" font-family=\"Helvetica,sans-Serif\" font-size=\"14.00\" fill=\"#000000\">gini = 0.485</text>\n",
       "<text text-anchor=\"start\" x=\"379\" y=\"-111.8\" font-family=\"Helvetica,sans-Serif\" font-size=\"14.00\" fill=\"#000000\">samples = 36.8%</text>\n",
       "<text text-anchor=\"start\" x=\"365\" y=\"-96.8\" font-family=\"Helvetica,sans-Serif\" font-size=\"14.00\" fill=\"#000000\">value = [0.588, 0.412]</text>\n",
       "</g>\n",
       "<!-- 0&#45;&gt;4 -->\n",
       "<g id=\"edge4\" class=\"edge\">\n",
       "<title>0&#45;&gt;4</title>\n",
       "<path fill=\"none\" stroke=\"#000000\" d=\"M367.7614,-192.9465C376.2194,-183.8782 385.4514,-173.9799 394.2387,-164.5585\"/>\n",
       "<polygon fill=\"#000000\" stroke=\"#000000\" points=\"396.906,-166.8302 401.1672,-157.13 391.787,-162.0557 396.906,-166.8302\"/>\n",
       "<text text-anchor=\"middle\" x=\"402.0373\" y=\"-178.4148\" font-family=\"Helvetica,sans-Serif\" font-size=\"14.00\" fill=\"#000000\">False</text>\n",
       "</g>\n",
       "<!-- 2 -->\n",
       "<g id=\"node3\" class=\"node\">\n",
       "<title>2</title>\n",
       "<path fill=\"#e58139\" fill-opacity=\"0.678431\" stroke=\"#000000\" d=\"M140,-53C140,-53 12,-53 12,-53 6,-53 0,-47 0,-41 0,-41 0,-12 0,-12 0,-6 6,0 12,0 12,0 140,0 140,0 146,0 152,-6 152,-12 152,-12 152,-41 152,-41 152,-47 146,-53 140,-53\"/>\n",
       "<text text-anchor=\"start\" x=\"39.5\" y=\"-37.8\" font-family=\"Helvetica,sans-Serif\" font-size=\"14.00\" fill=\"#000000\">gini = 0.368</text>\n",
       "<text text-anchor=\"start\" x=\"22\" y=\"-22.8\" font-family=\"Helvetica,sans-Serif\" font-size=\"14.00\" fill=\"#000000\">samples = 14.9%</text>\n",
       "<text text-anchor=\"start\" x=\"8\" y=\"-7.8\" font-family=\"Helvetica,sans-Serif\" font-size=\"14.00\" fill=\"#000000\">value = [0.757, 0.243]</text>\n",
       "</g>\n",
       "<!-- 1&#45;&gt;2 -->\n",
       "<g id=\"edge2\" class=\"edge\">\n",
       "<title>1&#45;&gt;2</title>\n",
       "<path fill=\"none\" stroke=\"#000000\" d=\"M182.1797,-88.9777C165.2948,-79.0424 146.9078,-68.2232 130.2522,-58.4228\"/>\n",
       "<polygon fill=\"#000000\" stroke=\"#000000\" points=\"131.5914,-55.1499 121.1978,-53.095 128.0415,-61.183 131.5914,-55.1499\"/>\n",
       "</g>\n",
       "<!-- 3 -->\n",
       "<g id=\"node4\" class=\"node\">\n",
       "<title>3</title>\n",
       "<path fill=\"#e58139\" fill-opacity=\"0.937255\" stroke=\"#000000\" d=\"M310,-53C310,-53 182,-53 182,-53 176,-53 170,-47 170,-41 170,-41 170,-12 170,-12 170,-6 176,0 182,0 182,0 310,0 310,0 316,0 322,-6 322,-12 322,-12 322,-41 322,-41 322,-47 316,-53 310,-53\"/>\n",
       "<text text-anchor=\"start\" x=\"209.5\" y=\"-37.8\" font-family=\"Helvetica,sans-Serif\" font-size=\"14.00\" fill=\"#000000\">gini = 0.111</text>\n",
       "<text text-anchor=\"start\" x=\"192\" y=\"-22.8\" font-family=\"Helvetica,sans-Serif\" font-size=\"14.00\" fill=\"#000000\">samples = 48.3%</text>\n",
       "<text text-anchor=\"start\" x=\"178\" y=\"-7.8\" font-family=\"Helvetica,sans-Serif\" font-size=\"14.00\" fill=\"#000000\">value = [0.941, 0.059]</text>\n",
       "</g>\n",
       "<!-- 1&#45;&gt;3 -->\n",
       "<g id=\"edge3\" class=\"edge\">\n",
       "<title>1&#45;&gt;3</title>\n",
       "<path fill=\"none\" stroke=\"#000000\" d=\"M242.1154,-88.9777C242.6335,-80.6449 243.1902,-71.6903 243.7159,-63.2364\"/>\n",
       "<polygon fill=\"#000000\" stroke=\"#000000\" points=\"247.2095,-63.4464 244.3369,-53.2485 240.223,-63.012 247.2095,-63.4464\"/>\n",
       "</g>\n",
       "<!-- 5 -->\n",
       "<g id=\"node6\" class=\"node\">\n",
       "<title>5</title>\n",
       "<path fill=\"#e58139\" fill-opacity=\"0.443137\" stroke=\"#000000\" d=\"M491,-53C491,-53 363,-53 363,-53 357,-53 351,-47 351,-41 351,-41 351,-12 351,-12 351,-6 357,0 363,0 363,0 491,0 491,0 497,0 503,-6 503,-12 503,-12 503,-41 503,-41 503,-47 497,-53 491,-53\"/>\n",
       "<text text-anchor=\"start\" x=\"394.5\" y=\"-37.8\" font-family=\"Helvetica,sans-Serif\" font-size=\"14.00\" fill=\"#000000\">gini = 0.46</text>\n",
       "<text text-anchor=\"start\" x=\"373\" y=\"-22.8\" font-family=\"Helvetica,sans-Serif\" font-size=\"14.00\" fill=\"#000000\">samples = 29.6%</text>\n",
       "<text text-anchor=\"start\" x=\"359\" y=\"-7.8\" font-family=\"Helvetica,sans-Serif\" font-size=\"14.00\" fill=\"#000000\">value = [0.642, 0.358]</text>\n",
       "</g>\n",
       "<!-- 4&#45;&gt;5 -->\n",
       "<g id=\"edge5\" class=\"edge\">\n",
       "<title>4&#45;&gt;5</title>\n",
       "<path fill=\"none\" stroke=\"#000000\" d=\"M430.8846,-88.9777C430.3665,-80.6449 429.8098,-71.6903 429.2841,-63.2364\"/>\n",
       "<polygon fill=\"#000000\" stroke=\"#000000\" points=\"432.777,-63.012 428.6631,-53.2485 425.7905,-63.4464 432.777,-63.012\"/>\n",
       "</g>\n",
       "<!-- 6 -->\n",
       "<g id=\"node7\" class=\"node\">\n",
       "<title>6</title>\n",
       "<path fill=\"#399de5\" fill-opacity=\"0.423529\" stroke=\"#000000\" d=\"M661,-53C661,-53 533,-53 533,-53 527,-53 521,-47 521,-41 521,-41 521,-12 521,-12 521,-6 527,0 533,0 533,0 661,0 661,0 667,0 673,-6 673,-12 673,-12 673,-41 673,-41 673,-47 667,-53 661,-53\"/>\n",
       "<text text-anchor=\"start\" x=\"560.5\" y=\"-37.8\" font-family=\"Helvetica,sans-Serif\" font-size=\"14.00\" fill=\"#000000\">gini = 0.464</text>\n",
       "<text text-anchor=\"start\" x=\"547\" y=\"-22.8\" font-family=\"Helvetica,sans-Serif\" font-size=\"14.00\" fill=\"#000000\">samples = 7.2%</text>\n",
       "<text text-anchor=\"start\" x=\"529\" y=\"-7.8\" font-family=\"Helvetica,sans-Serif\" font-size=\"14.00\" fill=\"#000000\">value = [0.366, 0.634]</text>\n",
       "</g>\n",
       "<!-- 4&#45;&gt;6 -->\n",
       "<g id=\"edge6\" class=\"edge\">\n",
       "<title>4&#45;&gt;6</title>\n",
       "<path fill=\"none\" stroke=\"#000000\" d=\"M490.8203,-88.9777C507.7052,-79.0424 526.0922,-68.2232 542.7478,-58.4228\"/>\n",
       "<polygon fill=\"#000000\" stroke=\"#000000\" points=\"544.9585,-61.183 551.8022,-53.095 541.4086,-55.1499 544.9585,-61.183\"/>\n",
       "</g>\n",
       "</g>\n",
       "</svg>\n"
      ],
      "text/plain": [
       "<graphviz.files.Source at 0x11d983b70>"
      ]
     },
     "execution_count": 12,
     "metadata": {},
     "output_type": "execute_result"
    }
   ],
   "source": [
    "import graphviz\n",
    "\n",
    "dot_data = tree.export_graphviz(clf, out_file=None, feature_names=X.columns, proportion=True, filled=True, rounded=True, special_characters=True)  \n",
    "graph = graphviz.Source(dot_data) \n",
    "graph"
   ]
  },
  {
   "cell_type": "code",
   "execution_count": 13,
   "metadata": {},
   "outputs": [
    {
     "data": {
      "text/plain": [
       "'factory-tree.png'"
      ]
     },
     "execution_count": 13,
     "metadata": {},
     "output_type": "execute_result"
    }
   ],
   "source": [
    "graph.render(filename=\"factory-tree\", format='png')"
   ]
  },
  {
   "cell_type": "code",
   "execution_count": 14,
   "metadata": {},
   "outputs": [],
   "source": [
    "# # Graph の保存\n",
    "# import pydotplus as pdp\n",
    "# graph = pdp.graph_from_dot_data(dot_data)\n",
    "# graph.write_png(\"factory-tree.png\")"
   ]
  },
  {
   "cell_type": "markdown",
   "metadata": {},
   "source": [
    "## メトリックの記録"
   ]
  },
  {
   "cell_type": "markdown",
   "metadata": {},
   "source": [
    "Experiment に紐づけて、利用したハイパーパラメータやモデル精度を記録します。"
   ]
  },
  {
   "cell_type": "code",
   "execution_count": 15,
   "metadata": {},
   "outputs": [],
   "source": [
    "# パラメータ\n",
    "run.log(\"木の分割基準\", criterion)\n",
    "run.log(\"木の深さ\", max_depth)\n",
    "\n",
    "# 精度\n",
    "run.log(\"AUC\", auc(fpr, tpr))\n",
    "run.log(\"正解率\", accuracy_score(pred, y_test))\n",
    "\n",
    "# 画像記録\n",
    "run.log_image(\"ROC\", \"ROC.png\")\n",
    "run.log_image(name = \"DT image\", path=\"factory-tree.png\")"
   ]
  },
  {
   "cell_type": "markdown",
   "metadata": {},
   "source": [
    "### モデル登録"
   ]
  },
  {
   "cell_type": "code",
   "execution_count": 16,
   "metadata": {},
   "outputs": [],
   "source": [
    "import pickle\n",
    "filename = 'DT-model.pkl'\n",
    "pickle.dump(clf, open(filename, 'wb'))"
   ]
  },
  {
   "cell_type": "code",
   "execution_count": 17,
   "metadata": {},
   "outputs": [
    {
     "data": {
      "text/plain": [
       "<azureml._restclient.models.batch_artifact_content_information_dto.BatchArtifactContentInformationDto at 0x1233255f8>"
      ]
     },
     "execution_count": 17,
     "metadata": {},
     "output_type": "execute_result"
    }
   ],
   "source": [
    "run.upload_file(\"outputs/\"+filename, filename)"
   ]
  },
  {
   "cell_type": "markdown",
   "metadata": {},
   "source": [
    "# モデル登録"
   ]
  },
  {
   "cell_type": "markdown",
   "metadata": {},
   "source": [
    "Azure Machine Learning service 上にモデルを保存します。"
   ]
  },
  {
   "cell_type": "code",
   "execution_count": 18,
   "metadata": {},
   "outputs": [],
   "source": [
    "from azureml.core.model import Model\n",
    "\n",
    "model = run.register_model(model_name='DT-sklearn', \n",
    "                           model_path = 'outputs/' + filename,\n",
    "                           tags = {'area': \"sklearnによる決定木\", 'type': \"分類 Classification\", 'run_id' : run.id}\n",
    "                          )"
   ]
  },
  {
   "cell_type": "code",
   "execution_count": 19,
   "metadata": {},
   "outputs": [
    {
     "name": "stdout",
     "output_type": "stream",
     "text": [
      "DT-sklearn 16 {'area': 'sklearnによる決定木', 'type': '分類 Classification', 'run_id': 'da5eedc3-bac5-4e15-a716-c8273af5a5b8'}\n"
     ]
    }
   ],
   "source": [
    "print(model.name, model.version, model.tags)"
   ]
  },
  {
   "cell_type": "markdown",
   "metadata": {},
   "source": [
    "## 実験完了"
   ]
  },
  {
   "cell_type": "markdown",
   "metadata": {},
   "source": [
    "start_logging() で始めた Experiment を終了します。"
   ]
  },
  {
   "cell_type": "code",
   "execution_count": 20,
   "metadata": {},
   "outputs": [],
   "source": [
    "run.complete()"
   ]
  },
  {
   "cell_type": "code",
   "execution_count": 21,
   "metadata": {},
   "outputs": [
    {
     "data": {
      "text/plain": [
       "{'runId': 'da5eedc3-bac5-4e15-a716-c8273af5a5b8',\n",
       " 'target': 'sdk',\n",
       " 'status': 'Completed',\n",
       " 'startTimeUtc': '2019-09-22T02:31:16.703927Z',\n",
       " 'endTimeUtc': '2019-09-22T02:31:41.908815Z',\n",
       " 'properties': {'azureml.git.repository_uri': 'https://github.com/konabuta/DataExplore-Workshop.git',\n",
       "  'mlflow.source.git.repoURL': 'https://github.com/konabuta/DataExplore-Workshop.git',\n",
       "  'azureml.git.branch': 'master',\n",
       "  'mlflow.source.git.branch': 'master',\n",
       "  'azureml.git.commit': '26376a64b9e3670aa7f706158f5b70fcfaea7c2d',\n",
       "  'mlflow.source.git.commit': '26376a64b9e3670aa7f706158f5b70fcfaea7c2d',\n",
       "  'azureml.git.dirty': 'True',\n",
       "  'ContentSnapshotId': '1962669b-cfe7-4071-9294-f059ccc8efe8'},\n",
       " 'logFiles': {}}"
      ]
     },
     "execution_count": 21,
     "metadata": {},
     "output_type": "execute_result"
    }
   ],
   "source": [
    "# Git情報などの確認\n",
    "run.get_details()"
   ]
  },
  {
   "cell_type": "code",
   "execution_count": 22,
   "metadata": {},
   "outputs": [
    {
     "data": {
      "text/html": [
       "<table style=\"width:100%\"><tr><th>Experiment</th><th>Id</th><th>Type</th><th>Status</th><th>Details Page</th><th>Docs Page</th></tr><tr><td>decisiontree-explore</td><td>da5eedc3-bac5-4e15-a716-c8273af5a5b8</td><td></td><td>Completed</td><td><a href=\"https://mlworkspace.azure.ai/portal/subscriptions/9c0f91b8-eb2f-484c-979c-15848c098a6b/resourceGroups/mlservice/providers/Microsoft.MachineLearningServices/workspaces/azureml/experiments/decisiontree-explore/runs/da5eedc3-bac5-4e15-a716-c8273af5a5b8\" target=\"_blank\" rel=\"noopener\">Link to Azure Portal</a></td><td><a href=\"https://docs.microsoft.com/en-us/python/api/azureml-core/azureml.core.run.Run?view=azure-ml-py\" target=\"_blank\" rel=\"noopener\">Link to Documentation</a></td></tr></table>"
      ],
      "text/plain": [
       "Run(Experiment: decisiontree-explore,\n",
       "Id: da5eedc3-bac5-4e15-a716-c8273af5a5b8,\n",
       "Type: None,\n",
       "Status: Completed)"
      ]
     },
     "execution_count": 22,
     "metadata": {},
     "output_type": "execute_result"
    }
   ],
   "source": [
    "run"
   ]
  },
  {
   "cell_type": "code",
   "execution_count": null,
   "metadata": {},
   "outputs": [],
   "source": []
  }
 ],
 "metadata": {
  "kernelspec": {
   "display_name": "myenv",
   "language": "python",
   "name": "myenv"
  },
  "language_info": {
   "codemirror_mode": {
    "name": "ipython",
    "version": 3
   },
   "file_extension": ".py",
   "mimetype": "text/x-python",
   "name": "python",
   "nbconvert_exporter": "python",
   "pygments_lexer": "ipython3",
   "version": "3.6.8"
  }
 },
 "nbformat": 4,
 "nbformat_minor": 2
}
