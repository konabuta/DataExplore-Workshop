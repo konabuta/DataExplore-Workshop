{
 "cells": [
  {
   "cell_type": "markdown",
   "metadata": {},
   "source": [
    "# 自動機械学習 Automated Machine Learning による離反予測モデリング & モデル解釈 (リモート高速実行)\n",
    "\n",
    "\n",
    "顧客属性データを用いて離反予測モデルを開発します。\n",
    "- Python SDK のインポート\n",
    "- Azure ML service Workspace への接続\n",
    "- Experiment の作成\n",
    "- データの準備\n",
    "- 計算環境の準備\n",
    "- 自動機械学習の事前設定\n",
    "- モデル学習と結果の確認\n",
    "- モデル解釈"
   ]
  },
  {
   "cell_type": "markdown",
   "metadata": {},
   "source": [
    "## 1. 事前準備\n",
    "### Python SDK のインポート\n",
    "Azure Machine Learning service の Python SDKをインポートします"
   ]
  },
  {
   "cell_type": "code",
   "execution_count": 1,
   "metadata": {},
   "outputs": [],
   "source": [
    "import logging\n",
    "\n",
    "from matplotlib import pyplot as plt\n",
    "import pandas as pd\n",
    "import os\n",
    "\n",
    "import azureml.core\n",
    "from azureml.core.experiment import Experiment\n",
    "from azureml.core.workspace import Workspace\n",
    "from azureml.core.dataset import Dataset\n",
    "from azureml.train.automl import AutoMLConfig"
   ]
  },
  {
   "cell_type": "markdown",
   "metadata": {},
   "source": [
    "### Azure ML workspace との接続\n",
    "Azure Machine Learning service との接続を行います。Azure に対する認証が必要です。"
   ]
  },
  {
   "cell_type": "code",
   "execution_count": 2,
   "metadata": {},
   "outputs": [
    {
     "name": "stdout",
     "output_type": "stream",
     "text": [
      "azureml\teastus\tmlservice\teastus\n"
     ]
    }
   ],
   "source": [
    "ws = Workspace.from_config()\n",
    "print(ws.name, ws.location, ws.resource_group, ws.location, sep = '\\t')"
   ]
  },
  {
   "cell_type": "markdown",
   "metadata": {},
   "source": [
    "### 実験名の設定"
   ]
  },
  {
   "cell_type": "code",
   "execution_count": 3,
   "metadata": {},
   "outputs": [],
   "source": [
    "# choose a name for experiment\n",
    "experiment_name = 'automl-classification-churn-remote'\n",
    "experiment=Experiment(ws, experiment_name)"
   ]
  },
  {
   "cell_type": "markdown",
   "metadata": {},
   "source": [
    "### 学習データの準備"
   ]
  },
  {
   "cell_type": "markdown",
   "metadata": {},
   "source": [
    "Azure Machine Learning service の計算環境 (Machine Learning Compute) で学習を回すために、Azure Machine Learning service の Dataset のフォーマットでデータを定義します。"
   ]
  },
  {
   "cell_type": "code",
   "execution_count": 4,
   "metadata": {},
   "outputs": [],
   "source": [
    "data = \"https://amlgitsamples.blob.core.windows.net/churn/CATelcoCustomerChurnTrainingSample.csv\"\n",
    "dataset = Dataset.Tabular.from_delimited_files(data)"
   ]
  },
  {
   "cell_type": "code",
   "execution_count": 5,
   "metadata": {},
   "outputs": [
    {
     "data": {
      "text/html": [
       "<div>\n",
       "<style scoped>\n",
       "    .dataframe tbody tr th:only-of-type {\n",
       "        vertical-align: middle;\n",
       "    }\n",
       "\n",
       "    .dataframe tbody tr th {\n",
       "        vertical-align: top;\n",
       "    }\n",
       "\n",
       "    .dataframe thead th {\n",
       "        text-align: right;\n",
       "    }\n",
       "</style>\n",
       "<table border=\"1\" class=\"dataframe\">\n",
       "  <thead>\n",
       "    <tr style=\"text-align: right;\">\n",
       "      <th></th>\n",
       "      <th>age</th>\n",
       "      <th>annualincome</th>\n",
       "      <th>calldroprate</th>\n",
       "      <th>callfailurerate</th>\n",
       "      <th>callingnum</th>\n",
       "      <th>customerid</th>\n",
       "      <th>customersuspended</th>\n",
       "      <th>education</th>\n",
       "      <th>gender</th>\n",
       "      <th>homeowner</th>\n",
       "      <th>...</th>\n",
       "      <th>totalminsusedinlastmonth</th>\n",
       "      <th>unpaidbalance</th>\n",
       "      <th>usesinternetservice</th>\n",
       "      <th>usesvoiceservice</th>\n",
       "      <th>percentagecalloutsidenetwork</th>\n",
       "      <th>totalcallduration</th>\n",
       "      <th>avgcallduration</th>\n",
       "      <th>churn</th>\n",
       "      <th>year</th>\n",
       "      <th>month</th>\n",
       "    </tr>\n",
       "  </thead>\n",
       "  <tbody>\n",
       "    <tr>\n",
       "      <th>0</th>\n",
       "      <td>12</td>\n",
       "      <td>168147</td>\n",
       "      <td>0.06</td>\n",
       "      <td>0.00</td>\n",
       "      <td>4251078442</td>\n",
       "      <td>1</td>\n",
       "      <td>True</td>\n",
       "      <td>Bachelor or equivalent</td>\n",
       "      <td>Male</td>\n",
       "      <td>True</td>\n",
       "      <td>...</td>\n",
       "      <td>15</td>\n",
       "      <td>19</td>\n",
       "      <td>False</td>\n",
       "      <td>False</td>\n",
       "      <td>0.82</td>\n",
       "      <td>5971</td>\n",
       "      <td>663</td>\n",
       "      <td>0</td>\n",
       "      <td>2015</td>\n",
       "      <td>1</td>\n",
       "    </tr>\n",
       "    <tr>\n",
       "      <th>1</th>\n",
       "      <td>12</td>\n",
       "      <td>168147</td>\n",
       "      <td>0.06</td>\n",
       "      <td>0.00</td>\n",
       "      <td>4251078442</td>\n",
       "      <td>1</td>\n",
       "      <td>True</td>\n",
       "      <td>Bachelor or equivalent</td>\n",
       "      <td>Male</td>\n",
       "      <td>True</td>\n",
       "      <td>...</td>\n",
       "      <td>15</td>\n",
       "      <td>19</td>\n",
       "      <td>False</td>\n",
       "      <td>False</td>\n",
       "      <td>0.82</td>\n",
       "      <td>3981</td>\n",
       "      <td>995</td>\n",
       "      <td>0</td>\n",
       "      <td>2015</td>\n",
       "      <td>2</td>\n",
       "    </tr>\n",
       "    <tr>\n",
       "      <th>2</th>\n",
       "      <td>42</td>\n",
       "      <td>29047</td>\n",
       "      <td>0.05</td>\n",
       "      <td>0.01</td>\n",
       "      <td>4251043419</td>\n",
       "      <td>2</td>\n",
       "      <td>True</td>\n",
       "      <td>Bachelor or equivalent</td>\n",
       "      <td>Female</td>\n",
       "      <td>True</td>\n",
       "      <td>...</td>\n",
       "      <td>212</td>\n",
       "      <td>34</td>\n",
       "      <td>False</td>\n",
       "      <td>True</td>\n",
       "      <td>0.27</td>\n",
       "      <td>7379</td>\n",
       "      <td>737</td>\n",
       "      <td>0</td>\n",
       "      <td>2015</td>\n",
       "      <td>1</td>\n",
       "    </tr>\n",
       "    <tr>\n",
       "      <th>3</th>\n",
       "      <td>42</td>\n",
       "      <td>29047</td>\n",
       "      <td>0.05</td>\n",
       "      <td>0.01</td>\n",
       "      <td>4251043419</td>\n",
       "      <td>2</td>\n",
       "      <td>True</td>\n",
       "      <td>Bachelor or equivalent</td>\n",
       "      <td>Female</td>\n",
       "      <td>True</td>\n",
       "      <td>...</td>\n",
       "      <td>212</td>\n",
       "      <td>34</td>\n",
       "      <td>False</td>\n",
       "      <td>True</td>\n",
       "      <td>0.27</td>\n",
       "      <td>1729</td>\n",
       "      <td>432</td>\n",
       "      <td>0</td>\n",
       "      <td>2015</td>\n",
       "      <td>2</td>\n",
       "    </tr>\n",
       "    <tr>\n",
       "      <th>4</th>\n",
       "      <td>58</td>\n",
       "      <td>27076</td>\n",
       "      <td>0.07</td>\n",
       "      <td>0.02</td>\n",
       "      <td>4251055773</td>\n",
       "      <td>3</td>\n",
       "      <td>True</td>\n",
       "      <td>Master or equivalent</td>\n",
       "      <td>Female</td>\n",
       "      <td>True</td>\n",
       "      <td>...</td>\n",
       "      <td>216</td>\n",
       "      <td>144</td>\n",
       "      <td>False</td>\n",
       "      <td>False</td>\n",
       "      <td>0.48</td>\n",
       "      <td>3122</td>\n",
       "      <td>624</td>\n",
       "      <td>0</td>\n",
       "      <td>2015</td>\n",
       "      <td>1</td>\n",
       "    </tr>\n",
       "  </tbody>\n",
       "</table>\n",
       "<p>5 rows × 29 columns</p>\n",
       "</div>"
      ],
      "text/plain": [
       "   age  annualincome  calldroprate  callfailurerate  callingnum  customerid  \\\n",
       "0   12        168147          0.06             0.00  4251078442           1   \n",
       "1   12        168147          0.06             0.00  4251078442           1   \n",
       "2   42         29047          0.05             0.01  4251043419           2   \n",
       "3   42         29047          0.05             0.01  4251043419           2   \n",
       "4   58         27076          0.07             0.02  4251055773           3   \n",
       "\n",
       "   customersuspended               education  gender  homeowner  ...    \\\n",
       "0               True  Bachelor or equivalent    Male       True  ...     \n",
       "1               True  Bachelor or equivalent    Male       True  ...     \n",
       "2               True  Bachelor or equivalent  Female       True  ...     \n",
       "3               True  Bachelor or equivalent  Female       True  ...     \n",
       "4               True    Master or equivalent  Female       True  ...     \n",
       "\n",
       "  totalminsusedinlastmonth  unpaidbalance usesinternetservice  \\\n",
       "0                       15             19               False   \n",
       "1                       15             19               False   \n",
       "2                      212             34               False   \n",
       "3                      212             34               False   \n",
       "4                      216            144               False   \n",
       "\n",
       "   usesvoiceservice  percentagecalloutsidenetwork  totalcallduration  \\\n",
       "0             False                          0.82               5971   \n",
       "1             False                          0.82               3981   \n",
       "2              True                          0.27               7379   \n",
       "3              True                          0.27               1729   \n",
       "4             False                          0.48               3122   \n",
       "\n",
       "  avgcallduration  churn  year  month  \n",
       "0             663      0  2015      1  \n",
       "1             995      0  2015      2  \n",
       "2             737      0  2015      1  \n",
       "3             432      0  2015      2  \n",
       "4             624      0  2015      1  \n",
       "\n",
       "[5 rows x 29 columns]"
      ]
     },
     "execution_count": 5,
     "metadata": {},
     "output_type": "execute_result"
    }
   ],
   "source": [
    "dataset.take(5).to_pandas_dataframe()"
   ]
  },
  {
   "cell_type": "code",
   "execution_count": 6,
   "metadata": {},
   "outputs": [],
   "source": [
    "train_dataset, test_dataset = dataset.random_split(0.8, seed=1234)"
   ]
  },
  {
   "cell_type": "code",
   "execution_count": 7,
   "metadata": {},
   "outputs": [],
   "source": [
    "X_train = train_dataset.drop_columns(columns=['churn'])\n",
    "y_train = train_dataset.keep_columns(columns=['churn'], validate=True)\n",
    "X_test  = test_dataset.drop_columns(columns=['churn'])\n",
    "y_test  = test_dataset.keep_columns(columns=['churn'], validate=True)"
   ]
  },
  {
   "cell_type": "markdown",
   "metadata": {},
   "source": [
    "### 計算環境 (Machine Learning Compute) の設定"
   ]
  },
  {
   "cell_type": "code",
   "execution_count": 8,
   "metadata": {},
   "outputs": [],
   "source": [
    "# 予め cpucluster という名称の Machine Learning Compute を作成しておく\n",
    "from azureml.core.compute import ComputeTarget\n",
    "compute_target = ComputeTarget(ws, \"cpucluster\")"
   ]
  },
  {
   "cell_type": "code",
   "execution_count": 9,
   "metadata": {},
   "outputs": [],
   "source": [
    "from azureml.core.runconfig import RunConfiguration\n",
    "from azureml.core.conda_dependencies import CondaDependencies\n",
    "import pkg_resources\n",
    "\n",
    "# create a new RunConfig object\n",
    "conda_run_config = RunConfiguration(framework=\"python\")\n",
    "\n",
    "# Set compute target to AmlCompute\n",
    "conda_run_config.target = compute_target\n",
    "conda_run_config.environment.docker.enabled = True\n",
    "\n",
    "cd = CondaDependencies.create(conda_packages=['numpy','py-xgboost<=0.80', 'tensorflow>=1.10.0,<=1.12.0'])\n",
    "conda_run_config.environment.python.conda_dependencies = cd"
   ]
  },
  {
   "cell_type": "markdown",
   "metadata": {},
   "source": [
    "## 2. 自動機械学習 Automated Machine Learning\n",
    "### 学習事前設定"
   ]
  },
  {
   "cell_type": "code",
   "execution_count": 10,
   "metadata": {},
   "outputs": [],
   "source": [
    "automl_settings = {\n",
    "    \"iteration_timeout_minutes\": 5,\n",
    "    \"iterations\": 50,\n",
    "    \"n_cross_validations\": 2,\n",
    "    \"primary_metric\": 'AUC_weighted',\n",
    "    \"preprocess\": True,\n",
    "    \"enable_voting_ensemble\": False,\n",
    "    \"enable_stack_ensemble\": False\n",
    "}\n",
    "\n",
    "automl_config = AutoMLConfig(task = 'classification',\n",
    "                             X = X_train,\n",
    "                             y = y_train,\n",
    "                             run_configuration=conda_run_config,\n",
    "                             max_concurrent_iterations = 10,\n",
    "                             **automl_settings\n",
    "                            )"
   ]
  },
  {
   "cell_type": "markdown",
   "metadata": {},
   "source": [
    "### 実行と結果確認"
   ]
  },
  {
   "cell_type": "code",
   "execution_count": 11,
   "metadata": {},
   "outputs": [
    {
     "name": "stdout",
     "output_type": "stream",
     "text": [
      "Running on remote compute: cpucluster\n",
      "Parent Run ID: AutoML_070370e8-7d94-4276-a952-035bc896e274\n",
      "Current status: FeaturesGeneration. Generating features for the dataset.\n",
      "Current status: ModelSelection. Beginning model selection.\n",
      "\n",
      "****************************************************************************************************\n",
      "ITERATION: The iteration being evaluated.\n",
      "PIPELINE: A summary description of the pipeline being evaluated.\n",
      "DURATION: Time taken for the current iteration.\n",
      "METRIC: The result of computing score on the fitted pipeline.\n",
      "BEST: The best observed score thus far.\n",
      "****************************************************************************************************\n",
      "\n",
      " ITERATION   PIPELINE                                       DURATION      METRIC      BEST\n",
      "         9   StandardScalerWrapper XGBoostClassifier        0:03:42       0.7745    0.7745\n",
      "         8   MaxAbsScaler SGD                               0:04:28       0.6622    0.7745\n",
      "         7   MaxAbsScaler ExtremeRandomTrees                0:04:06       0.6529    0.7745\n",
      "         6   MaxAbsScaler SGD                               0:04:17       0.6562    0.7745\n",
      "         5   MaxAbsScaler RandomForest                      0:04:34       0.7049    0.7745\n",
      "         4   SparseNormalizer XGBoostClassifier             0:03:32       0.7083    0.7745\n",
      "         3   StandardScalerWrapper LightGBM                 0:03:31       0.7280    0.7745\n",
      "         2   MaxAbsScaler SGD                               0:04:37       0.6610    0.7745\n",
      "         1   StandardScalerWrapper XGBoostClassifier        0:04:31       0.7295    0.7745\n",
      "         0   MaxAbsScaler LightGBM                          0:03:42       0.7268    0.7745\n",
      "        13   MaxAbsScaler LightGBM                          0:04:22       0.7541    0.7745\n",
      "        12   MaxAbsScaler BernoulliNaiveBayes               0:04:23       0.5966    0.7745\n",
      "        11   MaxAbsScaler LightGBM                          0:04:26       0.7260    0.7745\n",
      "        10   MaxAbsScaler RandomForest                      0:04:27       0.6832    0.7745\n",
      "        14   MaxAbsScaler ExtremeRandomTrees                0:04:32       0.6891    0.7745\n",
      "        17   MaxAbsScaler LightGBM                          0:04:24       0.7457    0.7745\n",
      "        16   MaxAbsScaler SGD                               0:04:26       0.6445    0.7745\n",
      "        15   MaxAbsScaler ExtremeRandomTrees                0:04:34       0.6750    0.7745\n",
      "        19   SparseNormalizer LogisticRegression            0:04:34       0.5044    0.7745\n",
      "        18   StandardScalerWrapper BernoulliNaiveBayes      0:04:33       0.5660    0.7745\n",
      "        21   StandardScalerWrapper LogisticRegression       0:03:16       0.4905    0.7745\n",
      "        20   StandardScalerWrapper XGBoostClassifier        0:03:17       0.7195    0.7745\n",
      "        26   StandardScalerWrapper XGBoostClassifier        0:03:21       0.7942    0.7942\n",
      "        25   StandardScalerWrapper XGBoostClassifier        0:03:22       0.7854    0.7942\n",
      "        23   StandardScalerWrapper XGBoostClassifier        0:03:53       0.7902    0.7942\n",
      "        22   StandardScalerWrapper XGBoostClassifier        0:03:53       0.8334    0.8334\n",
      "        27   StandardScalerWrapper XGBoostClassifier        0:03:36       0.8349    0.8349\n",
      "        29   StandardScalerWrapper XGBoostClassifier        0:03:26       0.8418    0.8418\n",
      "        28   MaxAbsScaler LightGBM                          0:03:32       0.7542    0.8418\n",
      "        24   StandardScalerWrapper XGBoostClassifier        0:04:05       0.8242    0.8418\n",
      "        30   StandardScalerWrapper XGBoostClassifier        0:03:00       0.8488    0.8488\n",
      "        35   MaxAbsScaler GradientBoosting                  0:02:16       0.7036    0.8488\n",
      "        34   StandardScalerWrapper XGBoostClassifier        0:02:08       0.7745    0.8488\n",
      "        33   StandardScalerWrapper XGBoostClassifier        0:02:04       0.8428    0.8488\n",
      "        36   StandardScalerWrapper XGBoostClassifier        0:02:17       0.7395    0.8488\n",
      "        32   StandardScalerWrapper XGBoostClassifier        0:02:26       0.8201    0.8488\n",
      "        31   StandardScalerWrapper XGBoostClassifier        0:03:39       0.8499    0.8499\n",
      "        39   StandardScalerWrapper XGBoostClassifier        0:02:32       0.7435    0.8499\n",
      "        37   StandardScalerWrapper XGBoostClassifier        0:02:58       0.8296    0.8499\n",
      "        38   StandardScalerWrapper XGBoostClassifier        0:03:31       0.8353    0.8499\n",
      "        41   MaxAbsScaler LogisticRegression                0:02:11       0.6558    0.8499\n",
      "        42   StandardScalerWrapper XGBoostClassifier        0:02:20       0.7970    0.8499\n",
      "        43   SparseNormalizer XGBoostClassifier             0:02:24       0.8105    0.8499\n",
      "        40   StandardScalerWrapper XGBoostClassifier        0:02:37       0.8318    0.8499\n",
      "        47   StandardScalerWrapper XGBoostClassifier        0:02:19       0.8292    0.8499\n",
      "        45   StandardScalerWrapper XGBoostClassifier        0:02:33       0.8327    0.8499\n",
      "        46   StandardScalerWrapper XGBoostClassifier        0:02:39       0.8108    0.8499\n",
      "        44   StandardScalerWrapper XGBoostClassifier        0:02:43       0.8511    0.8511\n",
      "        48   StandardScalerWrapper XGBoostClassifier        0:02:36       0.8444    0.8511\n",
      "        49   StandardScalerWrapper XGBoostClassifier        0:02:50       0.7709    0.8511\n"
     ]
    }
   ],
   "source": [
    "remote_run = experiment.submit(automl_config, show_output = True)"
   ]
  },
  {
   "cell_type": "code",
   "execution_count": 12,
   "metadata": {},
   "outputs": [
    {
     "data": {
      "application/vnd.jupyter.widget-view+json": {
       "model_id": "982a8e6c0a104055be6b5ff073f8d71a",
       "version_major": 2,
       "version_minor": 0
      },
      "text/plain": [
       "_AutoMLWidget(widget_settings={'childWidgetDisplay': 'popup', 'send_telemetry': True, 'log_level': 'INFO', 'sd…"
      ]
     },
     "metadata": {},
     "output_type": "display_data"
    }
   ],
   "source": [
    "from azureml.widgets import RunDetails\n",
    "RunDetails(remote_run).show()"
   ]
  },
  {
   "cell_type": "code",
   "execution_count": 13,
   "metadata": {},
   "outputs": [
    {
     "data": {
      "text/plain": [
       "{'runId': 'AutoML_070370e8-7d94-4276-a952-035bc896e274',\n",
       " 'target': 'cpucluster',\n",
       " 'status': 'Completed',\n",
       " 'startTimeUtc': '2019-10-02T16:25:52.408424Z',\n",
       " 'endTimeUtc': '2019-10-02T16:45:27.614937Z',\n",
       " 'properties': {'num_iterations': '50',\n",
       "  'training_type': 'TrainFull',\n",
       "  'acquisition_function': 'EI',\n",
       "  'primary_metric': 'AUC_weighted',\n",
       "  'train_split': '0',\n",
       "  'MaxTimeSeconds': '300',\n",
       "  'acquisition_parameter': '0',\n",
       "  'num_cross_validation': '2',\n",
       "  'target': 'cpucluster',\n",
       "  'RawAMLSettingsString': \"{'name': 'automl-classification-churn-remote', 'path': None, 'subscription_id': '9c0f91b8-eb2f-484c-979c-15848c098a6b', 'resource_group': 'mlservice', 'workspace_name': 'azureml', 'region': 'eastus', 'compute_target': 'cpucluster', 'spark_service': None, 'iterations': 50, 'primary_metric': 'AUC_weighted', 'task_type': 'classification', 'data_script': None, 'validation_size': 0.0, 'n_cross_validations': 2, 'y_min': None, 'y_max': None, 'num_classes': None, 'preprocess': True, 'lag_length': 0, 'is_timeseries': False, 'max_cores_per_iteration': 1, 'max_concurrent_iterations': 10, 'iteration_timeout_minutes': 5, 'mem_in_mb': None, 'enforce_time_on_windows': False, 'experiment_timeout_minutes': None, 'experiment_exit_score': None, 'whitelist_models': None, 'blacklist_algos': None, 'supported_models': ['LogisticRegression', 'SGD', 'MultinomialNaiveBayes', 'BernoulliNaiveBayes', 'SVM', 'LinearSVM', 'KNN', 'DecisionTree', 'RandomForest', 'ExtremeRandomTrees', 'LightGBM', 'XGBoostClassifier', 'NimbusMLAveragedPerceptronClassifier', 'NimbusMLLinearSVMClassifier', 'CatBoostClassifier', 'GradientBoosting', 'TensorFlowDNN', 'TensorFlowLinearClassifier'], 'auto_blacklist': True, 'blacklist_samples_reached': False, 'exclude_nan_labels': True, 'verbosity': 20, 'debug_log': 'azureml_automl.log', 'show_warnings': False, 'model_explainability': False, 'service_url': None, 'sdk_url': None, 'sdk_packages': None, 'enable_onnx_compatible_models': False, 'enable_feature_sweeping': True, 'telemetry_verbosity': 'INFO', 'send_telemetry': True, 'enable_early_stopping': False, 'early_stopping_n_iters': 10, 'metrics': None, 'enable_ensembling': False, 'enable_stack_ensembling': False, 'ensemble_iterations': 15, 'enable_tf': False, 'enable_cache': True, 'enable_subsampling': False, 'subsample_seed': None, 'enable_nimbusml': False, 'use_incremental_learning': False, 'label_column_name': None, 'weight_column_name': None, 'cost_mode': 0, 'metric_operation': 'maximize'}\",\n",
       "  'AMLSettingsJsonString': '{\"name\": \"automl-classification-churn-remote\", \"path\": null, \"subscription_id\": \"9c0f91b8-eb2f-484c-979c-15848c098a6b\", \"resource_group\": \"mlservice\", \"workspace_name\": \"azureml\", \"region\": \"eastus\", \"compute_target\": \"cpucluster\", \"spark_service\": null, \"iterations\": 50, \"primary_metric\": \"AUC_weighted\", \"task_type\": \"classification\", \"data_script\": null, \"validation_size\": 0.0, \"n_cross_validations\": 2, \"y_min\": null, \"y_max\": null, \"num_classes\": null, \"preprocess\": true, \"lag_length\": 0, \"is_timeseries\": false, \"max_cores_per_iteration\": 1, \"max_concurrent_iterations\": 10, \"iteration_timeout_minutes\": 5, \"mem_in_mb\": null, \"enforce_time_on_windows\": false, \"experiment_timeout_minutes\": null, \"experiment_exit_score\": null, \"whitelist_models\": null, \"blacklist_algos\": null, \"supported_models\": [\"LogisticRegression\", \"SGD\", \"MultinomialNaiveBayes\", \"BernoulliNaiveBayes\", \"SVM\", \"LinearSVM\", \"KNN\", \"DecisionTree\", \"RandomForest\", \"ExtremeRandomTrees\", \"LightGBM\", \"XGBoostClassifier\", \"NimbusMLAveragedPerceptronClassifier\", \"NimbusMLLinearSVMClassifier\", \"CatBoostClassifier\", \"GradientBoosting\", \"TensorFlowDNN\", \"TensorFlowLinearClassifier\"], \"auto_blacklist\": true, \"blacklist_samples_reached\": false, \"exclude_nan_labels\": true, \"verbosity\": 20, \"debug_log\": \"azureml_automl.log\", \"show_warnings\": false, \"model_explainability\": false, \"service_url\": null, \"sdk_url\": null, \"sdk_packages\": null, \"enable_onnx_compatible_models\": false, \"enable_feature_sweeping\": true, \"telemetry_verbosity\": \"INFO\", \"send_telemetry\": true, \"enable_early_stopping\": false, \"early_stopping_n_iters\": 10, \"metrics\": null, \"enable_ensembling\": false, \"enable_stack_ensembling\": false, \"ensemble_iterations\": 15, \"enable_tf\": false, \"enable_cache\": true, \"enable_subsampling\": false, \"subsample_seed\": null, \"enable_nimbusml\": false, \"use_incremental_learning\": false, \"label_column_name\": null, \"weight_column_name\": null, \"cost_mode\": 0, \"metric_operation\": \"maximize\"}',\n",
       "  'DataPrepJsonString': '{\\\\\"X\\\\\": \\\\\"{\\\\\\\\\\\\\"blocks\\\\\\\\\\\\\": [{\\\\\\\\\\\\\"id\\\\\\\\\\\\\": \\\\\\\\\\\\\"46dcef49-2395-4481-a27a-d3dd35ffb1f9\\\\\\\\\\\\\", \\\\\\\\\\\\\"type\\\\\\\\\\\\\": \\\\\\\\\\\\\"Microsoft.DPrep.GetFilesBlock\\\\\\\\\\\\\", \\\\\\\\\\\\\"arguments\\\\\\\\\\\\\": {\\\\\\\\\\\\\"isArchive\\\\\\\\\\\\\": false, \\\\\\\\\\\\\"path\\\\\\\\\\\\\": {\\\\\\\\\\\\\"target\\\\\\\\\\\\\": 1, \\\\\\\\\\\\\"resourceDetails\\\\\\\\\\\\\": [{\\\\\\\\\\\\\"path\\\\\\\\\\\\\": \\\\\\\\\\\\\"https://amlgitsamples.blob.core.windows.net/churn/CATelcoCustomerChurnTrainingSample.csv\\\\\\\\\\\\\", \\\\\\\\\\\\\"sas\\\\\\\\\\\\\": null, \\\\\\\\\\\\\"storageAccountName\\\\\\\\\\\\\": null, \\\\\\\\\\\\\"storageAccountKey\\\\\\\\\\\\\": null}]}}, \\\\\\\\\\\\\"localData\\\\\\\\\\\\\": {}, \\\\\\\\\\\\\"isEnabled\\\\\\\\\\\\\": true, \\\\\\\\\\\\\"name\\\\\\\\\\\\\": null, \\\\\\\\\\\\\"annotation\\\\\\\\\\\\\": null}, {\\\\\\\\\\\\\"id\\\\\\\\\\\\\": \\\\\\\\\\\\\"e8165022-62fc-4302-9cf5-16e3daf14622\\\\\\\\\\\\\", \\\\\\\\\\\\\"type\\\\\\\\\\\\\": \\\\\\\\\\\\\"Microsoft.DPrep.ParseDelimitedBlock\\\\\\\\\\\\\", \\\\\\\\\\\\\"arguments\\\\\\\\\\\\\": {\\\\\\\\\\\\\"columnHeadersMode\\\\\\\\\\\\\": 3, \\\\\\\\\\\\\"fileEncoding\\\\\\\\\\\\\": 0, \\\\\\\\\\\\\"handleQuotedLineBreaks\\\\\\\\\\\\\": false, \\\\\\\\\\\\\"preview\\\\\\\\\\\\\": false, \\\\\\\\\\\\\"separator\\\\\\\\\\\\\": \\\\\\\\\\\\\",\\\\\\\\\\\\\", \\\\\\\\\\\\\"skipRows\\\\\\\\\\\\\": 0, \\\\\\\\\\\\\"skipRowsMode\\\\\\\\\\\\\": 0}, \\\\\\\\\\\\\"localData\\\\\\\\\\\\\": {}, \\\\\\\\\\\\\"isEnabled\\\\\\\\\\\\\": true, \\\\\\\\\\\\\"name\\\\\\\\\\\\\": null, \\\\\\\\\\\\\"annotation\\\\\\\\\\\\\": null}, {\\\\\\\\\\\\\"id\\\\\\\\\\\\\": \\\\\\\\\\\\\"437e0303-c15c-472c-b8c4-ed8c9d753ff5\\\\\\\\\\\\\", \\\\\\\\\\\\\"type\\\\\\\\\\\\\": \\\\\\\\\\\\\"Microsoft.DPrep.DropColumnsBlock\\\\\\\\\\\\\", \\\\\\\\\\\\\"arguments\\\\\\\\\\\\\": {\\\\\\\\\\\\\"columns\\\\\\\\\\\\\": {\\\\\\\\\\\\\"type\\\\\\\\\\\\\": 0, \\\\\\\\\\\\\"details\\\\\\\\\\\\\": {\\\\\\\\\\\\\"selectedColumns\\\\\\\\\\\\\": [\\\\\\\\\\\\\"Path\\\\\\\\\\\\\"]}}}, \\\\\\\\\\\\\"localData\\\\\\\\\\\\\": {}, \\\\\\\\\\\\\"isEnabled\\\\\\\\\\\\\": true, \\\\\\\\\\\\\"name\\\\\\\\\\\\\": null, \\\\\\\\\\\\\"annotation\\\\\\\\\\\\\": null}, {\\\\\\\\\\\\\"id\\\\\\\\\\\\\": \\\\\\\\\\\\\"1f9c316a-04f3-47c4-8f26-143eb9423308\\\\\\\\\\\\\", \\\\\\\\\\\\\"type\\\\\\\\\\\\\": \\\\\\\\\\\\\"Microsoft.DPrep.SetColumnTypesBlock\\\\\\\\\\\\\", \\\\\\\\\\\\\"arguments\\\\\\\\\\\\\": {\\\\\\\\\\\\\"columnConversion\\\\\\\\\\\\\": [{\\\\\\\\\\\\\"column\\\\\\\\\\\\\": {\\\\\\\\\\\\\"type\\\\\\\\\\\\\": 2, \\\\\\\\\\\\\"details\\\\\\\\\\\\\": {\\\\\\\\\\\\\"selectedColumn\\\\\\\\\\\\\": \\\\\\\\\\\\\"age\\\\\\\\\\\\\"}}, \\\\\\\\\\\\\"typeProperty\\\\\\\\\\\\\": 2}, {\\\\\\\\\\\\\"column\\\\\\\\\\\\\": {\\\\\\\\\\\\\"type\\\\\\\\\\\\\": 2, \\\\\\\\\\\\\"details\\\\\\\\\\\\\": {\\\\\\\\\\\\\"selectedColumn\\\\\\\\\\\\\": \\\\\\\\\\\\\"annualincome\\\\\\\\\\\\\"}}, \\\\\\\\\\\\\"typeProperty\\\\\\\\\\\\\": 2}, {\\\\\\\\\\\\\"column\\\\\\\\\\\\\": {\\\\\\\\\\\\\"type\\\\\\\\\\\\\": 2, \\\\\\\\\\\\\"details\\\\\\\\\\\\\": {\\\\\\\\\\\\\"selectedColumn\\\\\\\\\\\\\": \\\\\\\\\\\\\"calldroprate\\\\\\\\\\\\\"}}, \\\\\\\\\\\\\"typeProperty\\\\\\\\\\\\\": 3}, {\\\\\\\\\\\\\"column\\\\\\\\\\\\\": {\\\\\\\\\\\\\"type\\\\\\\\\\\\\": 2, \\\\\\\\\\\\\"details\\\\\\\\\\\\\": {\\\\\\\\\\\\\"selectedColumn\\\\\\\\\\\\\": \\\\\\\\\\\\\"callfailurerate\\\\\\\\\\\\\"}}, \\\\\\\\\\\\\"typeProperty\\\\\\\\\\\\\": 3}, {\\\\\\\\\\\\\"column\\\\\\\\\\\\\": {\\\\\\\\\\\\\"type\\\\\\\\\\\\\": 2, \\\\\\\\\\\\\"details\\\\\\\\\\\\\": {\\\\\\\\\\\\\"selectedColumn\\\\\\\\\\\\\": \\\\\\\\\\\\\"callingnum\\\\\\\\\\\\\"}}, \\\\\\\\\\\\\"typeProperty\\\\\\\\\\\\\": 2}, {\\\\\\\\\\\\\"column\\\\\\\\\\\\\": {\\\\\\\\\\\\\"type\\\\\\\\\\\\\": 2, \\\\\\\\\\\\\"details\\\\\\\\\\\\\": {\\\\\\\\\\\\\"selectedColumn\\\\\\\\\\\\\": \\\\\\\\\\\\\"customerid\\\\\\\\\\\\\"}}, \\\\\\\\\\\\\"typeProperty\\\\\\\\\\\\\": 2}, {\\\\\\\\\\\\\"column\\\\\\\\\\\\\": {\\\\\\\\\\\\\"type\\\\\\\\\\\\\": 2, \\\\\\\\\\\\\"details\\\\\\\\\\\\\": {\\\\\\\\\\\\\"selectedColumn\\\\\\\\\\\\\": \\\\\\\\\\\\\"customersuspended\\\\\\\\\\\\\"}}, \\\\\\\\\\\\\"typeProperty\\\\\\\\\\\\\": 1}, {\\\\\\\\\\\\\"column\\\\\\\\\\\\\": {\\\\\\\\\\\\\"type\\\\\\\\\\\\\": 2, \\\\\\\\\\\\\"details\\\\\\\\\\\\\": {\\\\\\\\\\\\\"selectedColumn\\\\\\\\\\\\\": \\\\\\\\\\\\\"education\\\\\\\\\\\\\"}}, \\\\\\\\\\\\\"typeProperty\\\\\\\\\\\\\": 0}, {\\\\\\\\\\\\\"column\\\\\\\\\\\\\": {\\\\\\\\\\\\\"type\\\\\\\\\\\\\": 2, \\\\\\\\\\\\\"details\\\\\\\\\\\\\": {\\\\\\\\\\\\\"selectedColumn\\\\\\\\\\\\\": \\\\\\\\\\\\\"gender\\\\\\\\\\\\\"}}, \\\\\\\\\\\\\"typeProperty\\\\\\\\\\\\\": 0}, {\\\\\\\\\\\\\"column\\\\\\\\\\\\\": {\\\\\\\\\\\\\"type\\\\\\\\\\\\\": 2, \\\\\\\\\\\\\"details\\\\\\\\\\\\\": {\\\\\\\\\\\\\"selectedColumn\\\\\\\\\\\\\": \\\\\\\\\\\\\"homeowner\\\\\\\\\\\\\"}}, \\\\\\\\\\\\\"typeProperty\\\\\\\\\\\\\": 1}, {\\\\\\\\\\\\\"column\\\\\\\\\\\\\": {\\\\\\\\\\\\\"type\\\\\\\\\\\\\": 2, \\\\\\\\\\\\\"details\\\\\\\\\\\\\": {\\\\\\\\\\\\\"selectedColumn\\\\\\\\\\\\\": \\\\\\\\\\\\\"maritalstatus\\\\\\\\\\\\\"}}, \\\\\\\\\\\\\"typeProperty\\\\\\\\\\\\\": 0}, {\\\\\\\\\\\\\"column\\\\\\\\\\\\\": {\\\\\\\\\\\\\"type\\\\\\\\\\\\\": 2, \\\\\\\\\\\\\"details\\\\\\\\\\\\\": {\\\\\\\\\\\\\"selectedColumn\\\\\\\\\\\\\": \\\\\\\\\\\\\"monthlybilledamount\\\\\\\\\\\\\"}}, \\\\\\\\\\\\\"typeProperty\\\\\\\\\\\\\": 2}, {\\\\\\\\\\\\\"column\\\\\\\\\\\\\": {\\\\\\\\\\\\\"type\\\\\\\\\\\\\": 2, \\\\\\\\\\\\\"details\\\\\\\\\\\\\": {\\\\\\\\\\\\\"selectedColumn\\\\\\\\\\\\\": \\\\\\\\\\\\\"noadditionallines\\\\\\\\\\\\\"}}, \\\\\\\\\\\\\"typeProperty\\\\\\\\\\\\\": 0}, {\\\\\\\\\\\\\"column\\\\\\\\\\\\\": {\\\\\\\\\\\\\"type\\\\\\\\\\\\\": 2, \\\\\\\\\\\\\"details\\\\\\\\\\\\\": {\\\\\\\\\\\\\"selectedColumn\\\\\\\\\\\\\": \\\\\\\\\\\\\"numberofcomplaints\\\\\\\\\\\\\"}}, \\\\\\\\\\\\\"typeProperty\\\\\\\\\\\\\": 2}, {\\\\\\\\\\\\\"column\\\\\\\\\\\\\": {\\\\\\\\\\\\\"type\\\\\\\\\\\\\": 2, \\\\\\\\\\\\\"details\\\\\\\\\\\\\": {\\\\\\\\\\\\\"selectedColumn\\\\\\\\\\\\\": \\\\\\\\\\\\\"numberofmonthunpaid\\\\\\\\\\\\\"}}, \\\\\\\\\\\\\"typeProperty\\\\\\\\\\\\\": 2}, {\\\\\\\\\\\\\"column\\\\\\\\\\\\\": {\\\\\\\\\\\\\"type\\\\\\\\\\\\\": 2, \\\\\\\\\\\\\"details\\\\\\\\\\\\\": {\\\\\\\\\\\\\"selectedColumn\\\\\\\\\\\\\": \\\\\\\\\\\\\"numdayscontractequipmentplanexpiring\\\\\\\\\\\\\"}}, \\\\\\\\\\\\\"typeProperty\\\\\\\\\\\\\": 2}, {\\\\\\\\\\\\\"column\\\\\\\\\\\\\": {\\\\\\\\\\\\\"type\\\\\\\\\\\\\": 2, \\\\\\\\\\\\\"details\\\\\\\\\\\\\": {\\\\\\\\\\\\\"selectedColumn\\\\\\\\\\\\\": \\\\\\\\\\\\\"occupation\\\\\\\\\\\\\"}}, \\\\\\\\\\\\\"typeProperty\\\\\\\\\\\\\": 0}, {\\\\\\\\\\\\\"column\\\\\\\\\\\\\": {\\\\\\\\\\\\\"type\\\\\\\\\\\\\": 2, \\\\\\\\\\\\\"details\\\\\\\\\\\\\": {\\\\\\\\\\\\\"selectedColumn\\\\\\\\\\\\\": \\\\\\\\\\\\\"penaltytoswitch\\\\\\\\\\\\\"}}, \\\\\\\\\\\\\"typeProperty\\\\\\\\\\\\\": 2}, {\\\\\\\\\\\\\"column\\\\\\\\\\\\\": {\\\\\\\\\\\\\"type\\\\\\\\\\\\\": 2, \\\\\\\\\\\\\"details\\\\\\\\\\\\\": {\\\\\\\\\\\\\"selectedColumn\\\\\\\\\\\\\": \\\\\\\\\\\\\"state\\\\\\\\\\\\\"}}, \\\\\\\\\\\\\"typeProperty\\\\\\\\\\\\\": 0}, {\\\\\\\\\\\\\"column\\\\\\\\\\\\\": {\\\\\\\\\\\\\"type\\\\\\\\\\\\\": 2, \\\\\\\\\\\\\"details\\\\\\\\\\\\\": {\\\\\\\\\\\\\"selectedColumn\\\\\\\\\\\\\": \\\\\\\\\\\\\"totalminsusedinlastmonth\\\\\\\\\\\\\"}}, \\\\\\\\\\\\\"typeProperty\\\\\\\\\\\\\": 2}, {\\\\\\\\\\\\\"column\\\\\\\\\\\\\": {\\\\\\\\\\\\\"type\\\\\\\\\\\\\": 2, \\\\\\\\\\\\\"details\\\\\\\\\\\\\": {\\\\\\\\\\\\\"selectedColumn\\\\\\\\\\\\\": \\\\\\\\\\\\\"unpaidbalance\\\\\\\\\\\\\"}}, \\\\\\\\\\\\\"typeProperty\\\\\\\\\\\\\": 2}, {\\\\\\\\\\\\\"column\\\\\\\\\\\\\": {\\\\\\\\\\\\\"type\\\\\\\\\\\\\": 2, \\\\\\\\\\\\\"details\\\\\\\\\\\\\": {\\\\\\\\\\\\\"selectedColumn\\\\\\\\\\\\\": \\\\\\\\\\\\\"usesinternetservice\\\\\\\\\\\\\"}}, \\\\\\\\\\\\\"typeProperty\\\\\\\\\\\\\": 1}, {\\\\\\\\\\\\\"column\\\\\\\\\\\\\": {\\\\\\\\\\\\\"type\\\\\\\\\\\\\": 2, \\\\\\\\\\\\\"details\\\\\\\\\\\\\": {\\\\\\\\\\\\\"selectedColumn\\\\\\\\\\\\\": \\\\\\\\\\\\\"usesvoiceservice\\\\\\\\\\\\\"}}, \\\\\\\\\\\\\"typeProperty\\\\\\\\\\\\\": 1}, {\\\\\\\\\\\\\"column\\\\\\\\\\\\\": {\\\\\\\\\\\\\"type\\\\\\\\\\\\\": 2, \\\\\\\\\\\\\"details\\\\\\\\\\\\\": {\\\\\\\\\\\\\"selectedColumn\\\\\\\\\\\\\": \\\\\\\\\\\\\"percentagecalloutsidenetwork\\\\\\\\\\\\\"}}, \\\\\\\\\\\\\"typeProperty\\\\\\\\\\\\\": 3}, {\\\\\\\\\\\\\"column\\\\\\\\\\\\\": {\\\\\\\\\\\\\"type\\\\\\\\\\\\\": 2, \\\\\\\\\\\\\"details\\\\\\\\\\\\\": {\\\\\\\\\\\\\"selectedColumn\\\\\\\\\\\\\": \\\\\\\\\\\\\"totalcallduration\\\\\\\\\\\\\"}}, \\\\\\\\\\\\\"typeProperty\\\\\\\\\\\\\": 2}, {\\\\\\\\\\\\\"column\\\\\\\\\\\\\": {\\\\\\\\\\\\\"type\\\\\\\\\\\\\": 2, \\\\\\\\\\\\\"details\\\\\\\\\\\\\": {\\\\\\\\\\\\\"selectedColumn\\\\\\\\\\\\\": \\\\\\\\\\\\\"avgcallduration\\\\\\\\\\\\\"}}, \\\\\\\\\\\\\"typeProperty\\\\\\\\\\\\\": 2}, {\\\\\\\\\\\\\"column\\\\\\\\\\\\\": {\\\\\\\\\\\\\"type\\\\\\\\\\\\\": 2, \\\\\\\\\\\\\"details\\\\\\\\\\\\\": {\\\\\\\\\\\\\"selectedColumn\\\\\\\\\\\\\": \\\\\\\\\\\\\"churn\\\\\\\\\\\\\"}}, \\\\\\\\\\\\\"typeProperty\\\\\\\\\\\\\": 2}, {\\\\\\\\\\\\\"column\\\\\\\\\\\\\": {\\\\\\\\\\\\\"type\\\\\\\\\\\\\": 2, \\\\\\\\\\\\\"details\\\\\\\\\\\\\": {\\\\\\\\\\\\\"selectedColumn\\\\\\\\\\\\\": \\\\\\\\\\\\\"year\\\\\\\\\\\\\"}}, \\\\\\\\\\\\\"typeProperty\\\\\\\\\\\\\": 2}, {\\\\\\\\\\\\\"column\\\\\\\\\\\\\": {\\\\\\\\\\\\\"type\\\\\\\\\\\\\": 2, \\\\\\\\\\\\\"details\\\\\\\\\\\\\": {\\\\\\\\\\\\\"selectedColumn\\\\\\\\\\\\\": \\\\\\\\\\\\\"month\\\\\\\\\\\\\"}}, \\\\\\\\\\\\\"typeProperty\\\\\\\\\\\\\": 2}]}, \\\\\\\\\\\\\"localData\\\\\\\\\\\\\": {}, \\\\\\\\\\\\\"isEnabled\\\\\\\\\\\\\": true, \\\\\\\\\\\\\"name\\\\\\\\\\\\\": null, \\\\\\\\\\\\\"annotation\\\\\\\\\\\\\": null}, {\\\\\\\\\\\\\"id\\\\\\\\\\\\\": \\\\\\\\\\\\\"d129a99b-b339-45e9-bebb-96725159c87a\\\\\\\\\\\\\", \\\\\\\\\\\\\"type\\\\\\\\\\\\\": \\\\\\\\\\\\\"Microsoft.DPrep.RandomSplitBlock\\\\\\\\\\\\\", \\\\\\\\\\\\\"arguments\\\\\\\\\\\\\": {\\\\\\\\\\\\\"probability\\\\\\\\\\\\\": 0.8, \\\\\\\\\\\\\"seed\\\\\\\\\\\\\": 1234}, \\\\\\\\\\\\\"localData\\\\\\\\\\\\\": {}, \\\\\\\\\\\\\"isEnabled\\\\\\\\\\\\\": true, \\\\\\\\\\\\\"name\\\\\\\\\\\\\": null, \\\\\\\\\\\\\"annotation\\\\\\\\\\\\\": null}, {\\\\\\\\\\\\\"id\\\\\\\\\\\\\": \\\\\\\\\\\\\"6b7c32e1-cb9b-4227-98c4-1a8db96d4852\\\\\\\\\\\\\", \\\\\\\\\\\\\"type\\\\\\\\\\\\\": \\\\\\\\\\\\\"Microsoft.DPrep.DropColumnsBlock\\\\\\\\\\\\\", \\\\\\\\\\\\\"arguments\\\\\\\\\\\\\": {\\\\\\\\\\\\\"columns\\\\\\\\\\\\\": {\\\\\\\\\\\\\"type\\\\\\\\\\\\\": 0, \\\\\\\\\\\\\"details\\\\\\\\\\\\\": {\\\\\\\\\\\\\"selectedColumns\\\\\\\\\\\\\": [\\\\\\\\\\\\\"churn\\\\\\\\\\\\\"]}}}, \\\\\\\\\\\\\"localData\\\\\\\\\\\\\": {}, \\\\\\\\\\\\\"isEnabled\\\\\\\\\\\\\": true, \\\\\\\\\\\\\"name\\\\\\\\\\\\\": null, \\\\\\\\\\\\\"annotation\\\\\\\\\\\\\": null}], \\\\\\\\\\\\\"inspectors\\\\\\\\\\\\\": [], \\\\\\\\\\\\\"meta\\\\\\\\\\\\\": {\\\\\\\\\\\\\"steps_added\\\\\\\\\\\\\": \\\\\\\\\\\\\"6\\\\\\\\\\\\\"}}\\\\\", \\\\\"y\\\\\": \\\\\"{\\\\\\\\\\\\\"blocks\\\\\\\\\\\\\": [{\\\\\\\\\\\\\"id\\\\\\\\\\\\\": \\\\\\\\\\\\\"46dcef49-2395-4481-a27a-d3dd35ffb1f9\\\\\\\\\\\\\", \\\\\\\\\\\\\"type\\\\\\\\\\\\\": \\\\\\\\\\\\\"Microsoft.DPrep.GetFilesBlock\\\\\\\\\\\\\", \\\\\\\\\\\\\"arguments\\\\\\\\\\\\\": {\\\\\\\\\\\\\"isArchive\\\\\\\\\\\\\": false, \\\\\\\\\\\\\"path\\\\\\\\\\\\\": {\\\\\\\\\\\\\"target\\\\\\\\\\\\\": 1, \\\\\\\\\\\\\"resourceDetails\\\\\\\\\\\\\": [{\\\\\\\\\\\\\"path\\\\\\\\\\\\\": \\\\\\\\\\\\\"https://amlgitsamples.blob.core.windows.net/churn/CATelcoCustomerChurnTrainingSample.csv\\\\\\\\\\\\\", \\\\\\\\\\\\\"sas\\\\\\\\\\\\\": null, \\\\\\\\\\\\\"storageAccountName\\\\\\\\\\\\\": null, \\\\\\\\\\\\\"storageAccountKey\\\\\\\\\\\\\": null}]}}, \\\\\\\\\\\\\"localData\\\\\\\\\\\\\": {}, \\\\\\\\\\\\\"isEnabled\\\\\\\\\\\\\": true, \\\\\\\\\\\\\"name\\\\\\\\\\\\\": null, \\\\\\\\\\\\\"annotation\\\\\\\\\\\\\": null}, {\\\\\\\\\\\\\"id\\\\\\\\\\\\\": \\\\\\\\\\\\\"e8165022-62fc-4302-9cf5-16e3daf14622\\\\\\\\\\\\\", \\\\\\\\\\\\\"type\\\\\\\\\\\\\": \\\\\\\\\\\\\"Microsoft.DPrep.ParseDelimitedBlock\\\\\\\\\\\\\", \\\\\\\\\\\\\"arguments\\\\\\\\\\\\\": {\\\\\\\\\\\\\"columnHeadersMode\\\\\\\\\\\\\": 3, \\\\\\\\\\\\\"fileEncoding\\\\\\\\\\\\\": 0, \\\\\\\\\\\\\"handleQuotedLineBreaks\\\\\\\\\\\\\": false, \\\\\\\\\\\\\"preview\\\\\\\\\\\\\": false, \\\\\\\\\\\\\"separator\\\\\\\\\\\\\": \\\\\\\\\\\\\",\\\\\\\\\\\\\", \\\\\\\\\\\\\"skipRows\\\\\\\\\\\\\": 0, \\\\\\\\\\\\\"skipRowsMode\\\\\\\\\\\\\": 0}, \\\\\\\\\\\\\"localData\\\\\\\\\\\\\": {}, \\\\\\\\\\\\\"isEnabled\\\\\\\\\\\\\": true, \\\\\\\\\\\\\"name\\\\\\\\\\\\\": null, \\\\\\\\\\\\\"annotation\\\\\\\\\\\\\": null}, {\\\\\\\\\\\\\"id\\\\\\\\\\\\\": \\\\\\\\\\\\\"437e0303-c15c-472c-b8c4-ed8c9d753ff5\\\\\\\\\\\\\", \\\\\\\\\\\\\"type\\\\\\\\\\\\\": \\\\\\\\\\\\\"Microsoft.DPrep.DropColumnsBlock\\\\\\\\\\\\\", \\\\\\\\\\\\\"arguments\\\\\\\\\\\\\": {\\\\\\\\\\\\\"columns\\\\\\\\\\\\\": {\\\\\\\\\\\\\"type\\\\\\\\\\\\\": 0, \\\\\\\\\\\\\"details\\\\\\\\\\\\\": {\\\\\\\\\\\\\"selectedColumns\\\\\\\\\\\\\": [\\\\\\\\\\\\\"Path\\\\\\\\\\\\\"]}}}, \\\\\\\\\\\\\"localData\\\\\\\\\\\\\": {}, \\\\\\\\\\\\\"isEnabled\\\\\\\\\\\\\": true, \\\\\\\\\\\\\"name\\\\\\\\\\\\\": null, \\\\\\\\\\\\\"annotation\\\\\\\\\\\\\": null}, {\\\\\\\\\\\\\"id\\\\\\\\\\\\\": \\\\\\\\\\\\\"1f9c316a-04f3-47c4-8f26-143eb9423308\\\\\\\\\\\\\", \\\\\\\\\\\\\"type\\\\\\\\\\\\\": \\\\\\\\\\\\\"Microsoft.DPrep.SetColumnTypesBlock\\\\\\\\\\\\\", \\\\\\\\\\\\\"arguments\\\\\\\\\\\\\": {\\\\\\\\\\\\\"columnConversion\\\\\\\\\\\\\": [{\\\\\\\\\\\\\"column\\\\\\\\\\\\\": {\\\\\\\\\\\\\"type\\\\\\\\\\\\\": 2, \\\\\\\\\\\\\"details\\\\\\\\\\\\\": {\\\\\\\\\\\\\"selectedColumn\\\\\\\\\\\\\": \\\\\\\\\\\\\"age\\\\\\\\\\\\\"}}, \\\\\\\\\\\\\"typeProperty\\\\\\\\\\\\\": 2}, {\\\\\\\\\\\\\"column\\\\\\\\\\\\\": {\\\\\\\\\\\\\"type\\\\\\\\\\\\\": 2, \\\\\\\\\\\\\"details\\\\\\\\\\\\\": {\\\\\\\\\\\\\"selectedColumn\\\\\\\\\\\\\": \\\\\\\\\\\\\"annualincome\\\\\\\\\\\\\"}}, \\\\\\\\\\\\\"typeProperty\\\\\\\\\\\\\": 2}, {\\\\\\\\\\\\\"column\\\\\\\\\\\\\": {\\\\\\\\\\\\\"type\\\\\\\\\\\\\": 2, \\\\\\\\\\\\\"details\\\\\\\\\\\\\": {\\\\\\\\\\\\\"selectedColumn\\\\\\\\\\\\\": \\\\\\\\\\\\\"calldroprate\\\\\\\\\\\\\"}}, \\\\\\\\\\\\\"typeProperty\\\\\\\\\\\\\": 3}, {\\\\\\\\\\\\\"column\\\\\\\\\\\\\": {\\\\\\\\\\\\\"type\\\\\\\\\\\\\": 2, \\\\\\\\\\\\\"details\\\\\\\\\\\\\": {\\\\\\\\\\\\\"selectedColumn\\\\\\\\\\\\\": \\\\\\\\\\\\\"callfailurerate\\\\\\\\\\\\\"}}, \\\\\\\\\\\\\"typeProperty\\\\\\\\\\\\\": 3}, {\\\\\\\\\\\\\"column\\\\\\\\\\\\\": {\\\\\\\\\\\\\"type\\\\\\\\\\\\\": 2, \\\\\\\\\\\\\"details\\\\\\\\\\\\\": {\\\\\\\\\\\\\"selectedColumn\\\\\\\\\\\\\": \\\\\\\\\\\\\"callingnum\\\\\\\\\\\\\"}}, \\\\\\\\\\\\\"typeProperty\\\\\\\\\\\\\": 2}, {\\\\\\\\\\\\\"column\\\\\\\\\\\\\": {\\\\\\\\\\\\\"type\\\\\\\\\\\\\": 2, \\\\\\\\\\\\\"details\\\\\\\\\\\\\": {\\\\\\\\\\\\\"selectedColumn\\\\\\\\\\\\\": \\\\\\\\\\\\\"customerid\\\\\\\\\\\\\"}}, \\\\\\\\\\\\\"typeProperty\\\\\\\\\\\\\": 2}, {\\\\\\\\\\\\\"column\\\\\\\\\\\\\": {\\\\\\\\\\\\\"type\\\\\\\\\\\\\": 2, \\\\\\\\\\\\\"details\\\\\\\\\\\\\": {\\\\\\\\\\\\\"selectedColumn\\\\\\\\\\\\\": \\\\\\\\\\\\\"customersuspended\\\\\\\\\\\\\"}}, \\\\\\\\\\\\\"typeProperty\\\\\\\\\\\\\": 1}, {\\\\\\\\\\\\\"column\\\\\\\\\\\\\": {\\\\\\\\\\\\\"type\\\\\\\\\\\\\": 2, \\\\\\\\\\\\\"details\\\\\\\\\\\\\": {\\\\\\\\\\\\\"selectedColumn\\\\\\\\\\\\\": \\\\\\\\\\\\\"education\\\\\\\\\\\\\"}}, \\\\\\\\\\\\\"typeProperty\\\\\\\\\\\\\": 0}, {\\\\\\\\\\\\\"column\\\\\\\\\\\\\": {\\\\\\\\\\\\\"type\\\\\\\\\\\\\": 2, \\\\\\\\\\\\\"details\\\\\\\\\\\\\": {\\\\\\\\\\\\\"selectedColumn\\\\\\\\\\\\\": \\\\\\\\\\\\\"gender\\\\\\\\\\\\\"}}, \\\\\\\\\\\\\"typeProperty\\\\\\\\\\\\\": 0}, {\\\\\\\\\\\\\"column\\\\\\\\\\\\\": {\\\\\\\\\\\\\"type\\\\\\\\\\\\\": 2, \\\\\\\\\\\\\"details\\\\\\\\\\\\\": {\\\\\\\\\\\\\"selectedColumn\\\\\\\\\\\\\": \\\\\\\\\\\\\"homeowner\\\\\\\\\\\\\"}}, \\\\\\\\\\\\\"typeProperty\\\\\\\\\\\\\": 1}, {\\\\\\\\\\\\\"column\\\\\\\\\\\\\": {\\\\\\\\\\\\\"type\\\\\\\\\\\\\": 2, \\\\\\\\\\\\\"details\\\\\\\\\\\\\": {\\\\\\\\\\\\\"selectedColumn\\\\\\\\\\\\\": \\\\\\\\\\\\\"maritalstatus\\\\\\\\\\\\\"}}, \\\\\\\\\\\\\"typeProperty\\\\\\\\\\\\\": 0}, {\\\\\\\\\\\\\"column\\\\\\\\\\\\\": {\\\\\\\\\\\\\"type\\\\\\\\\\\\\": 2, \\\\\\\\\\\\\"details\\\\\\\\\\\\\": {\\\\\\\\\\\\\"selectedColumn\\\\\\\\\\\\\": \\\\\\\\\\\\\"monthlybilledamount\\\\\\\\\\\\\"}}, \\\\\\\\\\\\\"typeProperty\\\\\\\\\\\\\": 2}, {\\\\\\\\\\\\\"column\\\\\\\\\\\\\": {\\\\\\\\\\\\\"type\\\\\\\\\\\\\": 2, \\\\\\\\\\\\\"details\\\\\\\\\\\\\": {\\\\\\\\\\\\\"selectedColumn\\\\\\\\\\\\\": \\\\\\\\\\\\\"noadditionallines\\\\\\\\\\\\\"}}, \\\\\\\\\\\\\"typeProperty\\\\\\\\\\\\\": 0}, {\\\\\\\\\\\\\"column\\\\\\\\\\\\\": {\\\\\\\\\\\\\"type\\\\\\\\\\\\\": 2, \\\\\\\\\\\\\"details\\\\\\\\\\\\\": {\\\\\\\\\\\\\"selectedColumn\\\\\\\\\\\\\": \\\\\\\\\\\\\"numberofcomplaints\\\\\\\\\\\\\"}}, \\\\\\\\\\\\\"typeProperty\\\\\\\\\\\\\": 2}, {\\\\\\\\\\\\\"column\\\\\\\\\\\\\": {\\\\\\\\\\\\\"type\\\\\\\\\\\\\": 2, \\\\\\\\\\\\\"details\\\\\\\\\\\\\": {\\\\\\\\\\\\\"selectedColumn\\\\\\\\\\\\\": \\\\\\\\\\\\\"numberofmonthunpaid\\\\\\\\\\\\\"}}, \\\\\\\\\\\\\"typeProperty\\\\\\\\\\\\\": 2}, {\\\\\\\\\\\\\"column\\\\\\\\\\\\\": {\\\\\\\\\\\\\"type\\\\\\\\\\\\\": 2, \\\\\\\\\\\\\"details\\\\\\\\\\\\\": {\\\\\\\\\\\\\"selectedColumn\\\\\\\\\\\\\": \\\\\\\\\\\\\"numdayscontractequipmentplanexpiring\\\\\\\\\\\\\"}}, \\\\\\\\\\\\\"typeProperty\\\\\\\\\\\\\": 2}, {\\\\\\\\\\\\\"column\\\\\\\\\\\\\": {\\\\\\\\\\\\\"type\\\\\\\\\\\\\": 2, \\\\\\\\\\\\\"details\\\\\\\\\\\\\": {\\\\\\\\\\\\\"selectedColumn\\\\\\\\\\\\\": \\\\\\\\\\\\\"occupation\\\\\\\\\\\\\"}}, \\\\\\\\\\\\\"typeProperty\\\\\\\\\\\\\": 0}, {\\\\\\\\\\\\\"column\\\\\\\\\\\\\": {\\\\\\\\\\\\\"type\\\\\\\\\\\\\": 2, \\\\\\\\\\\\\"details\\\\\\\\\\\\\": {\\\\\\\\\\\\\"selectedColumn\\\\\\\\\\\\\": \\\\\\\\\\\\\"penaltytoswitch\\\\\\\\\\\\\"}}, \\\\\\\\\\\\\"typeProperty\\\\\\\\\\\\\": 2}, {\\\\\\\\\\\\\"column\\\\\\\\\\\\\": {\\\\\\\\\\\\\"type\\\\\\\\\\\\\": 2, \\\\\\\\\\\\\"details\\\\\\\\\\\\\": {\\\\\\\\\\\\\"selectedColumn\\\\\\\\\\\\\": \\\\\\\\\\\\\"state\\\\\\\\\\\\\"}}, \\\\\\\\\\\\\"typeProperty\\\\\\\\\\\\\": 0}, {\\\\\\\\\\\\\"column\\\\\\\\\\\\\": {\\\\\\\\\\\\\"type\\\\\\\\\\\\\": 2, \\\\\\\\\\\\\"details\\\\\\\\\\\\\": {\\\\\\\\\\\\\"selectedColumn\\\\\\\\\\\\\": \\\\\\\\\\\\\"totalminsusedinlastmonth\\\\\\\\\\\\\"}}, \\\\\\\\\\\\\"typeProperty\\\\\\\\\\\\\": 2}, {\\\\\\\\\\\\\"column\\\\\\\\\\\\\": {\\\\\\\\\\\\\"type\\\\\\\\\\\\\": 2, \\\\\\\\\\\\\"details\\\\\\\\\\\\\": {\\\\\\\\\\\\\"selectedColumn\\\\\\\\\\\\\": \\\\\\\\\\\\\"unpaidbalance\\\\\\\\\\\\\"}}, \\\\\\\\\\\\\"typeProperty\\\\\\\\\\\\\": 2}, {\\\\\\\\\\\\\"column\\\\\\\\\\\\\": {\\\\\\\\\\\\\"type\\\\\\\\\\\\\": 2, \\\\\\\\\\\\\"details\\\\\\\\\\\\\": {\\\\\\\\\\\\\"selectedColumn\\\\\\\\\\\\\": \\\\\\\\\\\\\"usesinternetservice\\\\\\\\\\\\\"}}, \\\\\\\\\\\\\"typeProperty\\\\\\\\\\\\\": 1}, {\\\\\\\\\\\\\"column\\\\\\\\\\\\\": {\\\\\\\\\\\\\"type\\\\\\\\\\\\\": 2, \\\\\\\\\\\\\"details\\\\\\\\\\\\\": {\\\\\\\\\\\\\"selectedColumn\\\\\\\\\\\\\": \\\\\\\\\\\\\"usesvoiceservice\\\\\\\\\\\\\"}}, \\\\\\\\\\\\\"typeProperty\\\\\\\\\\\\\": 1}, {\\\\\\\\\\\\\"column\\\\\\\\\\\\\": {\\\\\\\\\\\\\"type\\\\\\\\\\\\\": 2, \\\\\\\\\\\\\"details\\\\\\\\\\\\\": {\\\\\\\\\\\\\"selectedColumn\\\\\\\\\\\\\": \\\\\\\\\\\\\"percentagecalloutsidenetwork\\\\\\\\\\\\\"}}, \\\\\\\\\\\\\"typeProperty\\\\\\\\\\\\\": 3}, {\\\\\\\\\\\\\"column\\\\\\\\\\\\\": {\\\\\\\\\\\\\"type\\\\\\\\\\\\\": 2, \\\\\\\\\\\\\"details\\\\\\\\\\\\\": {\\\\\\\\\\\\\"selectedColumn\\\\\\\\\\\\\": \\\\\\\\\\\\\"totalcallduration\\\\\\\\\\\\\"}}, \\\\\\\\\\\\\"typeProperty\\\\\\\\\\\\\": 2}, {\\\\\\\\\\\\\"column\\\\\\\\\\\\\": {\\\\\\\\\\\\\"type\\\\\\\\\\\\\": 2, \\\\\\\\\\\\\"details\\\\\\\\\\\\\": {\\\\\\\\\\\\\"selectedColumn\\\\\\\\\\\\\": \\\\\\\\\\\\\"avgcallduration\\\\\\\\\\\\\"}}, \\\\\\\\\\\\\"typeProperty\\\\\\\\\\\\\": 2}, {\\\\\\\\\\\\\"column\\\\\\\\\\\\\": {\\\\\\\\\\\\\"type\\\\\\\\\\\\\": 2, \\\\\\\\\\\\\"details\\\\\\\\\\\\\": {\\\\\\\\\\\\\"selectedColumn\\\\\\\\\\\\\": \\\\\\\\\\\\\"churn\\\\\\\\\\\\\"}}, \\\\\\\\\\\\\"typeProperty\\\\\\\\\\\\\": 2}, {\\\\\\\\\\\\\"column\\\\\\\\\\\\\": {\\\\\\\\\\\\\"type\\\\\\\\\\\\\": 2, \\\\\\\\\\\\\"details\\\\\\\\\\\\\": {\\\\\\\\\\\\\"selectedColumn\\\\\\\\\\\\\": \\\\\\\\\\\\\"year\\\\\\\\\\\\\"}}, \\\\\\\\\\\\\"typeProperty\\\\\\\\\\\\\": 2}, {\\\\\\\\\\\\\"column\\\\\\\\\\\\\": {\\\\\\\\\\\\\"type\\\\\\\\\\\\\": 2, \\\\\\\\\\\\\"details\\\\\\\\\\\\\": {\\\\\\\\\\\\\"selectedColumn\\\\\\\\\\\\\": \\\\\\\\\\\\\"month\\\\\\\\\\\\\"}}, \\\\\\\\\\\\\"typeProperty\\\\\\\\\\\\\": 2}]}, \\\\\\\\\\\\\"localData\\\\\\\\\\\\\": {}, \\\\\\\\\\\\\"isEnabled\\\\\\\\\\\\\": true, \\\\\\\\\\\\\"name\\\\\\\\\\\\\": null, \\\\\\\\\\\\\"annotation\\\\\\\\\\\\\": null}, {\\\\\\\\\\\\\"id\\\\\\\\\\\\\": \\\\\\\\\\\\\"d129a99b-b339-45e9-bebb-96725159c87a\\\\\\\\\\\\\", \\\\\\\\\\\\\"type\\\\\\\\\\\\\": \\\\\\\\\\\\\"Microsoft.DPrep.RandomSplitBlock\\\\\\\\\\\\\", \\\\\\\\\\\\\"arguments\\\\\\\\\\\\\": {\\\\\\\\\\\\\"probability\\\\\\\\\\\\\": 0.8, \\\\\\\\\\\\\"seed\\\\\\\\\\\\\": 1234}, \\\\\\\\\\\\\"localData\\\\\\\\\\\\\": {}, \\\\\\\\\\\\\"isEnabled\\\\\\\\\\\\\": true, \\\\\\\\\\\\\"name\\\\\\\\\\\\\": null, \\\\\\\\\\\\\"annotation\\\\\\\\\\\\\": null}, {\\\\\\\\\\\\\"id\\\\\\\\\\\\\": \\\\\\\\\\\\\"6fc7bcf8-6975-43c7-8992-b9ca6b514e35\\\\\\\\\\\\\", \\\\\\\\\\\\\"type\\\\\\\\\\\\\": \\\\\\\\\\\\\"Microsoft.DPrep.KeepColumnsBlock\\\\\\\\\\\\\", \\\\\\\\\\\\\"arguments\\\\\\\\\\\\\": {\\\\\\\\\\\\\"columns\\\\\\\\\\\\\": {\\\\\\\\\\\\\"type\\\\\\\\\\\\\": 0, \\\\\\\\\\\\\"details\\\\\\\\\\\\\": {\\\\\\\\\\\\\"selectedColumns\\\\\\\\\\\\\": [\\\\\\\\\\\\\"churn\\\\\\\\\\\\\"]}}}, \\\\\\\\\\\\\"localData\\\\\\\\\\\\\": {}, \\\\\\\\\\\\\"isEnabled\\\\\\\\\\\\\": true, \\\\\\\\\\\\\"name\\\\\\\\\\\\\": null, \\\\\\\\\\\\\"annotation\\\\\\\\\\\\\": null}], \\\\\\\\\\\\\"inspectors\\\\\\\\\\\\\": [], \\\\\\\\\\\\\"meta\\\\\\\\\\\\\": {\\\\\\\\\\\\\"steps_added\\\\\\\\\\\\\": \\\\\\\\\\\\\"6\\\\\\\\\\\\\"}}\\\\\", \\\\\"activities\\\\\": 0}',\n",
       "  'EnableSubsampling': 'False',\n",
       "  'runTemplate': 'AutoML',\n",
       "  'azureml.runsource': 'automl',\n",
       "  'display_task_type': 'classification',\n",
       "  'dependencies_versions': '{\"azureml-widgets\": \"1.0.62\", \"azureml-train\": \"1.0.62\", \"azureml-train-restclients-hyperdrive\": \"1.0.62\", \"azureml-train-core\": \"1.0.62\", \"azureml-train-automl\": \"1.0.62\", \"azureml-telemetry\": \"1.0.62\", \"azureml-sdk\": \"1.0.62\", \"azureml-pipeline\": \"1.0.62\", \"azureml-pipeline-steps\": \"1.0.62\", \"azureml-pipeline-core\": \"1.0.62\", \"azureml-opendatasets\": \"1.0.55\", \"azureml-explain-model\": \"1.0.62\", \"azureml-dataprep\": \"1.1.18\", \"azureml-dataprep-native\": \"13.0.3\", \"azureml-core\": \"1.0.62\", \"azureml-contrib-services\": \"1.0.62\", \"azureml-contrib-server\": \"1.0.62\", \"azureml-contrib-notebook\": \"1.0.62\", \"azureml-contrib-explain-model\": \"1.0.62\", \"azureml-contrib-datadrift\": \"1.0.55\", \"azureml-automl-core\": \"1.0.62\"}',\n",
       "  'snapshotId': '',\n",
       "  'SetupRunId': 'AutoML_070370e8-7d94-4276-a952-035bc896e274_setup',\n",
       "  'ProblemInfoJsonString': '{\"dataset_num_categorical\": 0, \"is_sparse\": true, \"subsampling\": false, \"dataset_classes\": 2, \"dataset_features\": 92, \"dataset_samples\": 16332, \"single_frequency_class_detected\": false}',\n",
       "  'azureml.git.repository_uri': 'https://github.com/konabuta/DataExplore-Workshop.git',\n",
       "  'mlflow.source.git.repoURL': 'https://github.com/konabuta/DataExplore-Workshop.git',\n",
       "  'azureml.git.branch': 'master',\n",
       "  'mlflow.source.git.branch': 'master',\n",
       "  'azureml.git.commit': 'b017d7d63487841c6625d46e115cddbbc1bf15ac',\n",
       "  'mlflow.source.git.commit': 'b017d7d63487841c6625d46e115cddbbc1bf15ac',\n",
       "  'azureml.git.dirty': 'True'},\n",
       " 'logFiles': {}}"
      ]
     },
     "execution_count": 13,
     "metadata": {},
     "output_type": "execute_result"
    }
   ],
   "source": [
    "# 詳細ログの出力\n",
    "remote_run.get_details()"
   ]
  },
  {
   "cell_type": "code",
   "execution_count": 14,
   "metadata": {},
   "outputs": [
    {
     "data": {
      "text/html": [
       "<table style=\"width:100%\"><tr><th>Experiment</th><th>Id</th><th>Type</th><th>Status</th><th>Details Page</th><th>Docs Page</th></tr><tr><td>automl-classification-churn-remote</td><td>AutoML_070370e8-7d94-4276-a952-035bc896e274_44</td><td>azureml.scriptrun</td><td>Completed</td><td><a href=\"https://mlworkspace.azure.ai/portal/subscriptions/9c0f91b8-eb2f-484c-979c-15848c098a6b/resourceGroups/mlservice/providers/Microsoft.MachineLearningServices/workspaces/azureml/experiments/automl-classification-churn-remote/runs/AutoML_070370e8-7d94-4276-a952-035bc896e274_44\" target=\"_blank\" rel=\"noopener\">Link to Azure Portal</a></td><td><a href=\"https://docs.microsoft.com/en-us/python/api/azureml-core/azureml.core.run.Run?view=azure-ml-py\" target=\"_blank\" rel=\"noopener\">Link to Documentation</a></td></tr></table>"
      ],
      "text/plain": [
       "Run(Experiment: automl-classification-churn-remote,\n",
       "Id: AutoML_070370e8-7d94-4276-a952-035bc896e274_44,\n",
       "Type: azureml.scriptrun,\n",
       "Status: Completed)"
      ]
     },
     "execution_count": 14,
     "metadata": {},
     "output_type": "execute_result"
    }
   ],
   "source": [
    "best_run, fitted_model = remote_run.get_output()\n",
    "best_run"
   ]
  },
  {
   "cell_type": "markdown",
   "metadata": {},
   "source": [
    "### モデルの理解"
   ]
  },
  {
   "cell_type": "code",
   "execution_count": 15,
   "metadata": {},
   "outputs": [
    {
     "data": {
      "text/plain": [
       "[{'RawFeatureName': 'age',\n",
       "  'TypeDetected': 'Numeric',\n",
       "  'Dropped': 'No',\n",
       "  'EngineeredFeatureCount': 1,\n",
       "  'Tranformations': ['MeanImputer']},\n",
       " {'RawFeatureName': 'annualincome',\n",
       "  'TypeDetected': 'Numeric',\n",
       "  'Dropped': 'No',\n",
       "  'EngineeredFeatureCount': 1,\n",
       "  'Tranformations': ['MeanImputer']},\n",
       " {'RawFeatureName': 'calldroprate',\n",
       "  'TypeDetected': 'Numeric',\n",
       "  'Dropped': 'No',\n",
       "  'EngineeredFeatureCount': 1,\n",
       "  'Tranformations': ['MeanImputer']},\n",
       " {'RawFeatureName': 'callfailurerate',\n",
       "  'TypeDetected': 'Numeric',\n",
       "  'Dropped': 'No',\n",
       "  'EngineeredFeatureCount': 1,\n",
       "  'Tranformations': ['MeanImputer']},\n",
       " {'RawFeatureName': 'callingnum',\n",
       "  'TypeDetected': 'Numeric',\n",
       "  'Dropped': 'No',\n",
       "  'EngineeredFeatureCount': 1,\n",
       "  'Tranformations': ['MeanImputer']},\n",
       " {'RawFeatureName': 'customerid',\n",
       "  'TypeDetected': 'Numeric',\n",
       "  'Dropped': 'No',\n",
       "  'EngineeredFeatureCount': 1,\n",
       "  'Tranformations': ['MeanImputer']},\n",
       " {'RawFeatureName': 'monthlybilledamount',\n",
       "  'TypeDetected': 'Numeric',\n",
       "  'Dropped': 'No',\n",
       "  'EngineeredFeatureCount': 1,\n",
       "  'Tranformations': ['MeanImputer']},\n",
       " {'RawFeatureName': 'numdayscontractequipmentplanexpiring',\n",
       "  'TypeDetected': 'Numeric',\n",
       "  'Dropped': 'No',\n",
       "  'EngineeredFeatureCount': 1,\n",
       "  'Tranformations': ['MeanImputer']},\n",
       " {'RawFeatureName': 'penaltytoswitch',\n",
       "  'TypeDetected': 'Numeric',\n",
       "  'Dropped': 'No',\n",
       "  'EngineeredFeatureCount': 1,\n",
       "  'Tranformations': ['MeanImputer']},\n",
       " {'RawFeatureName': 'totalminsusedinlastmonth',\n",
       "  'TypeDetected': 'Numeric',\n",
       "  'Dropped': 'No',\n",
       "  'EngineeredFeatureCount': 1,\n",
       "  'Tranformations': ['MeanImputer']},\n",
       " {'RawFeatureName': 'unpaidbalance',\n",
       "  'TypeDetected': 'Numeric',\n",
       "  'Dropped': 'No',\n",
       "  'EngineeredFeatureCount': 1,\n",
       "  'Tranformations': ['MeanImputer']},\n",
       " {'RawFeatureName': 'percentagecalloutsidenetwork',\n",
       "  'TypeDetected': 'Numeric',\n",
       "  'Dropped': 'No',\n",
       "  'EngineeredFeatureCount': 1,\n",
       "  'Tranformations': ['MeanImputer']},\n",
       " {'RawFeatureName': 'totalcallduration',\n",
       "  'TypeDetected': 'Numeric',\n",
       "  'Dropped': 'No',\n",
       "  'EngineeredFeatureCount': 1,\n",
       "  'Tranformations': ['MeanImputer']},\n",
       " {'RawFeatureName': 'avgcallduration',\n",
       "  'TypeDetected': 'Numeric',\n",
       "  'Dropped': 'No',\n",
       "  'EngineeredFeatureCount': 1,\n",
       "  'Tranformations': ['MeanImputer']},\n",
       " {'RawFeatureName': 'customersuspended',\n",
       "  'TypeDetected': 'Categorical',\n",
       "  'Dropped': 'No',\n",
       "  'EngineeredFeatureCount': 1,\n",
       "  'Tranformations': ['ModeCatImputer-StringCast-LabelEncoder']},\n",
       " {'RawFeatureName': 'education',\n",
       "  'TypeDetected': 'Categorical',\n",
       "  'Dropped': 'No',\n",
       "  'EngineeredFeatureCount': 4,\n",
       "  'Tranformations': ['StringCast-CharGramCountVectorizer']},\n",
       " {'RawFeatureName': 'gender',\n",
       "  'TypeDetected': 'Categorical',\n",
       "  'Dropped': 'No',\n",
       "  'EngineeredFeatureCount': 1,\n",
       "  'Tranformations': ['ModeCatImputer-StringCast-LabelEncoder']},\n",
       " {'RawFeatureName': 'homeowner',\n",
       "  'TypeDetected': 'Categorical',\n",
       "  'Dropped': 'No',\n",
       "  'EngineeredFeatureCount': 1,\n",
       "  'Tranformations': ['ModeCatImputer-StringCast-LabelEncoder']},\n",
       " {'RawFeatureName': 'maritalstatus',\n",
       "  'TypeDetected': 'Categorical',\n",
       "  'Dropped': 'No',\n",
       "  'EngineeredFeatureCount': 1,\n",
       "  'Tranformations': ['ModeCatImputer-StringCast-LabelEncoder']},\n",
       " {'RawFeatureName': 'numberofcomplaints',\n",
       "  'TypeDetected': 'Categorical',\n",
       "  'Dropped': 'No',\n",
       "  'EngineeredFeatureCount': 4,\n",
       "  'Tranformations': ['StringCast-CharGramCountVectorizer']},\n",
       " {'RawFeatureName': 'numberofmonthunpaid',\n",
       "  'TypeDetected': 'Categorical',\n",
       "  'Dropped': 'No',\n",
       "  'EngineeredFeatureCount': 8,\n",
       "  'Tranformations': ['StringCast-CharGramCountVectorizer']},\n",
       " {'RawFeatureName': 'occupation',\n",
       "  'TypeDetected': 'Categorical',\n",
       "  'Dropped': 'No',\n",
       "  'EngineeredFeatureCount': 3,\n",
       "  'Tranformations': ['StringCast-CharGramCountVectorizer']},\n",
       " {'RawFeatureName': 'state',\n",
       "  'TypeDetected': 'Categorical',\n",
       "  'Dropped': 'No',\n",
       "  'EngineeredFeatureCount': 50,\n",
       "  'Tranformations': ['StringCast-CharGramCountVectorizer']},\n",
       " {'RawFeatureName': 'usesinternetservice',\n",
       "  'TypeDetected': 'Categorical',\n",
       "  'Dropped': 'No',\n",
       "  'EngineeredFeatureCount': 1,\n",
       "  'Tranformations': ['ModeCatImputer-StringCast-LabelEncoder']},\n",
       " {'RawFeatureName': 'usesvoiceservice',\n",
       "  'TypeDetected': 'Categorical',\n",
       "  'Dropped': 'No',\n",
       "  'EngineeredFeatureCount': 1,\n",
       "  'Tranformations': ['ModeCatImputer-StringCast-LabelEncoder']},\n",
       " {'RawFeatureName': 'month',\n",
       "  'TypeDetected': 'Categorical',\n",
       "  'Dropped': 'No',\n",
       "  'EngineeredFeatureCount': 3,\n",
       "  'Tranformations': ['StringCast-CharGramCountVectorizer']},\n",
       " {'RawFeatureName': 'noadditionallines',\n",
       "  'TypeDetected': 'Ignore',\n",
       "  'Dropped': 'Yes',\n",
       "  'EngineeredFeatureCount': 0,\n",
       "  'Tranformations': ['']},\n",
       " {'RawFeatureName': 'year',\n",
       "  'TypeDetected': 'Ignore',\n",
       "  'Dropped': 'Yes',\n",
       "  'EngineeredFeatureCount': 0,\n",
       "  'Tranformations': ['']}]"
      ]
     },
     "execution_count": 15,
     "metadata": {},
     "output_type": "execute_result"
    }
   ],
   "source": [
    "fitted_model.named_steps['datatransformer'].get_featurization_summary()"
   ]
  },
  {
   "cell_type": "code",
   "execution_count": 16,
   "metadata": {},
   "outputs": [
    {
     "name": "stdout",
     "output_type": "stream",
     "text": [
      "datatransformer\n",
      "{'enable_feature_sweeping': None,\n",
      " 'feature_sweeping_timeout': None,\n",
      " 'is_onnx_compatible': None,\n",
      " 'logger': None,\n",
      " 'observer': None,\n",
      " 'task': None}\n",
      "\n",
      "StandardScalerWrapper\n",
      "{'class_name': 'StandardScaler',\n",
      " 'copy': True,\n",
      " 'module_name': 'sklearn.preprocessing.data',\n",
      " 'with_mean': False,\n",
      " 'with_std': False}\n",
      "\n",
      "XGBoostClassifier\n",
      "{'base_score': 0.5,\n",
      " 'booster': 'gbtree',\n",
      " 'colsample_bylevel': 1,\n",
      " 'colsample_bytree': 1,\n",
      " 'eta': 0.3,\n",
      " 'gamma': 0,\n",
      " 'grow_policy': 'lossguide',\n",
      " 'learning_rate': 0.1,\n",
      " 'max_bin': 255,\n",
      " 'max_delta_step': 0,\n",
      " 'max_depth': 9,\n",
      " 'max_leaves': 31,\n",
      " 'min_child_weight': 1,\n",
      " 'missing': nan,\n",
      " 'n_estimators': 600,\n",
      " 'n_jobs': 1,\n",
      " 'nthread': None,\n",
      " 'objective': 'reg:logistic',\n",
      " 'random_state': 0,\n",
      " 'reg_alpha': 0,\n",
      " 'reg_lambda': 1.875,\n",
      " 'scale_pos_weight': 1,\n",
      " 'seed': None,\n",
      " 'silent': True,\n",
      " 'subsample': 0.8,\n",
      " 'tree_method': 'hist',\n",
      " 'verbose': -10}\n",
      "\n"
     ]
    }
   ],
   "source": [
    "from pprint import pprint\n",
    "\n",
    "\n",
    "def print_model(model, prefix=\"\"):\n",
    "    for step in model.steps:\n",
    "        print(prefix + step[0])\n",
    "        if hasattr(step[1], 'estimators') and hasattr(step[1], 'weights'):\n",
    "            pprint({'estimators': list(\n",
    "                e[0] for e in step[1].estimators), 'weights': step[1].weights})\n",
    "            print()\n",
    "            for estimator in step[1].estimators:\n",
    "                print_model(estimator[1], estimator[0] + ' - ')\n",
    "        else:\n",
    "            pprint(step[1].get_params())\n",
    "            print()\n",
    "\n",
    "\n",
    "print_model(fitted_model)"
   ]
  },
  {
   "cell_type": "markdown",
   "metadata": {},
   "source": [
    "## 3. Automated ML Explainer"
   ]
  },
  {
   "cell_type": "code",
   "execution_count": null,
   "metadata": {},
   "outputs": [
    {
     "name": "stdout",
     "output_type": "stream",
     "text": [
      "Current status: Setting up data for AutoMl explanations\n",
      "Current status: Setting up the AutoML featurization for explanations\n"
     ]
    }
   ],
   "source": [
    "from azureml.train.automl.automl_explain_utilities import AutoMLExplainerSetupClass, automl_setup_model_explanations\n",
    "\n",
    "automl_explainer_setup_obj = automl_setup_model_explanations(fitted_model, X=X_train, X_test=X_test, y=y_train, task='classification')"
   ]
  },
  {
   "cell_type": "code",
   "execution_count": null,
   "metadata": {},
   "outputs": [],
   "source": [
    "from azureml.explain.model.mimic.models.lightgbm_model import LGBMExplainableModel\n",
    "from azureml.explain.model.mimic_wrapper import MimicWrapper\n",
    "explainer = MimicWrapper(ws, automl_explainer_setup_obj.automl_estimator, LGBMExplainableModel, \n",
    "                         init_dataset=automl_explainer_setup_obj.X_transform, run=best_run,\n",
    "                         features=automl_explainer_setup_obj.engineered_feature_names, \n",
    "                         feature_maps=[automl_explainer_setup_obj.feature_map],\n",
    "                         classes=automl_explainer_setup_obj.classes)"
   ]
  },
  {
   "cell_type": "code",
   "execution_count": null,
   "metadata": {},
   "outputs": [],
   "source": [
    "raw_explanations = explainer.explain(['local', 'global'], get_raw=True, \n",
    "                                     raw_feature_names=automl_explainer_setup_obj.raw_feature_names,\n",
    "                                     eval_dataset=automl_explainer_setup_obj.X_test_transform)\n",
    "#print(raw_explanations.get_feature_importance_dict())"
   ]
  },
  {
   "cell_type": "code",
   "execution_count": null,
   "metadata": {},
   "outputs": [],
   "source": [
    "from azureml.contrib.explain.model.visualize import ExplanationDashboard\n",
    "ExplanationDashboard(raw_explanations, automl_explainer_setup_obj.automl_pipeline, automl_explainer_setup_obj.X_test_raw)"
   ]
  },
  {
   "cell_type": "code",
   "execution_count": null,
   "metadata": {},
   "outputs": [],
   "source": []
  },
  {
   "cell_type": "code",
   "execution_count": null,
   "metadata": {},
   "outputs": [],
   "source": []
  }
 ],
 "metadata": {
  "kernelspec": {
   "display_name": "myenv",
   "language": "python",
   "name": "myenv"
  },
  "language_info": {
   "codemirror_mode": {
    "name": "ipython",
    "version": 3
   },
   "file_extension": ".py",
   "mimetype": "text/x-python",
   "name": "python",
   "nbconvert_exporter": "python",
   "pygments_lexer": "ipython3",
   "version": "3.6.8"
  }
 },
 "nbformat": 4,
 "nbformat_minor": 2
}
