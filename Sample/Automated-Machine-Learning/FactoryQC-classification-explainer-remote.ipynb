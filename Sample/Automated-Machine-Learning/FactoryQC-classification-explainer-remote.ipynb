{
 "cells": [
  {
   "cell_type": "markdown",
   "metadata": {},
   "source": [
    "# 自動機械学習 Automated Machine Learning による品質管理モデリング & モデル解釈 (リモート高速実行)\n",
    "\n",
    "製造プロセスから採取されたセンサーデータと検査結果のデータを用いて、品質管理モデルを構築します。\n",
    "- Python SDK のインポート\n",
    "- Azure ML service Workspace への接続\n",
    "- Experiment の作成\n",
    "- データの準備\n",
    "- 計算環境の準備\n",
    "- 自動機械学習の事前設定\n",
    "- モデル学習と結果の確認\n",
    "- モデル解釈"
   ]
  },
  {
   "cell_type": "markdown",
   "metadata": {},
   "source": [
    "## 1. 事前準備\n",
    "### Python SDK のインポート\n",
    "Azure Machine Learning service の Python SDKをインポートします"
   ]
  },
  {
   "cell_type": "code",
   "execution_count": 1,
   "metadata": {},
   "outputs": [],
   "source": [
    "import logging\n",
    "\n",
    "from matplotlib import pyplot as plt\n",
    "import pandas as pd\n",
    "import os\n",
    "\n",
    "import azureml.core\n",
    "from azureml.core.experiment import Experiment\n",
    "from azureml.core.workspace import Workspace\n",
    "from azureml.core.dataset import Dataset\n",
    "from azureml.train.automl import AutoMLConfig"
   ]
  },
  {
   "cell_type": "markdown",
   "metadata": {},
   "source": [
    "### Azure ML workspace との接続\n",
    "Azure Machine Learning service との接続を行います。Azure に対する認証が必要です。"
   ]
  },
  {
   "cell_type": "code",
   "execution_count": 2,
   "metadata": {},
   "outputs": [
    {
     "name": "stdout",
     "output_type": "stream",
     "text": [
      "azureml\teastus\tmlservice\teastus\n"
     ]
    }
   ],
   "source": [
    "ws = Workspace.from_config()\n",
    "print(ws.name, ws.location, ws.resource_group, ws.location, sep = '\\t')"
   ]
  },
  {
   "cell_type": "markdown",
   "metadata": {},
   "source": [
    "### 実験名の設定"
   ]
  },
  {
   "cell_type": "code",
   "execution_count": 3,
   "metadata": {},
   "outputs": [],
   "source": [
    "# choose a name for experiment\n",
    "experiment_name = 'automl-classif-factoryQC-remote'\n",
    "experiment=Experiment(ws, experiment_name)"
   ]
  },
  {
   "cell_type": "markdown",
   "metadata": {},
   "source": [
    "### 学習データの準備"
   ]
  },
  {
   "cell_type": "code",
   "execution_count": 4,
   "metadata": {},
   "outputs": [
    {
     "data": {
      "text/html": [
       "<div>\n",
       "<style scoped>\n",
       "    .dataframe tbody tr th:only-of-type {\n",
       "        vertical-align: middle;\n",
       "    }\n",
       "\n",
       "    .dataframe tbody tr th {\n",
       "        vertical-align: top;\n",
       "    }\n",
       "\n",
       "    .dataframe thead th {\n",
       "        text-align: right;\n",
       "    }\n",
       "</style>\n",
       "<table border=\"1\" class=\"dataframe\">\n",
       "  <thead>\n",
       "    <tr style=\"text-align: right;\">\n",
       "      <th></th>\n",
       "      <th>ID</th>\n",
       "      <th>Quality</th>\n",
       "      <th>ProcessA-Pressure</th>\n",
       "      <th>ProcessA-Humidity</th>\n",
       "      <th>ProcessA-Vibration</th>\n",
       "      <th>ProcessB-Light</th>\n",
       "      <th>ProcessB-Skill</th>\n",
       "      <th>ProcessB-Temp</th>\n",
       "      <th>ProcessB-Rotation</th>\n",
       "      <th>ProcessC-Density</th>\n",
       "      <th>ProcessC-PH</th>\n",
       "      <th>ProcessC-skewness</th>\n",
       "      <th>ProcessC-Time</th>\n",
       "    </tr>\n",
       "  </thead>\n",
       "  <tbody>\n",
       "    <tr>\n",
       "      <th>0</th>\n",
       "      <td>1</td>\n",
       "      <td>0</td>\n",
       "      <td>7.00</td>\n",
       "      <td>0.27</td>\n",
       "      <td>0.36</td>\n",
       "      <td>20.70</td>\n",
       "      <td>0.04</td>\n",
       "      <td>45.00</td>\n",
       "      <td>170.00</td>\n",
       "      <td>1.00</td>\n",
       "      <td>3.00</td>\n",
       "      <td>0.45</td>\n",
       "      <td>8.80</td>\n",
       "    </tr>\n",
       "    <tr>\n",
       "      <th>1</th>\n",
       "      <td>2</td>\n",
       "      <td>0</td>\n",
       "      <td>6.30</td>\n",
       "      <td>0.30</td>\n",
       "      <td>0.34</td>\n",
       "      <td>1.60</td>\n",
       "      <td>0.05</td>\n",
       "      <td>14.00</td>\n",
       "      <td>132.00</td>\n",
       "      <td>0.99</td>\n",
       "      <td>3.30</td>\n",
       "      <td>0.49</td>\n",
       "      <td>9.50</td>\n",
       "    </tr>\n",
       "    <tr>\n",
       "      <th>2</th>\n",
       "      <td>3</td>\n",
       "      <td>0</td>\n",
       "      <td>8.10</td>\n",
       "      <td>0.28</td>\n",
       "      <td>0.40</td>\n",
       "      <td>6.90</td>\n",
       "      <td>0.05</td>\n",
       "      <td>30.00</td>\n",
       "      <td>97.00</td>\n",
       "      <td>1.00</td>\n",
       "      <td>3.26</td>\n",
       "      <td>0.44</td>\n",
       "      <td>10.10</td>\n",
       "    </tr>\n",
       "    <tr>\n",
       "      <th>3</th>\n",
       "      <td>4</td>\n",
       "      <td>0</td>\n",
       "      <td>7.20</td>\n",
       "      <td>0.23</td>\n",
       "      <td>0.32</td>\n",
       "      <td>8.50</td>\n",
       "      <td>0.06</td>\n",
       "      <td>47.00</td>\n",
       "      <td>186.00</td>\n",
       "      <td>1.00</td>\n",
       "      <td>3.19</td>\n",
       "      <td>0.40</td>\n",
       "      <td>9.90</td>\n",
       "    </tr>\n",
       "    <tr>\n",
       "      <th>4</th>\n",
       "      <td>5</td>\n",
       "      <td>0</td>\n",
       "      <td>7.20</td>\n",
       "      <td>0.23</td>\n",
       "      <td>0.32</td>\n",
       "      <td>8.50</td>\n",
       "      <td>0.06</td>\n",
       "      <td>47.00</td>\n",
       "      <td>186.00</td>\n",
       "      <td>1.00</td>\n",
       "      <td>3.19</td>\n",
       "      <td>0.40</td>\n",
       "      <td>9.90</td>\n",
       "    </tr>\n",
       "  </tbody>\n",
       "</table>\n",
       "</div>"
      ],
      "text/plain": [
       "   ID  Quality  ProcessA-Pressure  ProcessA-Humidity  ProcessA-Vibration  \\\n",
       "0   1        0               7.00               0.27                0.36   \n",
       "1   2        0               6.30               0.30                0.34   \n",
       "2   3        0               8.10               0.28                0.40   \n",
       "3   4        0               7.20               0.23                0.32   \n",
       "4   5        0               7.20               0.23                0.32   \n",
       "\n",
       "   ProcessB-Light  ProcessB-Skill  ProcessB-Temp  ProcessB-Rotation  \\\n",
       "0           20.70            0.04          45.00             170.00   \n",
       "1            1.60            0.05          14.00             132.00   \n",
       "2            6.90            0.05          30.00              97.00   \n",
       "3            8.50            0.06          47.00             186.00   \n",
       "4            8.50            0.06          47.00             186.00   \n",
       "\n",
       "   ProcessC-Density  ProcessC-PH  ProcessC-skewness  ProcessC-Time  \n",
       "0              1.00         3.00               0.45           8.80  \n",
       "1              0.99         3.30               0.49           9.50  \n",
       "2              1.00         3.26               0.44          10.10  \n",
       "3              1.00         3.19               0.40           9.90  \n",
       "4              1.00         3.19               0.40           9.90  "
      ]
     },
     "execution_count": 4,
     "metadata": {},
     "output_type": "execute_result"
    }
   ],
   "source": [
    "dataset = Dataset.get_by_name(ws, name='factory')\n",
    "dataset.take(5).to_pandas_dataframe()"
   ]
  },
  {
   "cell_type": "code",
   "execution_count": 5,
   "metadata": {},
   "outputs": [],
   "source": [
    "train_dataset, test_dataset = dataset.random_split(0.8, seed=1234)"
   ]
  },
  {
   "cell_type": "code",
   "execution_count": 6,
   "metadata": {},
   "outputs": [],
   "source": [
    "X_train = train_dataset.drop_columns(columns=['Quality','ID'])\n",
    "y_train = train_dataset.keep_columns(columns=['Quality'], validate=True)\n",
    "X_test  = test_dataset.drop_columns(columns=['Quality','ID'])\n",
    "y_test  = test_dataset.keep_columns(columns=['Quality'], validate=True)"
   ]
  },
  {
   "cell_type": "markdown",
   "metadata": {},
   "source": [
    "### 計算環境 (Machine Learning Compute) の設定"
   ]
  },
  {
   "cell_type": "code",
   "execution_count": 7,
   "metadata": {},
   "outputs": [],
   "source": [
    "# 予め cpucluster という名称の Machine Learning Compute を作成しておく\n",
    "from azureml.core.compute import ComputeTarget\n",
    "compute_target = ComputeTarget(ws, \"cpucluster\")"
   ]
  },
  {
   "cell_type": "code",
   "execution_count": 8,
   "metadata": {},
   "outputs": [],
   "source": [
    "from azureml.core.runconfig import RunConfiguration\n",
    "from azureml.core.conda_dependencies import CondaDependencies\n",
    "\n",
    "# create a new RunConfig object\n",
    "conda_run_config = RunConfiguration(framework=\"python\")\n",
    "\n",
    "# Set compute target to AmlCompute\n",
    "conda_run_config.target = compute_target\n",
    "conda_run_config.environment.docker.enabled = True\n",
    "\n",
    "cd = CondaDependencies.create(conda_packages=['numpy','py-xgboost<=0.80', 'tensorflow>=1.10.0,<=1.12.0'])\n",
    "conda_run_config.environment.python.conda_dependencies = cd"
   ]
  },
  {
   "cell_type": "markdown",
   "metadata": {},
   "source": [
    "## 2. 自動機械学習 Automated Machine Learning\n",
    "### 学習事前設定"
   ]
  },
  {
   "cell_type": "code",
   "execution_count": 9,
   "metadata": {},
   "outputs": [],
   "source": [
    "automl_settings = {\n",
    "    \"iteration_timeout_minutes\": 5,\n",
    "    \"iterations\": 50,\n",
    "    \"n_cross_validations\": 3,\n",
    "    \"primary_metric\": 'AUC_weighted',\n",
    "    \"preprocess\": True,\n",
    "    \"enable_tf\" : True,\n",
    "    \"enable_voting_ensemble\": False,\n",
    "    \"enable_stack_ensemble\": False\n",
    "}\n",
    "\n",
    "automl_config = AutoMLConfig(task = 'classification',\n",
    "                             X = X_train,\n",
    "                             y = y_train,\n",
    "                             run_configuration=conda_run_config,\n",
    "                             max_concurrent_iterations = 10,\n",
    "                             **automl_settings\n",
    "                            )"
   ]
  },
  {
   "cell_type": "markdown",
   "metadata": {},
   "source": [
    "### 実行と結果確認"
   ]
  },
  {
   "cell_type": "code",
   "execution_count": 10,
   "metadata": {},
   "outputs": [
    {
     "name": "stdout",
     "output_type": "stream",
     "text": [
      "Running on remote compute: cpucluster\n",
      "Parent Run ID: AutoML_edbf905f-2c3d-4968-a32d-75588681cdb9\n",
      "Current status: FeaturesGeneration. Generating features for the dataset.\n",
      "Current status: ModelSelection. Beginning model selection.\n",
      "\n",
      "****************************************************************************************************\n",
      "ITERATION: The iteration being evaluated.\n",
      "PIPELINE: A summary description of the pipeline being evaluated.\n",
      "DURATION: Time taken for the current iteration.\n",
      "METRIC: The result of computing score on the fitted pipeline.\n",
      "BEST: The best observed score thus far.\n",
      "****************************************************************************************************\n",
      "\n",
      " ITERATION   PIPELINE                                       DURATION      METRIC      BEST\n",
      "         0   StandardScalerWrapper SGD                      0:01:14       0.7801    0.7801\n",
      "         4   StandardScalerWrapper ExtremeRandomTrees       0:02:28       0.8123    0.8123\n",
      "         6   StandardScalerWrapper SGD                      0:03:36       0.7809    0.8123\n",
      "        10   StandardScalerWrapper XGBoostClassifier        0:03:27       0.8584    0.8584\n",
      "         8   MinMaxScaler RandomForest                      0:05:49       0.8135    0.8584\n",
      "         5   StandardScalerWrapper LightGBM                 0:05:43       0.8437    0.8584\n",
      "         3   StandardScalerWrapper XGBoostClassifier        0:05:49       0.8418    0.8584\n",
      "         2   MinMaxScaler LightGBM                          0:05:43       0.8339    0.8584\n",
      "         9   MinMaxScaler SGD                               0:06:05       0.7645    0.8584\n",
      "         7   SparseNormalizer XGBoostClassifier             0:06:05       0.7772    0.8584\n",
      "        11   MaxAbsScaler LightGBM                          0:03:20       0.8293    0.8584\n",
      "         1   StandardScalerWrapper SGD                      0:06:17       0.7842    0.8584\n",
      "        13   MinMaxScaler ExtremeRandomTrees                0:01:57       0.7902    0.8584\n",
      "        12   MinMaxScaler LightGBM                          0:03:05       0.8477    0.8584\n",
      "        17   StandardScalerWrapper ExtremeRandomTrees       0:01:21       0.8292    0.8584\n",
      "        16   StandardScalerWrapper XGBoostClassifier        0:01:17       0.8659    0.8659\n",
      "        18   StandardScalerWrapper XGBoostClassifier        0:01:20       0.8797    0.8797\n",
      "        15   StandardScalerWrapper XGBoostClassifier        0:01:28       0.8606    0.8797\n",
      "        20   MaxAbsScaler LightGBM                          0:01:17       0.8506    0.8797\n",
      "        14   StandardScalerWrapper XGBoostClassifier        0:01:36       0.8787    0.8797\n",
      "        19   StandardScalerWrapper XGBoostClassifier        0:01:41       0.8603    0.8797\n",
      "        21   StandardScalerWrapper KNN                      0:01:25       0.8216    0.8797\n",
      "        23   StandardScalerWrapper XGBoostClassifier        0:01:30       0.8393    0.8797\n",
      "        22   RobustScaler LightGBM                          0:01:29       0.8525    0.8797\n",
      "        24   StandardScalerWrapper LightGBM                 0:01:10       0.8564    0.8797\n",
      "        26   StandardScalerWrapper LightGBM                 0:01:20       0.8703    0.8797\n",
      "        25   StandardScalerWrapper XGBoostClassifier        0:01:20       0.8808    0.8808\n",
      "        28   MinMaxScaler LightGBM                          0:01:29       0.8397    0.8808\n",
      "        29   StandardScalerWrapper XGBoostClassifier        0:01:40       0.8700    0.8808\n",
      "        27   RobustScaler LightGBM                          0:01:34       0.8290    0.8808\n",
      "        31   RobustScaler LightGBM                          0:01:25       0.8310    0.8808\n",
      "        30   StandardScalerWrapper XGBoostClassifier        0:01:30       0.8398    0.8808\n",
      "        32   StandardScalerWrapper RandomForest             0:01:20       0.8033    0.8808\n",
      "        34   StandardScalerWrapper XGBoostClassifier        0:01:33       0.8695    0.8808\n",
      "        33   RobustScaler ExtremeRandomTrees                0:01:33       0.7850    0.8808\n",
      "        36   MaxAbsScaler GradientBoosting                  0:01:38       0.8404    0.8808\n",
      "        35   StandardScalerWrapper XGBoostClassifier        0:01:35       0.8774    0.8808\n",
      "        37   StandardScalerWrapper XGBoostClassifier        0:01:37       0.8118    0.8808\n",
      "        39   RobustScaler GradientBoosting                  0:01:51       0.7581    0.8808\n",
      "        38   StandardScalerWrapper XGBoostClassifier        0:01:47       0.8615    0.8808\n",
      "        42   StandardScalerWrapper XGBoostClassifier        0:01:20       0.8754    0.8808\n",
      "        41   RobustScaler GradientBoosting                  0:01:40       0.8194    0.8808\n",
      "        44   StandardScalerWrapper SVM                      0:01:38       0.7394    0.8808\n",
      "        43   StandardScalerWrapper LightGBM                 0:01:28       0.8421    0.8808\n",
      "        45   StandardScalerWrapper XGBoostClassifier        0:01:17       0.8414    0.8808\n",
      "        46   StandardScalerWrapper XGBoostClassifier        0:01:48       0.8460    0.8808\n",
      "        49   StandardScalerWrapper LightGBM                 0:01:17       0.8792    0.8808\n",
      "        47   StandardScalerWrapper LightGBM                 0:01:30       0.8517    0.8808\n",
      "        48   StandardScalerWrapper XGBoostClassifier        0:01:51       0.8578    0.8808\n",
      "        40   PCA XGBoostClassifier                          0:09:02       0.5000    0.8808\n"
     ]
    },
    {
     "name": "stderr",
     "output_type": "stream",
     "text": [
      "WARNING - Retrying (Retry(total=2, connect=2, read=3, redirect=None, status=None)) after connection broken by 'NewConnectionError('<urllib3.connection.VerifiedHTTPSConnection object at 0x1a408a8710>: Failed to establish a new connection: [Errno 8] nodename nor servname provided, or not known',)': /history/v1.0/subscriptions/9c0f91b8-eb2f-484c-979c-15848c098a6b/resourceGroups/mlservice/providers/Microsoft.MachineLearningServices/workspaces/azureml/experiments/automl-classif-factoryQC-remote/runs/AutoML_edbf905f-2c3d-4968-a32d-75588681cdb9\n",
      "WARNING - Retrying (Retry(total=1, connect=1, read=3, redirect=None, status=None)) after connection broken by 'NewConnectionError('<urllib3.connection.VerifiedHTTPSConnection object at 0x1a408a82b0>: Failed to establish a new connection: [Errno 8] nodename nor servname provided, or not known',)': /history/v1.0/subscriptions/9c0f91b8-eb2f-484c-979c-15848c098a6b/resourceGroups/mlservice/providers/Microsoft.MachineLearningServices/workspaces/azureml/experiments/automl-classif-factoryQC-remote/runs/AutoML_edbf905f-2c3d-4968-a32d-75588681cdb9\n",
      "WARNING - Retrying (Retry(total=0, connect=0, read=3, redirect=None, status=None)) after connection broken by 'NewConnectionError('<urllib3.connection.VerifiedHTTPSConnection object at 0x1a408a8be0>: Failed to establish a new connection: [Errno 8] nodename nor servname provided, or not known',)': /history/v1.0/subscriptions/9c0f91b8-eb2f-484c-979c-15848c098a6b/resourceGroups/mlservice/providers/Microsoft.MachineLearningServices/workspaces/azureml/experiments/automl-classif-factoryQC-remote/runs/AutoML_edbf905f-2c3d-4968-a32d-75588681cdb9\n"
     ]
    }
   ],
   "source": [
    "remote_run = experiment.submit(automl_config, show_output = True)"
   ]
  },
  {
   "cell_type": "code",
   "execution_count": 11,
   "metadata": {},
   "outputs": [
    {
     "data": {
      "application/vnd.jupyter.widget-view+json": {
       "model_id": "c15352e1a0424a578cf3f62b9279b008",
       "version_major": 2,
       "version_minor": 0
      },
      "text/plain": [
       "_AutoMLWidget(widget_settings={'childWidgetDisplay': 'popup', 'send_telemetry': True, 'log_level': 'INFO', 'sd…"
      ]
     },
     "metadata": {},
     "output_type": "display_data"
    }
   ],
   "source": [
    "# Widget で結果確認\n",
    "from azureml.widgets import RunDetails\n",
    "RunDetails(remote_run).show()"
   ]
  },
  {
   "cell_type": "code",
   "execution_count": 12,
   "metadata": {},
   "outputs": [
    {
     "data": {
      "text/plain": [
       "{'runId': 'AutoML_edbf905f-2c3d-4968-a32d-75588681cdb9',\n",
       " 'target': 'cpucluster',\n",
       " 'status': 'Completed',\n",
       " 'startTimeUtc': '2019-10-03T06:38:55.846671Z',\n",
       " 'endTimeUtc': '2019-10-03T06:57:40.468268Z',\n",
       " 'properties': {'num_iterations': '50',\n",
       "  'training_type': 'TrainFull',\n",
       "  'acquisition_function': 'EI',\n",
       "  'primary_metric': 'AUC_weighted',\n",
       "  'train_split': '0',\n",
       "  'MaxTimeSeconds': '300',\n",
       "  'acquisition_parameter': '0',\n",
       "  'num_cross_validation': '3',\n",
       "  'target': 'cpucluster',\n",
       "  'RawAMLSettingsString': \"{'name': 'automl-classif-factoryQC-remote', 'path': None, 'subscription_id': '9c0f91b8-eb2f-484c-979c-15848c098a6b', 'resource_group': 'mlservice', 'workspace_name': 'azureml', 'region': 'eastus', 'compute_target': 'cpucluster', 'spark_service': None, 'iterations': 50, 'primary_metric': 'AUC_weighted', 'task_type': 'classification', 'data_script': None, 'validation_size': 0.0, 'n_cross_validations': 3, 'y_min': None, 'y_max': None, 'num_classes': None, 'preprocess': True, 'lag_length': 0, 'is_timeseries': False, 'max_cores_per_iteration': 1, 'max_concurrent_iterations': 10, 'iteration_timeout_minutes': 5, 'mem_in_mb': None, 'enforce_time_on_windows': False, 'experiment_timeout_minutes': None, 'experiment_exit_score': None, 'whitelist_models': None, 'blacklist_algos': None, 'supported_models': ['LogisticRegression', 'SGD', 'MultinomialNaiveBayes', 'BernoulliNaiveBayes', 'SVM', 'LinearSVM', 'KNN', 'DecisionTree', 'RandomForest', 'ExtremeRandomTrees', 'LightGBM', 'XGBoostClassifier', 'NimbusMLAveragedPerceptronClassifier', 'NimbusMLLinearSVMClassifier', 'CatBoostClassifier', 'GradientBoosting', 'TensorFlowDNN', 'TensorFlowLinearClassifier'], 'auto_blacklist': True, 'blacklist_samples_reached': False, 'exclude_nan_labels': True, 'verbosity': 20, 'debug_log': 'azureml_automl.log', 'show_warnings': False, 'model_explainability': False, 'service_url': None, 'sdk_url': None, 'sdk_packages': None, 'enable_onnx_compatible_models': False, 'enable_feature_sweeping': True, 'telemetry_verbosity': 'INFO', 'send_telemetry': True, 'enable_early_stopping': False, 'early_stopping_n_iters': 10, 'metrics': None, 'enable_ensembling': False, 'enable_stack_ensembling': False, 'ensemble_iterations': 15, 'enable_tf': False, 'enable_cache': True, 'enable_subsampling': False, 'subsample_seed': None, 'enable_nimbusml': False, 'use_incremental_learning': False, 'label_column_name': None, 'weight_column_name': None, 'cost_mode': 0, 'metric_operation': 'maximize'}\",\n",
       "  'AMLSettingsJsonString': '{\"name\": \"automl-classif-factoryQC-remote\", \"path\": null, \"subscription_id\": \"9c0f91b8-eb2f-484c-979c-15848c098a6b\", \"resource_group\": \"mlservice\", \"workspace_name\": \"azureml\", \"region\": \"eastus\", \"compute_target\": \"cpucluster\", \"spark_service\": null, \"iterations\": 50, \"primary_metric\": \"AUC_weighted\", \"task_type\": \"classification\", \"data_script\": null, \"validation_size\": 0.0, \"n_cross_validations\": 3, \"y_min\": null, \"y_max\": null, \"num_classes\": null, \"preprocess\": true, \"lag_length\": 0, \"is_timeseries\": false, \"max_cores_per_iteration\": 1, \"max_concurrent_iterations\": 10, \"iteration_timeout_minutes\": 5, \"mem_in_mb\": null, \"enforce_time_on_windows\": false, \"experiment_timeout_minutes\": null, \"experiment_exit_score\": null, \"whitelist_models\": null, \"blacklist_algos\": null, \"supported_models\": [\"LogisticRegression\", \"SGD\", \"MultinomialNaiveBayes\", \"BernoulliNaiveBayes\", \"SVM\", \"LinearSVM\", \"KNN\", \"DecisionTree\", \"RandomForest\", \"ExtremeRandomTrees\", \"LightGBM\", \"XGBoostClassifier\", \"NimbusMLAveragedPerceptronClassifier\", \"NimbusMLLinearSVMClassifier\", \"CatBoostClassifier\", \"GradientBoosting\", \"TensorFlowDNN\", \"TensorFlowLinearClassifier\"], \"auto_blacklist\": true, \"blacklist_samples_reached\": false, \"exclude_nan_labels\": true, \"verbosity\": 20, \"debug_log\": \"azureml_automl.log\", \"show_warnings\": false, \"model_explainability\": false, \"service_url\": null, \"sdk_url\": null, \"sdk_packages\": null, \"enable_onnx_compatible_models\": false, \"enable_feature_sweeping\": true, \"telemetry_verbosity\": \"INFO\", \"send_telemetry\": true, \"enable_early_stopping\": false, \"early_stopping_n_iters\": 10, \"metrics\": null, \"enable_ensembling\": false, \"enable_stack_ensembling\": false, \"ensemble_iterations\": 15, \"enable_tf\": false, \"enable_cache\": true, \"enable_subsampling\": false, \"subsample_seed\": null, \"enable_nimbusml\": false, \"use_incremental_learning\": false, \"label_column_name\": null, \"weight_column_name\": null, \"cost_mode\": 0, \"metric_operation\": \"maximize\"}',\n",
       "  'DataPrepJsonString': '{\\\\\"X\\\\\": \\\\\"{\\\\\\\\\\\\\"blocks\\\\\\\\\\\\\": [{\\\\\\\\\\\\\"id\\\\\\\\\\\\\": \\\\\\\\\\\\\"c6b108f2-6aeb-4bb4-ac6a-bea3ecebec8d\\\\\\\\\\\\\", \\\\\\\\\\\\\"type\\\\\\\\\\\\\": \\\\\\\\\\\\\"Microsoft.DPrep.GetDatastoreFilesBlock\\\\\\\\\\\\\", \\\\\\\\\\\\\"arguments\\\\\\\\\\\\\": {\\\\\\\\\\\\\"datastores\\\\\\\\\\\\\": [{\\\\\\\\\\\\\"datastoreName\\\\\\\\\\\\\": \\\\\\\\\\\\\"workspaceblobstore\\\\\\\\\\\\\", \\\\\\\\\\\\\"path\\\\\\\\\\\\\": \\\\\\\\\\\\\"/08-18-2019_054252_UTC/Factory.csv\\\\\\\\\\\\\", \\\\\\\\\\\\\"resourceGroup\\\\\\\\\\\\\": \\\\\\\\\\\\\"mlservice\\\\\\\\\\\\\", \\\\\\\\\\\\\"subscription\\\\\\\\\\\\\": \\\\\\\\\\\\\"9c0f91b8-eb2f-484c-979c-15848c098a6b\\\\\\\\\\\\\", \\\\\\\\\\\\\"workspaceName\\\\\\\\\\\\\": \\\\\\\\\\\\\"azureml\\\\\\\\\\\\\"}]}, \\\\\\\\\\\\\"localData\\\\\\\\\\\\\": {}, \\\\\\\\\\\\\"isEnabled\\\\\\\\\\\\\": true, \\\\\\\\\\\\\"name\\\\\\\\\\\\\": null, \\\\\\\\\\\\\"annotation\\\\\\\\\\\\\": null}, {\\\\\\\\\\\\\"id\\\\\\\\\\\\\": \\\\\\\\\\\\\"6f224c66-e202-445e-bae8-8130927df4f4\\\\\\\\\\\\\", \\\\\\\\\\\\\"type\\\\\\\\\\\\\": \\\\\\\\\\\\\"Microsoft.DPrep.ParseDelimitedBlock\\\\\\\\\\\\\", \\\\\\\\\\\\\"arguments\\\\\\\\\\\\\": {\\\\\\\\\\\\\"columnHeadersMode\\\\\\\\\\\\\": 3, \\\\\\\\\\\\\"commentLineCharacter\\\\\\\\\\\\\": \\\\\\\\\\\\\"\\\\\\\\\\\\\\\\u0000\\\\\\\\\\\\\", \\\\\\\\\\\\\"fileEncoding\\\\\\\\\\\\\": 0, \\\\\\\\\\\\\"handleQuotedLineBreaks\\\\\\\\\\\\\": false, \\\\\\\\\\\\\"preview\\\\\\\\\\\\\": false, \\\\\\\\\\\\\"separator\\\\\\\\\\\\\": \\\\\\\\\\\\\",\\\\\\\\\\\\\", \\\\\\\\\\\\\"skipRows\\\\\\\\\\\\\": 0, \\\\\\\\\\\\\"skipRowsMode\\\\\\\\\\\\\": 0}, \\\\\\\\\\\\\"localData\\\\\\\\\\\\\": {}, \\\\\\\\\\\\\"isEnabled\\\\\\\\\\\\\": true, \\\\\\\\\\\\\"name\\\\\\\\\\\\\": null, \\\\\\\\\\\\\"annotation\\\\\\\\\\\\\": null}, {\\\\\\\\\\\\\"id\\\\\\\\\\\\\": \\\\\\\\\\\\\"ee529dee-f64e-410f-b3a2-eef4a70d28ed\\\\\\\\\\\\\", \\\\\\\\\\\\\"type\\\\\\\\\\\\\": \\\\\\\\\\\\\"Microsoft.DPrep.DropColumnsBlock\\\\\\\\\\\\\", \\\\\\\\\\\\\"arguments\\\\\\\\\\\\\": {\\\\\\\\\\\\\"columns\\\\\\\\\\\\\": {\\\\\\\\\\\\\"type\\\\\\\\\\\\\": 0, \\\\\\\\\\\\\"details\\\\\\\\\\\\\": {\\\\\\\\\\\\\"selectedColumns\\\\\\\\\\\\\": [\\\\\\\\\\\\\"Path\\\\\\\\\\\\\"]}}}, \\\\\\\\\\\\\"localData\\\\\\\\\\\\\": {}, \\\\\\\\\\\\\"isEnabled\\\\\\\\\\\\\": true, \\\\\\\\\\\\\"name\\\\\\\\\\\\\": null, \\\\\\\\\\\\\"annotation\\\\\\\\\\\\\": null}, {\\\\\\\\\\\\\"id\\\\\\\\\\\\\": \\\\\\\\\\\\\"2cf7bf68-f16c-4c5d-a32c-67bb4df885bc\\\\\\\\\\\\\", \\\\\\\\\\\\\"type\\\\\\\\\\\\\": \\\\\\\\\\\\\"Microsoft.DPrep.SetColumnTypesBlock\\\\\\\\\\\\\", \\\\\\\\\\\\\"arguments\\\\\\\\\\\\\": {\\\\\\\\\\\\\"columnConversion\\\\\\\\\\\\\": [{\\\\\\\\\\\\\"column\\\\\\\\\\\\\": {\\\\\\\\\\\\\"type\\\\\\\\\\\\\": 2, \\\\\\\\\\\\\"details\\\\\\\\\\\\\": {\\\\\\\\\\\\\"selectedColumn\\\\\\\\\\\\\": \\\\\\\\\\\\\"Path\\\\\\\\\\\\\"}}, \\\\\\\\\\\\\"typeProperty\\\\\\\\\\\\\": 0}, {\\\\\\\\\\\\\"column\\\\\\\\\\\\\": {\\\\\\\\\\\\\"type\\\\\\\\\\\\\": 2, \\\\\\\\\\\\\"details\\\\\\\\\\\\\": {\\\\\\\\\\\\\"selectedColumn\\\\\\\\\\\\\": \\\\\\\\\\\\\"ID\\\\\\\\\\\\\"}}, \\\\\\\\\\\\\"typeProperty\\\\\\\\\\\\\": 2}, {\\\\\\\\\\\\\"column\\\\\\\\\\\\\": {\\\\\\\\\\\\\"type\\\\\\\\\\\\\": 2, \\\\\\\\\\\\\"details\\\\\\\\\\\\\": {\\\\\\\\\\\\\"selectedColumn\\\\\\\\\\\\\": \\\\\\\\\\\\\"Quality\\\\\\\\\\\\\"}}, \\\\\\\\\\\\\"typeProperty\\\\\\\\\\\\\": 2}, {\\\\\\\\\\\\\"column\\\\\\\\\\\\\": {\\\\\\\\\\\\\"type\\\\\\\\\\\\\": 2, \\\\\\\\\\\\\"details\\\\\\\\\\\\\": {\\\\\\\\\\\\\"selectedColumn\\\\\\\\\\\\\": \\\\\\\\\\\\\"ProcessA-Pressure\\\\\\\\\\\\\"}}, \\\\\\\\\\\\\"typeProperty\\\\\\\\\\\\\": 3}, {\\\\\\\\\\\\\"column\\\\\\\\\\\\\": {\\\\\\\\\\\\\"type\\\\\\\\\\\\\": 2, \\\\\\\\\\\\\"details\\\\\\\\\\\\\": {\\\\\\\\\\\\\"selectedColumn\\\\\\\\\\\\\": \\\\\\\\\\\\\"ProcessA-Humidity\\\\\\\\\\\\\"}}, \\\\\\\\\\\\\"typeProperty\\\\\\\\\\\\\": 3}, {\\\\\\\\\\\\\"column\\\\\\\\\\\\\": {\\\\\\\\\\\\\"type\\\\\\\\\\\\\": 2, \\\\\\\\\\\\\"details\\\\\\\\\\\\\": {\\\\\\\\\\\\\"selectedColumn\\\\\\\\\\\\\": \\\\\\\\\\\\\"ProcessA-Vibration\\\\\\\\\\\\\"}}, \\\\\\\\\\\\\"typeProperty\\\\\\\\\\\\\": 3}, {\\\\\\\\\\\\\"column\\\\\\\\\\\\\": {\\\\\\\\\\\\\"type\\\\\\\\\\\\\": 2, \\\\\\\\\\\\\"details\\\\\\\\\\\\\": {\\\\\\\\\\\\\"selectedColumn\\\\\\\\\\\\\": \\\\\\\\\\\\\"ProcessB-Light\\\\\\\\\\\\\"}}, \\\\\\\\\\\\\"typeProperty\\\\\\\\\\\\\": 3}, {\\\\\\\\\\\\\"column\\\\\\\\\\\\\": {\\\\\\\\\\\\\"type\\\\\\\\\\\\\": 2, \\\\\\\\\\\\\"details\\\\\\\\\\\\\": {\\\\\\\\\\\\\"selectedColumn\\\\\\\\\\\\\": \\\\\\\\\\\\\"ProcessB-Skill\\\\\\\\\\\\\"}}, \\\\\\\\\\\\\"typeProperty\\\\\\\\\\\\\": 3}, {\\\\\\\\\\\\\"column\\\\\\\\\\\\\": {\\\\\\\\\\\\\"type\\\\\\\\\\\\\": 2, \\\\\\\\\\\\\"details\\\\\\\\\\\\\": {\\\\\\\\\\\\\"selectedColumn\\\\\\\\\\\\\": \\\\\\\\\\\\\"ProcessB-Temp\\\\\\\\\\\\\"}}, \\\\\\\\\\\\\"typeProperty\\\\\\\\\\\\\": 3}, {\\\\\\\\\\\\\"column\\\\\\\\\\\\\": {\\\\\\\\\\\\\"type\\\\\\\\\\\\\": 2, \\\\\\\\\\\\\"details\\\\\\\\\\\\\": {\\\\\\\\\\\\\"selectedColumn\\\\\\\\\\\\\": \\\\\\\\\\\\\"ProcessB-Rotation\\\\\\\\\\\\\"}}, \\\\\\\\\\\\\"typeProperty\\\\\\\\\\\\\": 3}, {\\\\\\\\\\\\\"column\\\\\\\\\\\\\": {\\\\\\\\\\\\\"type\\\\\\\\\\\\\": 2, \\\\\\\\\\\\\"details\\\\\\\\\\\\\": {\\\\\\\\\\\\\"selectedColumn\\\\\\\\\\\\\": \\\\\\\\\\\\\"ProcessC-Density\\\\\\\\\\\\\"}}, \\\\\\\\\\\\\"typeProperty\\\\\\\\\\\\\": 3}, {\\\\\\\\\\\\\"column\\\\\\\\\\\\\": {\\\\\\\\\\\\\"type\\\\\\\\\\\\\": 2, \\\\\\\\\\\\\"details\\\\\\\\\\\\\": {\\\\\\\\\\\\\"selectedColumn\\\\\\\\\\\\\": \\\\\\\\\\\\\"ProcessC-PH\\\\\\\\\\\\\"}}, \\\\\\\\\\\\\"typeProperty\\\\\\\\\\\\\": 3}, {\\\\\\\\\\\\\"column\\\\\\\\\\\\\": {\\\\\\\\\\\\\"type\\\\\\\\\\\\\": 2, \\\\\\\\\\\\\"details\\\\\\\\\\\\\": {\\\\\\\\\\\\\"selectedColumn\\\\\\\\\\\\\": \\\\\\\\\\\\\"ProcessC-skewness\\\\\\\\\\\\\"}}, \\\\\\\\\\\\\"typeProperty\\\\\\\\\\\\\": 3}, {\\\\\\\\\\\\\"column\\\\\\\\\\\\\": {\\\\\\\\\\\\\"type\\\\\\\\\\\\\": 2, \\\\\\\\\\\\\"details\\\\\\\\\\\\\": {\\\\\\\\\\\\\"selectedColumn\\\\\\\\\\\\\": \\\\\\\\\\\\\"ProcessC-Time\\\\\\\\\\\\\"}}, \\\\\\\\\\\\\"typeProperty\\\\\\\\\\\\\": 3}]}, \\\\\\\\\\\\\"localData\\\\\\\\\\\\\": {}, \\\\\\\\\\\\\"isEnabled\\\\\\\\\\\\\": true, \\\\\\\\\\\\\"name\\\\\\\\\\\\\": null, \\\\\\\\\\\\\"annotation\\\\\\\\\\\\\": null}, {\\\\\\\\\\\\\"id\\\\\\\\\\\\\": \\\\\\\\\\\\\"d2dc1e86-21ed-4027-84ac-a58949d77857\\\\\\\\\\\\\", \\\\\\\\\\\\\"type\\\\\\\\\\\\\": \\\\\\\\\\\\\"Microsoft.DPrep.RandomSplitBlock\\\\\\\\\\\\\", \\\\\\\\\\\\\"arguments\\\\\\\\\\\\\": {\\\\\\\\\\\\\"probability\\\\\\\\\\\\\": 0.8, \\\\\\\\\\\\\"seed\\\\\\\\\\\\\": 1234}, \\\\\\\\\\\\\"localData\\\\\\\\\\\\\": {}, \\\\\\\\\\\\\"isEnabled\\\\\\\\\\\\\": true, \\\\\\\\\\\\\"name\\\\\\\\\\\\\": null, \\\\\\\\\\\\\"annotation\\\\\\\\\\\\\": null}, {\\\\\\\\\\\\\"id\\\\\\\\\\\\\": \\\\\\\\\\\\\"734fce9c-548a-4237-bf48-807285470037\\\\\\\\\\\\\", \\\\\\\\\\\\\"type\\\\\\\\\\\\\": \\\\\\\\\\\\\"Microsoft.DPrep.DropColumnsBlock\\\\\\\\\\\\\", \\\\\\\\\\\\\"arguments\\\\\\\\\\\\\": {\\\\\\\\\\\\\"columns\\\\\\\\\\\\\": {\\\\\\\\\\\\\"type\\\\\\\\\\\\\": 0, \\\\\\\\\\\\\"details\\\\\\\\\\\\\": {\\\\\\\\\\\\\"selectedColumns\\\\\\\\\\\\\": [\\\\\\\\\\\\\"Quality\\\\\\\\\\\\\", \\\\\\\\\\\\\"ID\\\\\\\\\\\\\"]}}}, \\\\\\\\\\\\\"localData\\\\\\\\\\\\\": {}, \\\\\\\\\\\\\"isEnabled\\\\\\\\\\\\\": true, \\\\\\\\\\\\\"name\\\\\\\\\\\\\": null, \\\\\\\\\\\\\"annotation\\\\\\\\\\\\\": null}], \\\\\\\\\\\\\"inspectors\\\\\\\\\\\\\": [], \\\\\\\\\\\\\"meta\\\\\\\\\\\\\": {\\\\\\\\\\\\\"steps_added\\\\\\\\\\\\\": \\\\\\\\\\\\\"2\\\\\\\\\\\\\"}}\\\\\", \\\\\"y\\\\\": \\\\\"{\\\\\\\\\\\\\"blocks\\\\\\\\\\\\\": [{\\\\\\\\\\\\\"id\\\\\\\\\\\\\": \\\\\\\\\\\\\"c6b108f2-6aeb-4bb4-ac6a-bea3ecebec8d\\\\\\\\\\\\\", \\\\\\\\\\\\\"type\\\\\\\\\\\\\": \\\\\\\\\\\\\"Microsoft.DPrep.GetDatastoreFilesBlock\\\\\\\\\\\\\", \\\\\\\\\\\\\"arguments\\\\\\\\\\\\\": {\\\\\\\\\\\\\"datastores\\\\\\\\\\\\\": [{\\\\\\\\\\\\\"datastoreName\\\\\\\\\\\\\": \\\\\\\\\\\\\"workspaceblobstore\\\\\\\\\\\\\", \\\\\\\\\\\\\"path\\\\\\\\\\\\\": \\\\\\\\\\\\\"/08-18-2019_054252_UTC/Factory.csv\\\\\\\\\\\\\", \\\\\\\\\\\\\"resourceGroup\\\\\\\\\\\\\": \\\\\\\\\\\\\"mlservice\\\\\\\\\\\\\", \\\\\\\\\\\\\"subscription\\\\\\\\\\\\\": \\\\\\\\\\\\\"9c0f91b8-eb2f-484c-979c-15848c098a6b\\\\\\\\\\\\\", \\\\\\\\\\\\\"workspaceName\\\\\\\\\\\\\": \\\\\\\\\\\\\"azureml\\\\\\\\\\\\\"}]}, \\\\\\\\\\\\\"localData\\\\\\\\\\\\\": {}, \\\\\\\\\\\\\"isEnabled\\\\\\\\\\\\\": true, \\\\\\\\\\\\\"name\\\\\\\\\\\\\": null, \\\\\\\\\\\\\"annotation\\\\\\\\\\\\\": null}, {\\\\\\\\\\\\\"id\\\\\\\\\\\\\": \\\\\\\\\\\\\"6f224c66-e202-445e-bae8-8130927df4f4\\\\\\\\\\\\\", \\\\\\\\\\\\\"type\\\\\\\\\\\\\": \\\\\\\\\\\\\"Microsoft.DPrep.ParseDelimitedBlock\\\\\\\\\\\\\", \\\\\\\\\\\\\"arguments\\\\\\\\\\\\\": {\\\\\\\\\\\\\"columnHeadersMode\\\\\\\\\\\\\": 3, \\\\\\\\\\\\\"commentLineCharacter\\\\\\\\\\\\\": \\\\\\\\\\\\\"\\\\\\\\\\\\\\\\u0000\\\\\\\\\\\\\", \\\\\\\\\\\\\"fileEncoding\\\\\\\\\\\\\": 0, \\\\\\\\\\\\\"handleQuotedLineBreaks\\\\\\\\\\\\\": false, \\\\\\\\\\\\\"preview\\\\\\\\\\\\\": false, \\\\\\\\\\\\\"separator\\\\\\\\\\\\\": \\\\\\\\\\\\\",\\\\\\\\\\\\\", \\\\\\\\\\\\\"skipRows\\\\\\\\\\\\\": 0, \\\\\\\\\\\\\"skipRowsMode\\\\\\\\\\\\\": 0}, \\\\\\\\\\\\\"localData\\\\\\\\\\\\\": {}, \\\\\\\\\\\\\"isEnabled\\\\\\\\\\\\\": true, \\\\\\\\\\\\\"name\\\\\\\\\\\\\": null, \\\\\\\\\\\\\"annotation\\\\\\\\\\\\\": null}, {\\\\\\\\\\\\\"id\\\\\\\\\\\\\": \\\\\\\\\\\\\"ee529dee-f64e-410f-b3a2-eef4a70d28ed\\\\\\\\\\\\\", \\\\\\\\\\\\\"type\\\\\\\\\\\\\": \\\\\\\\\\\\\"Microsoft.DPrep.DropColumnsBlock\\\\\\\\\\\\\", \\\\\\\\\\\\\"arguments\\\\\\\\\\\\\": {\\\\\\\\\\\\\"columns\\\\\\\\\\\\\": {\\\\\\\\\\\\\"type\\\\\\\\\\\\\": 0, \\\\\\\\\\\\\"details\\\\\\\\\\\\\": {\\\\\\\\\\\\\"selectedColumns\\\\\\\\\\\\\": [\\\\\\\\\\\\\"Path\\\\\\\\\\\\\"]}}}, \\\\\\\\\\\\\"localData\\\\\\\\\\\\\": {}, \\\\\\\\\\\\\"isEnabled\\\\\\\\\\\\\": true, \\\\\\\\\\\\\"name\\\\\\\\\\\\\": null, \\\\\\\\\\\\\"annotation\\\\\\\\\\\\\": null}, {\\\\\\\\\\\\\"id\\\\\\\\\\\\\": \\\\\\\\\\\\\"2cf7bf68-f16c-4c5d-a32c-67bb4df885bc\\\\\\\\\\\\\", \\\\\\\\\\\\\"type\\\\\\\\\\\\\": \\\\\\\\\\\\\"Microsoft.DPrep.SetColumnTypesBlock\\\\\\\\\\\\\", \\\\\\\\\\\\\"arguments\\\\\\\\\\\\\": {\\\\\\\\\\\\\"columnConversion\\\\\\\\\\\\\": [{\\\\\\\\\\\\\"column\\\\\\\\\\\\\": {\\\\\\\\\\\\\"type\\\\\\\\\\\\\": 2, \\\\\\\\\\\\\"details\\\\\\\\\\\\\": {\\\\\\\\\\\\\"selectedColumn\\\\\\\\\\\\\": \\\\\\\\\\\\\"Path\\\\\\\\\\\\\"}}, \\\\\\\\\\\\\"typeProperty\\\\\\\\\\\\\": 0}, {\\\\\\\\\\\\\"column\\\\\\\\\\\\\": {\\\\\\\\\\\\\"type\\\\\\\\\\\\\": 2, \\\\\\\\\\\\\"details\\\\\\\\\\\\\": {\\\\\\\\\\\\\"selectedColumn\\\\\\\\\\\\\": \\\\\\\\\\\\\"ID\\\\\\\\\\\\\"}}, \\\\\\\\\\\\\"typeProperty\\\\\\\\\\\\\": 2}, {\\\\\\\\\\\\\"column\\\\\\\\\\\\\": {\\\\\\\\\\\\\"type\\\\\\\\\\\\\": 2, \\\\\\\\\\\\\"details\\\\\\\\\\\\\": {\\\\\\\\\\\\\"selectedColumn\\\\\\\\\\\\\": \\\\\\\\\\\\\"Quality\\\\\\\\\\\\\"}}, \\\\\\\\\\\\\"typeProperty\\\\\\\\\\\\\": 2}, {\\\\\\\\\\\\\"column\\\\\\\\\\\\\": {\\\\\\\\\\\\\"type\\\\\\\\\\\\\": 2, \\\\\\\\\\\\\"details\\\\\\\\\\\\\": {\\\\\\\\\\\\\"selectedColumn\\\\\\\\\\\\\": \\\\\\\\\\\\\"ProcessA-Pressure\\\\\\\\\\\\\"}}, \\\\\\\\\\\\\"typeProperty\\\\\\\\\\\\\": 3}, {\\\\\\\\\\\\\"column\\\\\\\\\\\\\": {\\\\\\\\\\\\\"type\\\\\\\\\\\\\": 2, \\\\\\\\\\\\\"details\\\\\\\\\\\\\": {\\\\\\\\\\\\\"selectedColumn\\\\\\\\\\\\\": \\\\\\\\\\\\\"ProcessA-Humidity\\\\\\\\\\\\\"}}, \\\\\\\\\\\\\"typeProperty\\\\\\\\\\\\\": 3}, {\\\\\\\\\\\\\"column\\\\\\\\\\\\\": {\\\\\\\\\\\\\"type\\\\\\\\\\\\\": 2, \\\\\\\\\\\\\"details\\\\\\\\\\\\\": {\\\\\\\\\\\\\"selectedColumn\\\\\\\\\\\\\": \\\\\\\\\\\\\"ProcessA-Vibration\\\\\\\\\\\\\"}}, \\\\\\\\\\\\\"typeProperty\\\\\\\\\\\\\": 3}, {\\\\\\\\\\\\\"column\\\\\\\\\\\\\": {\\\\\\\\\\\\\"type\\\\\\\\\\\\\": 2, \\\\\\\\\\\\\"details\\\\\\\\\\\\\": {\\\\\\\\\\\\\"selectedColumn\\\\\\\\\\\\\": \\\\\\\\\\\\\"ProcessB-Light\\\\\\\\\\\\\"}}, \\\\\\\\\\\\\"typeProperty\\\\\\\\\\\\\": 3}, {\\\\\\\\\\\\\"column\\\\\\\\\\\\\": {\\\\\\\\\\\\\"type\\\\\\\\\\\\\": 2, \\\\\\\\\\\\\"details\\\\\\\\\\\\\": {\\\\\\\\\\\\\"selectedColumn\\\\\\\\\\\\\": \\\\\\\\\\\\\"ProcessB-Skill\\\\\\\\\\\\\"}}, \\\\\\\\\\\\\"typeProperty\\\\\\\\\\\\\": 3}, {\\\\\\\\\\\\\"column\\\\\\\\\\\\\": {\\\\\\\\\\\\\"type\\\\\\\\\\\\\": 2, \\\\\\\\\\\\\"details\\\\\\\\\\\\\": {\\\\\\\\\\\\\"selectedColumn\\\\\\\\\\\\\": \\\\\\\\\\\\\"ProcessB-Temp\\\\\\\\\\\\\"}}, \\\\\\\\\\\\\"typeProperty\\\\\\\\\\\\\": 3}, {\\\\\\\\\\\\\"column\\\\\\\\\\\\\": {\\\\\\\\\\\\\"type\\\\\\\\\\\\\": 2, \\\\\\\\\\\\\"details\\\\\\\\\\\\\": {\\\\\\\\\\\\\"selectedColumn\\\\\\\\\\\\\": \\\\\\\\\\\\\"ProcessB-Rotation\\\\\\\\\\\\\"}}, \\\\\\\\\\\\\"typeProperty\\\\\\\\\\\\\": 3}, {\\\\\\\\\\\\\"column\\\\\\\\\\\\\": {\\\\\\\\\\\\\"type\\\\\\\\\\\\\": 2, \\\\\\\\\\\\\"details\\\\\\\\\\\\\": {\\\\\\\\\\\\\"selectedColumn\\\\\\\\\\\\\": \\\\\\\\\\\\\"ProcessC-Density\\\\\\\\\\\\\"}}, \\\\\\\\\\\\\"typeProperty\\\\\\\\\\\\\": 3}, {\\\\\\\\\\\\\"column\\\\\\\\\\\\\": {\\\\\\\\\\\\\"type\\\\\\\\\\\\\": 2, \\\\\\\\\\\\\"details\\\\\\\\\\\\\": {\\\\\\\\\\\\\"selectedColumn\\\\\\\\\\\\\": \\\\\\\\\\\\\"ProcessC-PH\\\\\\\\\\\\\"}}, \\\\\\\\\\\\\"typeProperty\\\\\\\\\\\\\": 3}, {\\\\\\\\\\\\\"column\\\\\\\\\\\\\": {\\\\\\\\\\\\\"type\\\\\\\\\\\\\": 2, \\\\\\\\\\\\\"details\\\\\\\\\\\\\": {\\\\\\\\\\\\\"selectedColumn\\\\\\\\\\\\\": \\\\\\\\\\\\\"ProcessC-skewness\\\\\\\\\\\\\"}}, \\\\\\\\\\\\\"typeProperty\\\\\\\\\\\\\": 3}, {\\\\\\\\\\\\\"column\\\\\\\\\\\\\": {\\\\\\\\\\\\\"type\\\\\\\\\\\\\": 2, \\\\\\\\\\\\\"details\\\\\\\\\\\\\": {\\\\\\\\\\\\\"selectedColumn\\\\\\\\\\\\\": \\\\\\\\\\\\\"ProcessC-Time\\\\\\\\\\\\\"}}, \\\\\\\\\\\\\"typeProperty\\\\\\\\\\\\\": 3}]}, \\\\\\\\\\\\\"localData\\\\\\\\\\\\\": {}, \\\\\\\\\\\\\"isEnabled\\\\\\\\\\\\\": true, \\\\\\\\\\\\\"name\\\\\\\\\\\\\": null, \\\\\\\\\\\\\"annotation\\\\\\\\\\\\\": null}, {\\\\\\\\\\\\\"id\\\\\\\\\\\\\": \\\\\\\\\\\\\"d2dc1e86-21ed-4027-84ac-a58949d77857\\\\\\\\\\\\\", \\\\\\\\\\\\\"type\\\\\\\\\\\\\": \\\\\\\\\\\\\"Microsoft.DPrep.RandomSplitBlock\\\\\\\\\\\\\", \\\\\\\\\\\\\"arguments\\\\\\\\\\\\\": {\\\\\\\\\\\\\"probability\\\\\\\\\\\\\": 0.8, \\\\\\\\\\\\\"seed\\\\\\\\\\\\\": 1234}, \\\\\\\\\\\\\"localData\\\\\\\\\\\\\": {}, \\\\\\\\\\\\\"isEnabled\\\\\\\\\\\\\": true, \\\\\\\\\\\\\"name\\\\\\\\\\\\\": null, \\\\\\\\\\\\\"annotation\\\\\\\\\\\\\": null}, {\\\\\\\\\\\\\"id\\\\\\\\\\\\\": \\\\\\\\\\\\\"4ca10fae-9f51-42fe-b1b7-7d04c23d93c2\\\\\\\\\\\\\", \\\\\\\\\\\\\"type\\\\\\\\\\\\\": \\\\\\\\\\\\\"Microsoft.DPrep.KeepColumnsBlock\\\\\\\\\\\\\", \\\\\\\\\\\\\"arguments\\\\\\\\\\\\\": {\\\\\\\\\\\\\"columns\\\\\\\\\\\\\": {\\\\\\\\\\\\\"type\\\\\\\\\\\\\": 0, \\\\\\\\\\\\\"details\\\\\\\\\\\\\": {\\\\\\\\\\\\\"selectedColumns\\\\\\\\\\\\\": [\\\\\\\\\\\\\"Quality\\\\\\\\\\\\\"]}}}, \\\\\\\\\\\\\"localData\\\\\\\\\\\\\": {}, \\\\\\\\\\\\\"isEnabled\\\\\\\\\\\\\": true, \\\\\\\\\\\\\"name\\\\\\\\\\\\\": null, \\\\\\\\\\\\\"annotation\\\\\\\\\\\\\": null}], \\\\\\\\\\\\\"inspectors\\\\\\\\\\\\\": [], \\\\\\\\\\\\\"meta\\\\\\\\\\\\\": {\\\\\\\\\\\\\"steps_added\\\\\\\\\\\\\": \\\\\\\\\\\\\"2\\\\\\\\\\\\\"}}\\\\\", \\\\\"activities\\\\\": 0}',\n",
       "  'EnableSubsampling': 'False',\n",
       "  'runTemplate': 'AutoML',\n",
       "  'azureml.runsource': 'automl',\n",
       "  'display_task_type': 'classification',\n",
       "  'dependencies_versions': '{\"azureml-widgets\": \"1.0.62\", \"azureml-train\": \"1.0.62\", \"azureml-train-restclients-hyperdrive\": \"1.0.62\", \"azureml-train-core\": \"1.0.62\", \"azureml-train-automl\": \"1.0.62\", \"azureml-telemetry\": \"1.0.62\", \"azureml-sdk\": \"1.0.62\", \"azureml-pipeline\": \"1.0.62\", \"azureml-pipeline-steps\": \"1.0.62\", \"azureml-pipeline-core\": \"1.0.62\", \"azureml-opendatasets\": \"1.0.55\", \"azureml-explain-model\": \"1.0.62\", \"azureml-dataprep\": \"1.1.18\", \"azureml-dataprep-native\": \"13.0.3\", \"azureml-core\": \"1.0.62\", \"azureml-contrib-services\": \"1.0.62\", \"azureml-contrib-server\": \"1.0.62\", \"azureml-contrib-notebook\": \"1.0.62\", \"azureml-contrib-explain-model\": \"1.0.62\", \"azureml-contrib-datadrift\": \"1.0.55\", \"azureml-automl-core\": \"1.0.62\"}',\n",
       "  'snapshotId': '',\n",
       "  'SetupRunId': 'AutoML_edbf905f-2c3d-4968-a32d-75588681cdb9_setup',\n",
       "  'ProblemInfoJsonString': '{\"dataset_num_categorical\": 0, \"is_sparse\": false, \"subsampling\": false, \"dataset_classes\": 2, \"dataset_features\": 11, \"dataset_samples\": 3931, \"single_frequency_class_detected\": false}',\n",
       "  'azureml.git.repository_uri': 'https://github.com/konabuta/DataExplore-Workshop.git',\n",
       "  'mlflow.source.git.repoURL': 'https://github.com/konabuta/DataExplore-Workshop.git',\n",
       "  'azureml.git.branch': 'master',\n",
       "  'mlflow.source.git.branch': 'master',\n",
       "  'azureml.git.commit': 'c2640eda17b9d6aaa403154c4eb460dbf5100813',\n",
       "  'mlflow.source.git.commit': 'c2640eda17b9d6aaa403154c4eb460dbf5100813',\n",
       "  'azureml.git.dirty': 'True'},\n",
       " 'logFiles': {}}"
      ]
     },
     "execution_count": 12,
     "metadata": {},
     "output_type": "execute_result"
    }
   ],
   "source": [
    "# 詳細ログの出力\n",
    "remote_run.get_details()"
   ]
  },
  {
   "cell_type": "code",
   "execution_count": 13,
   "metadata": {},
   "outputs": [
    {
     "data": {
      "text/html": [
       "<table style=\"width:100%\"><tr><th>Experiment</th><th>Id</th><th>Type</th><th>Status</th><th>Details Page</th><th>Docs Page</th></tr><tr><td>automl-classif-factoryQC-remote</td><td>AutoML_edbf905f-2c3d-4968-a32d-75588681cdb9_25</td><td>azureml.scriptrun</td><td>Completed</td><td><a href=\"https://mlworkspace.azure.ai/portal/subscriptions/9c0f91b8-eb2f-484c-979c-15848c098a6b/resourceGroups/mlservice/providers/Microsoft.MachineLearningServices/workspaces/azureml/experiments/automl-classif-factoryQC-remote/runs/AutoML_edbf905f-2c3d-4968-a32d-75588681cdb9_25\" target=\"_blank\" rel=\"noopener\">Link to Azure Portal</a></td><td><a href=\"https://docs.microsoft.com/en-us/python/api/azureml-core/azureml.core.run.Run?view=azure-ml-py\" target=\"_blank\" rel=\"noopener\">Link to Documentation</a></td></tr></table>"
      ],
      "text/plain": [
       "Run(Experiment: automl-classif-factoryQC-remote,\n",
       "Id: AutoML_edbf905f-2c3d-4968-a32d-75588681cdb9_25,\n",
       "Type: azureml.scriptrun,\n",
       "Status: Completed)"
      ]
     },
     "execution_count": 13,
     "metadata": {},
     "output_type": "execute_result"
    }
   ],
   "source": [
    "best_run, fitted_model = remote_run.get_output()\n",
    "best_run"
   ]
  },
  {
   "cell_type": "markdown",
   "metadata": {},
   "source": [
    "### モデルの理解"
   ]
  },
  {
   "cell_type": "code",
   "execution_count": 14,
   "metadata": {},
   "outputs": [
    {
     "data": {
      "text/plain": [
       "[{'RawFeatureName': 'ProcessA-Pressure',\n",
       "  'TypeDetected': 'Numeric',\n",
       "  'Dropped': 'No',\n",
       "  'EngineeredFeatureCount': 1,\n",
       "  'Tranformations': ['MeanImputer']},\n",
       " {'RawFeatureName': 'ProcessA-Humidity',\n",
       "  'TypeDetected': 'Numeric',\n",
       "  'Dropped': 'No',\n",
       "  'EngineeredFeatureCount': 1,\n",
       "  'Tranformations': ['MeanImputer']},\n",
       " {'RawFeatureName': 'ProcessA-Vibration',\n",
       "  'TypeDetected': 'Numeric',\n",
       "  'Dropped': 'No',\n",
       "  'EngineeredFeatureCount': 1,\n",
       "  'Tranformations': ['MeanImputer']},\n",
       " {'RawFeatureName': 'ProcessB-Light',\n",
       "  'TypeDetected': 'Numeric',\n",
       "  'Dropped': 'No',\n",
       "  'EngineeredFeatureCount': 1,\n",
       "  'Tranformations': ['MeanImputer']},\n",
       " {'RawFeatureName': 'ProcessB-Skill',\n",
       "  'TypeDetected': 'Numeric',\n",
       "  'Dropped': 'No',\n",
       "  'EngineeredFeatureCount': 1,\n",
       "  'Tranformations': ['MeanImputer']},\n",
       " {'RawFeatureName': 'ProcessB-Temp',\n",
       "  'TypeDetected': 'Numeric',\n",
       "  'Dropped': 'No',\n",
       "  'EngineeredFeatureCount': 1,\n",
       "  'Tranformations': ['MeanImputer']},\n",
       " {'RawFeatureName': 'ProcessB-Rotation',\n",
       "  'TypeDetected': 'Numeric',\n",
       "  'Dropped': 'No',\n",
       "  'EngineeredFeatureCount': 1,\n",
       "  'Tranformations': ['MeanImputer']},\n",
       " {'RawFeatureName': 'ProcessC-Density',\n",
       "  'TypeDetected': 'Numeric',\n",
       "  'Dropped': 'No',\n",
       "  'EngineeredFeatureCount': 1,\n",
       "  'Tranformations': ['MeanImputer']},\n",
       " {'RawFeatureName': 'ProcessC-PH',\n",
       "  'TypeDetected': 'Numeric',\n",
       "  'Dropped': 'No',\n",
       "  'EngineeredFeatureCount': 1,\n",
       "  'Tranformations': ['MeanImputer']},\n",
       " {'RawFeatureName': 'ProcessC-skewness',\n",
       "  'TypeDetected': 'Numeric',\n",
       "  'Dropped': 'No',\n",
       "  'EngineeredFeatureCount': 1,\n",
       "  'Tranformations': ['MeanImputer']},\n",
       " {'RawFeatureName': 'ProcessC-Time',\n",
       "  'TypeDetected': 'Numeric',\n",
       "  'Dropped': 'No',\n",
       "  'EngineeredFeatureCount': 1,\n",
       "  'Tranformations': ['MeanImputer']}]"
      ]
     },
     "execution_count": 14,
     "metadata": {},
     "output_type": "execute_result"
    }
   ],
   "source": [
    "fitted_model.named_steps['datatransformer'].get_featurization_summary()"
   ]
  },
  {
   "cell_type": "code",
   "execution_count": 15,
   "metadata": {},
   "outputs": [
    {
     "name": "stdout",
     "output_type": "stream",
     "text": [
      "datatransformer\n",
      "{'enable_feature_sweeping': None,\n",
      " 'feature_sweeping_timeout': None,\n",
      " 'is_onnx_compatible': None,\n",
      " 'logger': None,\n",
      " 'observer': None,\n",
      " 'task': None}\n",
      "\n",
      "StandardScalerWrapper\n",
      "{'class_name': 'StandardScaler',\n",
      " 'copy': True,\n",
      " 'module_name': 'sklearn.preprocessing.data',\n",
      " 'with_mean': False,\n",
      " 'with_std': False}\n",
      "\n",
      "XGBoostClassifier\n",
      "{'base_score': 0.5,\n",
      " 'booster': 'gbtree',\n",
      " 'colsample_bylevel': 1,\n",
      " 'colsample_bytree': 0.5,\n",
      " 'eta': 0.1,\n",
      " 'gamma': 0,\n",
      " 'learning_rate': 0.1,\n",
      " 'max_delta_step': 0,\n",
      " 'max_depth': 9,\n",
      " 'max_leaves': 0,\n",
      " 'min_child_weight': 1,\n",
      " 'missing': nan,\n",
      " 'n_estimators': 100,\n",
      " 'n_jobs': 1,\n",
      " 'nthread': None,\n",
      " 'objective': 'reg:logistic',\n",
      " 'random_state': 0,\n",
      " 'reg_alpha': 0.9375,\n",
      " 'reg_lambda': 0.5208333333333334,\n",
      " 'scale_pos_weight': 1,\n",
      " 'seed': None,\n",
      " 'silent': True,\n",
      " 'subsample': 0.7,\n",
      " 'tree_method': 'auto',\n",
      " 'verbose': -10}\n",
      "\n"
     ]
    }
   ],
   "source": [
    "from pprint import pprint\n",
    "\n",
    "\n",
    "def print_model(model, prefix=\"\"):\n",
    "    for step in model.steps:\n",
    "        print(prefix + step[0])\n",
    "        if hasattr(step[1], 'estimators') and hasattr(step[1], 'weights'):\n",
    "            pprint({'estimators': list(\n",
    "                e[0] for e in step[1].estimators), 'weights': step[1].weights})\n",
    "            print()\n",
    "            for estimator in step[1].estimators:\n",
    "                print_model(estimator[1], estimator[0] + ' - ')\n",
    "        else:\n",
    "            pprint(step[1].get_params())\n",
    "            print()\n",
    "\n",
    "\n",
    "print_model(fitted_model)"
   ]
  },
  {
   "cell_type": "markdown",
   "metadata": {},
   "source": [
    "## 3. モデルの解釈"
   ]
  },
  {
   "cell_type": "code",
   "execution_count": 16,
   "metadata": {},
   "outputs": [
    {
     "name": "stdout",
     "output_type": "stream",
     "text": [
      "Current status: Setting up data for AutoMl explanations\n",
      "Current status: Setting up the AutoML featurization for explanations\n",
      "Current status: Setting up the AutoML estimator\n",
      "Current status: Setting up the AutoML featurizer\n",
      "Current status: Generating a feature map for raw feature importance\n",
      "Current status: Finding all classes from the dataset\n",
      "Current status: Data for AutoMl explanations successfully setup\n"
     ]
    }
   ],
   "source": [
    "from azureml.train.automl.automl_explain_utilities import AutoMLExplainerSetupClass, automl_setup_model_explanations\n",
    "\n",
    "automl_explainer_setup_obj = automl_setup_model_explanations(fitted_model, X=X_train, X_test=X_test, y=y_train, task='classification')"
   ]
  },
  {
   "cell_type": "code",
   "execution_count": 17,
   "metadata": {},
   "outputs": [
    {
     "name": "stdout",
     "output_type": "stream",
     "text": [
      "Using older than supported version of lightgbm, please upgrade to version greater than 2.2.1\n"
     ]
    }
   ],
   "source": [
    "from azureml.explain.model.mimic.models.lightgbm_model import LGBMExplainableModel\n",
    "from azureml.explain.model.mimic_wrapper import MimicWrapper\n",
    "explainer = MimicWrapper(ws, automl_explainer_setup_obj.automl_estimator, LGBMExplainableModel, \n",
    "                         init_dataset=automl_explainer_setup_obj.X_transform, run=best_run,\n",
    "                         features=automl_explainer_setup_obj.engineered_feature_names, \n",
    "                         feature_maps=[automl_explainer_setup_obj.feature_map],\n",
    "                         classes=automl_explainer_setup_obj.classes)"
   ]
  },
  {
   "cell_type": "code",
   "execution_count": 18,
   "metadata": {},
   "outputs": [],
   "source": [
    "raw_explanations = explainer.explain(['local', 'global'], get_raw=True, \n",
    "                                     raw_feature_names=automl_explainer_setup_obj.raw_feature_names,\n",
    "                                     eval_dataset=automl_explainer_setup_obj.X_test_transform)\n",
    "#print(raw_explanations.get_feature_importance_dict())"
   ]
  },
  {
   "cell_type": "code",
   "execution_count": 19,
   "metadata": {},
   "outputs": [
    {
     "data": {
      "application/vnd.jupyter.widget-view+json": {
       "model_id": "7a0898938ef441e19ab8605038032489",
       "version_major": 2,
       "version_minor": 0
      },
      "text/plain": [
       "ExplanationWidget(value={'predictedY': [0, 0, 0, 0, 0, 0, 0, 0, 0, 0, 0, 0, 0, 0, 0, 1, 0, 0, 0, 0, 0, 0, 1, 0…"
      ]
     },
     "metadata": {},
     "output_type": "display_data"
    },
    {
     "data": {
      "text/plain": [
       "<azureml.contrib.explain.model.visualize.ExplanationDashboard.ExplanationDashboard at 0x104e73e10>"
      ]
     },
     "execution_count": 19,
     "metadata": {},
     "output_type": "execute_result"
    }
   ],
   "source": [
    "from azureml.contrib.explain.model.visualize import ExplanationDashboard\n",
    "ExplanationDashboard(raw_explanations, automl_explainer_setup_obj.automl_pipeline, automl_explainer_setup_obj.X_test_raw)"
   ]
  },
  {
   "cell_type": "code",
   "execution_count": null,
   "metadata": {},
   "outputs": [],
   "source": []
  },
  {
   "cell_type": "code",
   "execution_count": null,
   "metadata": {},
   "outputs": [],
   "source": []
  }
 ],
 "metadata": {
  "kernelspec": {
   "display_name": "myenv",
   "language": "python",
   "name": "myenv"
  },
  "language_info": {
   "codemirror_mode": {
    "name": "ipython",
    "version": 3
   },
   "file_extension": ".py",
   "mimetype": "text/x-python",
   "name": "python",
   "nbconvert_exporter": "python",
   "pygments_lexer": "ipython3",
   "version": "3.6.8"
  }
 },
 "nbformat": 4,
 "nbformat_minor": 2
}
