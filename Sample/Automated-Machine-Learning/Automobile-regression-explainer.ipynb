{
 "cells": [
  {
   "cell_type": "markdown",
   "metadata": {},
   "source": [
    "# 自動機械学習 Automated Machine Learning による自動車価格予測モデリング & モデル解釈\n",
    "\n",
    "中古車の属性データから価格を予測するモデルを構築します。\n",
    "- Python SDK のインポート\n",
    "- Azure ML service Workspace への接続\n",
    "- Experiment の作成\n",
    "- データの準備\n",
    "- 自動機械学習の事前設定\n",
    "- モデル学習と結果の確認\n",
    "- モデル解釈"
   ]
  },
  {
   "cell_type": "markdown",
   "metadata": {},
   "source": [
    "## 1. 事前準備\n",
    "### Python SDK のインポート\n",
    "Azure Machine Learning service の Python SDKをインポートします"
   ]
  },
  {
   "cell_type": "code",
   "execution_count": 1,
   "metadata": {},
   "outputs": [
    {
     "name": "stderr",
     "output_type": "stream",
     "text": [
      "WARNING: Logging before flag parsing goes to stderr.\n",
      "W0923 09:40:49.861061 4500960704 deprecation_wrapper.py:119] From /Users/konabuta/miniconda3/envs/myenv/lib/python3.6/site-packages/azureml/automl/core/_vendor/automl/client/core/common/tf_wrappers.py:36: The name tf.logging.set_verbosity is deprecated. Please use tf.compat.v1.logging.set_verbosity instead.\n",
      "\n",
      "W0923 09:40:49.862338 4500960704 deprecation_wrapper.py:119] From /Users/konabuta/miniconda3/envs/myenv/lib/python3.6/site-packages/azureml/automl/core/_vendor/automl/client/core/common/tf_wrappers.py:36: The name tf.logging.ERROR is deprecated. Please use tf.compat.v1.logging.ERROR instead.\n",
      "\n"
     ]
    }
   ],
   "source": [
    "import logging\n",
    "\n",
    "from matplotlib import pyplot as plt\n",
    "import pandas as pd\n",
    "import os\n",
    "\n",
    "import azureml.core\n",
    "from azureml.core.experiment import Experiment\n",
    "from azureml.core.workspace import Workspace\n",
    "from azureml.core.dataset import Dataset\n",
    "from azureml.train.automl import AutoMLConfig"
   ]
  },
  {
   "cell_type": "markdown",
   "metadata": {},
   "source": [
    "### Azure ML workspace との接続\n",
    "Azure Machine Learning service との接続を行います。Azure に対する認証が必要です。"
   ]
  },
  {
   "cell_type": "code",
   "execution_count": 2,
   "metadata": {},
   "outputs": [
    {
     "name": "stdout",
     "output_type": "stream",
     "text": [
      "azureml\teastus\tmlservice\teastus\n"
     ]
    }
   ],
   "source": [
    "ws = Workspace.from_config()\n",
    "print(ws.name, ws.location, ws.resource_group, ws.location, sep = '\\t')"
   ]
  },
  {
   "cell_type": "markdown",
   "metadata": {},
   "source": [
    "### 実験名の設定"
   ]
  },
  {
   "cell_type": "code",
   "execution_count": 3,
   "metadata": {},
   "outputs": [],
   "source": [
    "# choose a name for experiment\n",
    "experiment_name = 'automl-regression-automobile'\n",
    "experiment=Experiment(ws, experiment_name)"
   ]
  },
  {
   "cell_type": "markdown",
   "metadata": {},
   "source": [
    "### 学習データの準備"
   ]
  },
  {
   "cell_type": "code",
   "execution_count": 4,
   "metadata": {},
   "outputs": [],
   "source": [
    "df = Dataset.get(ws, name='automobile').to_pandas_dataframe()"
   ]
  },
  {
   "cell_type": "code",
   "execution_count": 5,
   "metadata": {},
   "outputs": [],
   "source": [
    "from sklearn.model_selection import train_test_split\n",
    "\n",
    "X = df.drop(columns=[\"price\"],axis=1)\n",
    "y = df[\"price\"].values\n",
    "\n",
    "X_train, X_test, y_train, y_test = train_test_split(X,y,test_size=0.1,random_state=100)"
   ]
  },
  {
   "cell_type": "markdown",
   "metadata": {},
   "source": [
    "## 2. 自動機械学習 Automated Machine Learning\n",
    "### 学習事前設定"
   ]
  },
  {
   "cell_type": "code",
   "execution_count": 6,
   "metadata": {},
   "outputs": [],
   "source": [
    "automl_settings = {\n",
    "    \"iteration_timeout_minutes\": 5,\n",
    "    \"iterations\": 5,\n",
    "    \"n_cross_validations\": 2,\n",
    "    \"primary_metric\": 'normalized_mean_absolute_error',\n",
    "    \"preprocess\": True,\n",
    "    \"enable_voting_ensemble\": False,\n",
    "    \"enable_stack_ensemble\": False\n",
    "}\n",
    "\n",
    "automl_config = AutoMLConfig(task = 'regression',\n",
    "                             X = X_train,\n",
    "                             y = y_train,\n",
    "                             **automl_settings\n",
    "                            )"
   ]
  },
  {
   "cell_type": "markdown",
   "metadata": {},
   "source": [
    "### 実行と結果確認"
   ]
  },
  {
   "cell_type": "code",
   "execution_count": 7,
   "metadata": {},
   "outputs": [
    {
     "name": "stdout",
     "output_type": "stream",
     "text": [
      "Running on local machine\n",
      "Parent Run ID: AutoML_c477d7ec-6000-4ac2-b554-7690d1de094c\n",
      "Current status: DatasetFeaturization. Beginning to featurize the dataset.\n",
      "Current status: DatasetEvaluation. Gathering dataset statistics.\n",
      "Current status: FeaturesGeneration. Generating features for the dataset.\n",
      "Current status: DatasetFeaturizationCompleted. Completed featurizing the dataset.\n",
      "Current status: DatasetCrossValidationSplit. Generating individually featurized CV splits.\n",
      "\n",
      "****************************************************************************************************\n",
      "DATA GUARDRAILS SUMMARY:\n",
      "For more details, use API: run.get_guardrails()\n",
      "\n",
      "TYPE:         Missing Values Imputation\n",
      "STATUS:       FIXED\n",
      "DESCRIPTION:  The training data had the following missing values which were resolved.\n",
      "\n",
      "Please review your data source for data quality issues and possibly filter out the rows with these missing values.\n",
      "\n",
      "If the missing values are expected, you can either accept the above imputation, or implement your own custom imputation that may be more appropriate based on the data type and business process.\n",
      "\n",
      "\n",
      "TYPE:         High Cardinality Feature Detection\n",
      "STATUS:       DONE\n",
      "DESCRIPTION:  High cardinality inputs were detected in dataset and were featurized as categorical_hash.\n",
      "\n",
      "****************************************************************************************************\n",
      "Current status: ModelSelection. Beginning model selection.\n",
      "\n",
      "****************************************************************************************************\n",
      "ITERATION: The iteration being evaluated.\n",
      "PIPELINE: A summary description of the pipeline being evaluated.\n",
      "DURATION: Time taken for the current iteration.\n",
      "METRIC: The result of computing score on the fitted pipeline.\n",
      "BEST: The best observed score thus far.\n",
      "****************************************************************************************************\n",
      "\n",
      " ITERATION   PIPELINE                                       DURATION      METRIC      BEST\n",
      "         0   StandardScalerWrapper ElasticNet               0:00:23       0.0602    0.0602\n",
      "         1   StandardScalerWrapper ElasticNet               0:00:24       0.0650    0.0602\n",
      "         2   StandardScalerWrapper ElasticNet               0:00:23       0.0537    0.0537\n",
      "         3   StandardScalerWrapper ElasticNet               0:00:23       0.0539    0.0537\n",
      "         4   StandardScalerWrapper DecisionTree             0:00:23       0.0520    0.0520\n"
     ]
    }
   ],
   "source": [
    "local_run = experiment.submit(automl_config, show_output = True)"
   ]
  },
  {
   "cell_type": "code",
   "execution_count": 8,
   "metadata": {},
   "outputs": [
    {
     "data": {
      "application/vnd.jupyter.widget-view+json": {
       "model_id": "ec94c8fe2651484f9b4576c9884892f7",
       "version_major": 2,
       "version_minor": 0
      },
      "text/plain": [
       "_AutoMLWidget(widget_settings={'childWidgetDisplay': 'popup', 'send_telemetry': False, 'log_level': 'INFO', 's…"
      ]
     },
     "metadata": {},
     "output_type": "display_data"
    }
   ],
   "source": [
    "from azureml.widgets import RunDetails\n",
    "RunDetails(local_run).show()"
   ]
  },
  {
   "cell_type": "code",
   "execution_count": 9,
   "metadata": {},
   "outputs": [
    {
     "data": {
      "text/plain": [
       "{'runId': 'AutoML_c477d7ec-6000-4ac2-b554-7690d1de094c',\n",
       " 'target': 'local',\n",
       " 'status': 'Completed',\n",
       " 'startTimeUtc': '2019-09-23T00:41:54.906407Z',\n",
       " 'endTimeUtc': '2019-09-23T00:44:01.359189Z',\n",
       " 'properties': {'num_iterations': '5',\n",
       "  'training_type': 'TrainFull',\n",
       "  'acquisition_function': 'EI',\n",
       "  'primary_metric': 'normalized_mean_absolute_error',\n",
       "  'train_split': '0',\n",
       "  'MaxTimeSeconds': '300',\n",
       "  'acquisition_parameter': '0',\n",
       "  'num_cross_validation': '2',\n",
       "  'target': 'local',\n",
       "  'RawAMLSettingsString': \"{'name': 'automl-regression-automobile', 'path': '.', 'subscription_id': '9c0f91b8-eb2f-484c-979c-15848c098a6b', 'resource_group': 'mlservice', 'workspace_name': 'azureml', 'region': 'eastus', 'compute_target': 'local', 'spark_service': None, 'iterations': 5, 'primary_metric': 'normalized_mean_absolute_error', 'task_type': 'regression', 'data_script': None, 'validation_size': 0.0, 'n_cross_validations': 2, 'y_min': 5118.0, 'y_max': 45400.0, 'num_classes': None, 'preprocess': True, 'lag_length': 0, 'is_timeseries': False, 'max_cores_per_iteration': 1, 'max_concurrent_iterations': 1, 'iteration_timeout_minutes': 5, 'mem_in_mb': None, 'enforce_time_on_windows': False, 'experiment_timeout_minutes': None, 'experiment_exit_score': None, 'whitelist_models': None, 'blacklist_algos': ['XGBoostRegressor', 'XGBoostRegressor'], 'supported_models': ['ElasticNet', 'GradientBoosting', 'DecisionTree', 'KNN', 'LassoLars', 'SGD', 'RandomForest', 'ExtremeRandomTrees', 'LightGBM', 'XGBoostRegressor', 'NimbusMLFastLinearRegressor', 'NimbusMLOnlineGradientDescentRegressor', 'CatBoostRegressor', 'TensorFlowLinearRegressor', 'TensorFlowDNN'], 'auto_blacklist': True, 'blacklist_samples_reached': False, 'exclude_nan_labels': True, 'verbosity': 20, 'debug_log': 'automl.log', 'show_warnings': False, 'model_explainability': False, 'service_url': None, 'sdk_url': None, 'sdk_packages': None, 'enable_onnx_compatible_models': False, 'enable_feature_sweeping': True, 'telemetry_verbosity': 'INFO', 'send_telemetry': True, 'enable_early_stopping': False, 'early_stopping_n_iters': 10, 'metrics': None, 'enable_ensembling': False, 'enable_stack_ensembling': False, 'ensemble_iterations': 5, 'enable_tf': False, 'enable_cache': True, 'enable_subsampling': False, 'subsample_seed': None, 'enable_nimbusml': False, 'use_incremental_learning': False, 'label_column_name': None, 'weight_column_name': None, 'cost_mode': 0, 'metric_operation': 'minimize'}\",\n",
       "  'AMLSettingsJsonString': '{\\n  \"name\": \"automl-regression-automobile\",\\n  \"path\": \".\",\\n  \"subscription_id\": \"9c0f91b8-eb2f-484c-979c-15848c098a6b\",\\n  \"resource_group\": \"mlservice\",\\n  \"workspace_name\": \"azureml\",\\n  \"region\": \"eastus\",\\n  \"compute_target\": \"local\",\\n  \"spark_service\": null,\\n  \"iterations\": 5,\\n  \"primary_metric\": \"normalized_mean_absolute_error\",\\n  \"task_type\": \"regression\",\\n  \"data_script\": null,\\n  \"validation_size\": 0.0,\\n  \"n_cross_validations\": 2,\\n  \"y_min\": 5118.0,\\n  \"y_max\": 45400.0,\\n  \"num_classes\": null,\\n  \"preprocess\": true,\\n  \"lag_length\": 0,\\n  \"is_timeseries\": false,\\n  \"max_cores_per_iteration\": 1,\\n  \"max_concurrent_iterations\": 1,\\n  \"iteration_timeout_minutes\": 5,\\n  \"mem_in_mb\": null,\\n  \"enforce_time_on_windows\": false,\\n  \"experiment_timeout_minutes\": null,\\n  \"experiment_exit_score\": null,\\n  \"whitelist_models\": null,\\n  \"blacklist_algos\": [\\n    \"XGBoostRegressor\",\\n    \"XGBoostRegressor\"\\n  ],\\n  \"supported_models\": [\\n    \"ElasticNet\",\\n    \"GradientBoosting\",\\n    \"DecisionTree\",\\n    \"KNN\",\\n    \"LassoLars\",\\n    \"SGD\",\\n    \"RandomForest\",\\n    \"ExtremeRandomTrees\",\\n    \"LightGBM\",\\n    \"XGBoostRegressor\",\\n    \"NimbusMLFastLinearRegressor\",\\n    \"NimbusMLOnlineGradientDescentRegressor\",\\n    \"CatBoostRegressor\",\\n    \"TensorFlowLinearRegressor\",\\n    \"TensorFlowDNN\"\\n  ],\\n  \"auto_blacklist\": true,\\n  \"blacklist_samples_reached\": false,\\n  \"exclude_nan_labels\": true,\\n  \"verbosity\": 20,\\n  \"debug_log\": \"automl.log\",\\n  \"show_warnings\": false,\\n  \"model_explainability\": false,\\n  \"service_url\": null,\\n  \"sdk_url\": null,\\n  \"sdk_packages\": null,\\n  \"enable_onnx_compatible_models\": false,\\n  \"enable_feature_sweeping\": true,\\n  \"telemetry_verbosity\": \"INFO\",\\n  \"send_telemetry\": true,\\n  \"enable_early_stopping\": false,\\n  \"early_stopping_n_iters\": 10,\\n  \"metrics\": null,\\n  \"enable_ensembling\": false,\\n  \"enable_stack_ensembling\": false,\\n  \"ensemble_iterations\": 5,\\n  \"enable_tf\": false,\\n  \"enable_cache\": true,\\n  \"enable_subsampling\": false,\\n  \"subsample_seed\": null,\\n  \"enable_nimbusml\": false,\\n  \"use_incremental_learning\": false,\\n  \"label_column_name\": null,\\n  \"weight_column_name\": null,\\n  \"cost_mode\": 0,\\n  \"metric_operation\": \"minimize\"\\n}',\n",
       "  'DataPrepJsonString': None,\n",
       "  'EnableSubsampling': 'False',\n",
       "  'runTemplate': 'AutoML',\n",
       "  'azureml.runsource': 'automl',\n",
       "  'display_task_type': 'regression',\n",
       "  'dependencies_versions': '{\"azureml-widgets\": \"1.0.62\", \"azureml-train\": \"1.0.62\", \"azureml-train-restclients-hyperdrive\": \"1.0.62\", \"azureml-train-core\": \"1.0.62\", \"azureml-train-automl\": \"1.0.62\", \"azureml-telemetry\": \"1.0.62\", \"azureml-sdk\": \"1.0.62\", \"azureml-pipeline\": \"1.0.62\", \"azureml-pipeline-steps\": \"1.0.62\", \"azureml-pipeline-core\": \"1.0.62\", \"azureml-opendatasets\": \"1.0.55\", \"azureml-explain-model\": \"1.0.62\", \"azureml-dataprep\": \"1.1.18\", \"azureml-dataprep-native\": \"13.0.3\", \"azureml-core\": \"1.0.62\", \"azureml-contrib-services\": \"1.0.62\", \"azureml-contrib-server\": \"1.0.62\", \"azureml-contrib-notebook\": \"1.0.62\", \"azureml-contrib-explain-model\": \"1.0.62\", \"azureml-contrib-datadrift\": \"1.0.55\", \"azureml-automl-core\": \"1.0.62\"}',\n",
       "  'ProblemInfoJsonString': '{\"dataset_num_categorical\": 0, \"is_sparse\": true, \"subsampling\": false, \"dataset_classes\": 168, \"dataset_features\": 76, \"dataset_samples\": 180, \"single_frequency_class_detected\": false}',\n",
       "  'azureml.git.repository_uri': 'https://github.com/konabuta/DataExplore-Workshop.git',\n",
       "  'mlflow.source.git.repoURL': 'https://github.com/konabuta/DataExplore-Workshop.git',\n",
       "  'azureml.git.branch': 'master',\n",
       "  'mlflow.source.git.branch': 'master',\n",
       "  'azureml.git.commit': '3a1518cde5efd2218e36e679b74886613d09bcf6',\n",
       "  'mlflow.source.git.commit': '3a1518cde5efd2218e36e679b74886613d09bcf6',\n",
       "  'azureml.git.dirty': 'True'},\n",
       " 'logFiles': {}}"
      ]
     },
     "execution_count": 9,
     "metadata": {},
     "output_type": "execute_result"
    }
   ],
   "source": [
    "# 詳細ログの出力\n",
    "local_run.get_details()"
   ]
  },
  {
   "cell_type": "code",
   "execution_count": 10,
   "metadata": {},
   "outputs": [
    {
     "data": {
      "text/html": [
       "<table style=\"width:100%\"><tr><th>Experiment</th><th>Id</th><th>Type</th><th>Status</th><th>Details Page</th><th>Docs Page</th></tr><tr><td>automl-regression-automobile</td><td>AutoML_c477d7ec-6000-4ac2-b554-7690d1de094c_4</td><td></td><td>Completed</td><td><a href=\"https://mlworkspace.azure.ai/portal/subscriptions/9c0f91b8-eb2f-484c-979c-15848c098a6b/resourceGroups/mlservice/providers/Microsoft.MachineLearningServices/workspaces/azureml/experiments/automl-regression-automobile/runs/AutoML_c477d7ec-6000-4ac2-b554-7690d1de094c_4\" target=\"_blank\" rel=\"noopener\">Link to Azure Portal</a></td><td><a href=\"https://docs.microsoft.com/en-us/python/api/azureml-core/azureml.core.run.Run?view=azure-ml-py\" target=\"_blank\" rel=\"noopener\">Link to Documentation</a></td></tr></table>"
      ],
      "text/plain": [
       "Run(Experiment: automl-regression-automobile,\n",
       "Id: AutoML_c477d7ec-6000-4ac2-b554-7690d1de094c_4,\n",
       "Type: None,\n",
       "Status: Completed)"
      ]
     },
     "execution_count": 10,
     "metadata": {},
     "output_type": "execute_result"
    }
   ],
   "source": [
    "best_run, fitted_model = local_run.get_output()\n",
    "best_run"
   ]
  },
  {
   "cell_type": "markdown",
   "metadata": {},
   "source": [
    "### モデルの理解"
   ]
  },
  {
   "cell_type": "code",
   "execution_count": 11,
   "metadata": {},
   "outputs": [
    {
     "data": {
      "text/plain": [
       "[{'RawFeatureName': 'symboling',\n",
       "  'TypeDetected': 'Categorical',\n",
       "  'Dropped': 'No',\n",
       "  'EngineeredFeatureCount': 6,\n",
       "  'Tranformations': ['StringCast-CharGramCountVectorizer']},\n",
       " {'RawFeatureName': 'fuel-type',\n",
       "  'TypeDetected': 'Categorical',\n",
       "  'Dropped': 'No',\n",
       "  'EngineeredFeatureCount': 1,\n",
       "  'Tranformations': ['ModeCatImputer-StringCast-LabelEncoder']},\n",
       " {'RawFeatureName': 'aspiration',\n",
       "  'TypeDetected': 'Categorical',\n",
       "  'Dropped': 'No',\n",
       "  'EngineeredFeatureCount': 1,\n",
       "  'Tranformations': ['ModeCatImputer-StringCast-LabelEncoder']},\n",
       " {'RawFeatureName': 'num-of-doors',\n",
       "  'TypeDetected': 'Categorical',\n",
       "  'Dropped': 'No',\n",
       "  'EngineeredFeatureCount': 3,\n",
       "  'Tranformations': ['StringCast-CharGramCountVectorizer']},\n",
       " {'RawFeatureName': 'body-style',\n",
       "  'TypeDetected': 'Categorical',\n",
       "  'Dropped': 'No',\n",
       "  'EngineeredFeatureCount': 5,\n",
       "  'Tranformations': ['StringCast-CharGramCountVectorizer']},\n",
       " {'RawFeatureName': 'drive-wheels',\n",
       "  'TypeDetected': 'Categorical',\n",
       "  'Dropped': 'No',\n",
       "  'EngineeredFeatureCount': 3,\n",
       "  'Tranformations': ['StringCast-CharGramCountVectorizer']},\n",
       " {'RawFeatureName': 'engine-location',\n",
       "  'TypeDetected': 'Categorical',\n",
       "  'Dropped': 'No',\n",
       "  'EngineeredFeatureCount': 1,\n",
       "  'Tranformations': ['ModeCatImputer-StringCast-LabelEncoder']},\n",
       " {'RawFeatureName': 'engine-type',\n",
       "  'TypeDetected': 'Categorical',\n",
       "  'Dropped': 'No',\n",
       "  'EngineeredFeatureCount': 6,\n",
       "  'Tranformations': ['StringCast-CharGramCountVectorizer']},\n",
       " {'RawFeatureName': 'num-of-cylinders',\n",
       "  'TypeDetected': 'Categorical',\n",
       "  'Dropped': 'No',\n",
       "  'EngineeredFeatureCount': 7,\n",
       "  'Tranformations': ['StringCast-CharGramCountVectorizer']},\n",
       " {'RawFeatureName': 'fuel-system',\n",
       "  'TypeDetected': 'Categorical',\n",
       "  'Dropped': 'No',\n",
       "  'EngineeredFeatureCount': 8,\n",
       "  'Tranformations': ['StringCast-CharGramCountVectorizer']},\n",
       " {'RawFeatureName': 'normalized-losses',\n",
       "  'TypeDetected': 'Numeric',\n",
       "  'Dropped': 'No',\n",
       "  'EngineeredFeatureCount': 2,\n",
       "  'Tranformations': ['MeanImputer', 'ImputationMarker']},\n",
       " {'RawFeatureName': 'wheel-base',\n",
       "  'TypeDetected': 'Numeric',\n",
       "  'Dropped': 'No',\n",
       "  'EngineeredFeatureCount': 1,\n",
       "  'Tranformations': ['MeanImputer']},\n",
       " {'RawFeatureName': 'length',\n",
       "  'TypeDetected': 'Numeric',\n",
       "  'Dropped': 'No',\n",
       "  'EngineeredFeatureCount': 1,\n",
       "  'Tranformations': ['MeanImputer']},\n",
       " {'RawFeatureName': 'width',\n",
       "  'TypeDetected': 'Numeric',\n",
       "  'Dropped': 'No',\n",
       "  'EngineeredFeatureCount': 1,\n",
       "  'Tranformations': ['MeanImputer']},\n",
       " {'RawFeatureName': 'height',\n",
       "  'TypeDetected': 'Numeric',\n",
       "  'Dropped': 'No',\n",
       "  'EngineeredFeatureCount': 1,\n",
       "  'Tranformations': ['MeanImputer']},\n",
       " {'RawFeatureName': 'curb-weight',\n",
       "  'TypeDetected': 'Numeric',\n",
       "  'Dropped': 'No',\n",
       "  'EngineeredFeatureCount': 1,\n",
       "  'Tranformations': ['MeanImputer']},\n",
       " {'RawFeatureName': 'engine-size',\n",
       "  'TypeDetected': 'Numeric',\n",
       "  'Dropped': 'No',\n",
       "  'EngineeredFeatureCount': 1,\n",
       "  'Tranformations': ['MeanImputer']},\n",
       " {'RawFeatureName': 'bore',\n",
       "  'TypeDetected': 'Numeric',\n",
       "  'Dropped': 'No',\n",
       "  'EngineeredFeatureCount': 2,\n",
       "  'Tranformations': ['MeanImputer', 'ImputationMarker']},\n",
       " {'RawFeatureName': 'stroke',\n",
       "  'TypeDetected': 'Numeric',\n",
       "  'Dropped': 'No',\n",
       "  'EngineeredFeatureCount': 2,\n",
       "  'Tranformations': ['MeanImputer', 'ImputationMarker']},\n",
       " {'RawFeatureName': 'compression-ratio',\n",
       "  'TypeDetected': 'Numeric',\n",
       "  'Dropped': 'No',\n",
       "  'EngineeredFeatureCount': 1,\n",
       "  'Tranformations': ['MeanImputer']},\n",
       " {'RawFeatureName': 'horsepower',\n",
       "  'TypeDetected': 'Numeric',\n",
       "  'Dropped': 'No',\n",
       "  'EngineeredFeatureCount': 2,\n",
       "  'Tranformations': ['MeanImputer', 'ImputationMarker']},\n",
       " {'RawFeatureName': 'peak-rpm',\n",
       "  'TypeDetected': 'Numeric',\n",
       "  'Dropped': 'No',\n",
       "  'EngineeredFeatureCount': 2,\n",
       "  'Tranformations': ['MeanImputer', 'ImputationMarker']},\n",
       " {'RawFeatureName': 'city-mpg',\n",
       "  'TypeDetected': 'Numeric',\n",
       "  'Dropped': 'No',\n",
       "  'EngineeredFeatureCount': 1,\n",
       "  'Tranformations': ['MeanImputer']},\n",
       " {'RawFeatureName': 'highway-mpg',\n",
       "  'TypeDetected': 'Numeric',\n",
       "  'Dropped': 'No',\n",
       "  'EngineeredFeatureCount': 1,\n",
       "  'Tranformations': ['MeanImputer']},\n",
       " {'RawFeatureName': 'make',\n",
       "  'TypeDetected': 'CategoricalHash',\n",
       "  'Dropped': 'No',\n",
       "  'EngineeredFeatureCount': 16,\n",
       "  'Tranformations': ['StringCast-HashOneHotEncoder']}]"
      ]
     },
     "execution_count": 11,
     "metadata": {},
     "output_type": "execute_result"
    }
   ],
   "source": [
    "fitted_model.named_steps['datatransformer'].get_featurization_summary()"
   ]
  },
  {
   "cell_type": "code",
   "execution_count": 12,
   "metadata": {},
   "outputs": [
    {
     "name": "stdout",
     "output_type": "stream",
     "text": [
      "datatransformer\n",
      "{'enable_feature_sweeping': None,\n",
      " 'feature_sweeping_timeout': None,\n",
      " 'is_onnx_compatible': None,\n",
      " 'logger': None,\n",
      " 'observer': None,\n",
      " 'task': None}\n",
      "\n",
      "StandardScalerWrapper\n",
      "{'class_name': 'StandardScaler',\n",
      " 'copy': True,\n",
      " 'module_name': 'sklearn.preprocessing.data',\n",
      " 'with_mean': False,\n",
      " 'with_std': False}\n",
      "\n",
      "DecisionTreeRegressor\n",
      "{'criterion': 'friedman_mse',\n",
      " 'max_depth': None,\n",
      " 'max_features': 0.9,\n",
      " 'max_leaf_nodes': None,\n",
      " 'min_impurity_decrease': 0.0,\n",
      " 'min_impurity_split': None,\n",
      " 'min_samples_leaf': 0.006056302831963706,\n",
      " 'min_samples_split': 0.015297321160913582,\n",
      " 'min_weight_fraction_leaf': 0.0,\n",
      " 'presort': False,\n",
      " 'random_state': None,\n",
      " 'splitter': 'best'}\n",
      "\n"
     ]
    }
   ],
   "source": [
    "from pprint import pprint\n",
    "\n",
    "\n",
    "def print_model(model, prefix=\"\"):\n",
    "    for step in model.steps:\n",
    "        print(prefix + step[0])\n",
    "        if hasattr(step[1], 'estimators') and hasattr(step[1], 'weights'):\n",
    "            pprint({'estimators': list(\n",
    "                e[0] for e in step[1].estimators), 'weights': step[1].weights})\n",
    "            print()\n",
    "            for estimator in step[1].estimators:\n",
    "                print_model(estimator[1], estimator[0] + ' - ')\n",
    "        else:\n",
    "            pprint(step[1].get_params())\n",
    "            print()\n",
    "\n",
    "\n",
    "print_model(fitted_model)"
   ]
  },
  {
   "cell_type": "markdown",
   "metadata": {},
   "source": [
    "## 3. モデル解釈"
   ]
  },
  {
   "cell_type": "code",
   "execution_count": 13,
   "metadata": {},
   "outputs": [
    {
     "name": "stdout",
     "output_type": "stream",
     "text": [
      "Current status: Setting up data for AutoMl explanations\n",
      "Current status: Setting up the AutoML featurization for explanations\n",
      "Current status: Setting up the AutoML estimator\n",
      "Current status: Setting up the AutoML featurizer\n",
      "Current status: Generating a feature map for raw feature importance\n",
      "Current status: Data for AutoMl explanations successfully setup\n"
     ]
    }
   ],
   "source": [
    "from azureml.train.automl.automl_explain_utilities import AutoMLExplainerSetupClass, automl_setup_model_explanations\n",
    "\n",
    "automl_explainer_setup_obj = automl_setup_model_explanations(fitted_model, X=X_train, X_test=X_test, y=y_train, task='regression')"
   ]
  },
  {
   "cell_type": "code",
   "execution_count": 14,
   "metadata": {},
   "outputs": [
    {
     "name": "stdout",
     "output_type": "stream",
     "text": [
      "Using older than supported version of lightgbm, please upgrade to version greater than 2.2.1\n"
     ]
    }
   ],
   "source": [
    "from azureml.explain.model.mimic.models.lightgbm_model import LGBMExplainableModel\n",
    "from azureml.explain.model.mimic_wrapper import MimicWrapper\n",
    "explainer = MimicWrapper(ws, automl_explainer_setup_obj.automl_estimator, LGBMExplainableModel, \n",
    "                         init_dataset=automl_explainer_setup_obj.X_transform, run=best_run,\n",
    "                         features=automl_explainer_setup_obj.engineered_feature_names, \n",
    "                         feature_maps=[automl_explainer_setup_obj.feature_map],\n",
    "                         classes=automl_explainer_setup_obj.classes)"
   ]
  },
  {
   "cell_type": "code",
   "execution_count": 15,
   "metadata": {},
   "outputs": [],
   "source": [
    "raw_explanations = explainer.explain(['local', 'global'], get_raw=True, \n",
    "                                     raw_feature_names=automl_explainer_setup_obj.raw_feature_names,\n",
    "                                     eval_dataset=automl_explainer_setup_obj.X_test_transform)\n",
    "#print(raw_explanations.get_feature_importance_dict())"
   ]
  },
  {
   "cell_type": "code",
   "execution_count": 16,
   "metadata": {
    "scrolled": false
   },
   "outputs": [
    {
     "data": {
      "application/vnd.jupyter.widget-view+json": {
       "model_id": "4bada2a2417541219442a353ec7d6bc8",
       "version_major": 2,
       "version_minor": 0
      },
      "text/plain": [
       "ExplanationWidget(value={'predictedY': [7397.666666666667, 8376.5, 10470.0, 10787.5, 7712.0, 8467.0, 18785.0, …"
      ]
     },
     "metadata": {},
     "output_type": "display_data"
    },
    {
     "data": {
      "text/plain": [
       "<azureml.contrib.explain.model.visualize.ExplanationDashboard.ExplanationDashboard at 0x14341e160>"
      ]
     },
     "execution_count": 16,
     "metadata": {},
     "output_type": "execute_result"
    }
   ],
   "source": [
    "from azureml.contrib.explain.model.visualize import ExplanationDashboard\n",
    "ExplanationDashboard(raw_explanations, automl_explainer_setup_obj.automl_pipeline, automl_explainer_setup_obj.X_test_raw)"
   ]
  }
 ],
 "metadata": {
  "kernelspec": {
   "display_name": "myenv",
   "language": "python",
   "name": "myenv"
  },
  "language_info": {
   "codemirror_mode": {
    "name": "ipython",
    "version": 3
   },
   "file_extension": ".py",
   "mimetype": "text/x-python",
   "name": "python",
   "nbconvert_exporter": "python",
   "pygments_lexer": "ipython3",
   "version": "3.6.8"
  }
 },
 "nbformat": 4,
 "nbformat_minor": 2
}
