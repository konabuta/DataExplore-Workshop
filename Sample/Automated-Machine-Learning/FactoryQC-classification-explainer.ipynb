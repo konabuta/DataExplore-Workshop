{
 "cells": [
  {
   "cell_type": "markdown",
   "metadata": {},
   "source": [
    "# 自動機械学習 Automated Machine Learning による品質管理モデリング & モデル解釈\n",
    "\n",
    "製造プロセスから採取されたセンサーデータと検査結果のデータを用いて、品質管理モデルを構築します。\n",
    "- Python SDK のインポート\n",
    "- Azure ML service Workspace への接続\n",
    "- Experiment の作成\n",
    "- データの準備\n",
    "- 自動機械学習の事前設定\n",
    "- モデル学習と結果の確認\n",
    "- モデル解釈"
   ]
  },
  {
   "cell_type": "markdown",
   "metadata": {},
   "source": [
    "## 1. 事前準備\n",
    "### Python SDK のインポート\n",
    "Azure Machine Learning service の Python SDKをインポートします"
   ]
  },
  {
   "cell_type": "code",
   "execution_count": 1,
   "metadata": {},
   "outputs": [],
   "source": [
    "import logging\n",
    "\n",
    "from matplotlib import pyplot as plt\n",
    "import pandas as pd\n",
    "import os\n",
    "\n",
    "import azureml.core\n",
    "from azureml.core.experiment import Experiment\n",
    "from azureml.core.workspace import Workspace\n",
    "from azureml.core.dataset import Dataset\n",
    "from azureml.train.automl import AutoMLConfig"
   ]
  },
  {
   "cell_type": "markdown",
   "metadata": {},
   "source": [
    "### Azure ML workspace との接続\n",
    "Azure Machine Learning service との接続を行います。Azure に対する認証が必要です。"
   ]
  },
  {
   "cell_type": "code",
   "execution_count": 2,
   "metadata": {},
   "outputs": [
    {
     "name": "stdout",
     "output_type": "stream",
     "text": [
      "azureml\teastus\tmlservice\teastus\n"
     ]
    }
   ],
   "source": [
    "ws = Workspace.from_config()\n",
    "print(ws.name, ws.location, ws.resource_group, ws.location, sep = '\\t')"
   ]
  },
  {
   "cell_type": "markdown",
   "metadata": {},
   "source": [
    "### 実験名の設定\n",
    "機械学習の実験の名称を指定します。後で記録されたメトリックなどを確認する際などに利用します。"
   ]
  },
  {
   "cell_type": "code",
   "execution_count": 3,
   "metadata": {},
   "outputs": [],
   "source": [
    "# choose a name for experiment\n",
    "experiment_name = 'automl-classif-factoryQC'\n",
    "experiment=Experiment(ws, experiment_name)"
   ]
  },
  {
   "cell_type": "markdown",
   "metadata": {},
   "source": [
    "### 学習データの準備\n",
    "Pandas Dataframe や Numpy が利用できます。また、Azure Machine Learnining に _Dataset_ として登録してある場合には、Python SDK 経由でそのデータを呼び出して、そのまま利用することもできます。 "
   ]
  },
  {
   "cell_type": "code",
   "execution_count": 4,
   "metadata": {},
   "outputs": [
    {
     "name": "stderr",
     "output_type": "stream",
     "text": [
      "/Users/konabuta/miniconda3/envs/azureml/lib/python3.6/site-packages/azureml/dataprep/api/dataflow.py:681: UserWarning: Please install pyarrow>=0.11.0 for improved performance of to_pandas_dataframe. You can ensure the correct version is installed by running: pip install azureml-dataprep[pandas].\n",
      "  warnings.warn('Please install pyarrow>=0.11.0 for improved performance of to_pandas_dataframe. '\n"
     ]
    },
    {
     "data": {
      "text/html": [
       "<div>\n",
       "<style scoped>\n",
       "    .dataframe tbody tr th:only-of-type {\n",
       "        vertical-align: middle;\n",
       "    }\n",
       "\n",
       "    .dataframe tbody tr th {\n",
       "        vertical-align: top;\n",
       "    }\n",
       "\n",
       "    .dataframe thead th {\n",
       "        text-align: right;\n",
       "    }\n",
       "</style>\n",
       "<table border=\"1\" class=\"dataframe\">\n",
       "  <thead>\n",
       "    <tr style=\"text-align: right;\">\n",
       "      <th></th>\n",
       "      <th>ID</th>\n",
       "      <th>Quality</th>\n",
       "      <th>ProcessA-Pressure</th>\n",
       "      <th>ProcessA-Humidity</th>\n",
       "      <th>ProcessA-Vibration</th>\n",
       "      <th>ProcessB-Light</th>\n",
       "      <th>ProcessB-Skill</th>\n",
       "      <th>ProcessB-Temp</th>\n",
       "      <th>ProcessB-Rotation</th>\n",
       "      <th>ProcessC-Density</th>\n",
       "      <th>ProcessC-PH</th>\n",
       "      <th>ProcessC-skewness</th>\n",
       "      <th>ProcessC-Time</th>\n",
       "    </tr>\n",
       "  </thead>\n",
       "  <tbody>\n",
       "    <tr>\n",
       "      <th>0</th>\n",
       "      <td>1</td>\n",
       "      <td>0</td>\n",
       "      <td>7.00</td>\n",
       "      <td>0.27</td>\n",
       "      <td>0.36</td>\n",
       "      <td>20.70</td>\n",
       "      <td>0.04</td>\n",
       "      <td>45.00</td>\n",
       "      <td>170.00</td>\n",
       "      <td>1.00</td>\n",
       "      <td>3.00</td>\n",
       "      <td>0.45</td>\n",
       "      <td>8.80</td>\n",
       "    </tr>\n",
       "    <tr>\n",
       "      <th>1</th>\n",
       "      <td>2</td>\n",
       "      <td>0</td>\n",
       "      <td>6.30</td>\n",
       "      <td>0.30</td>\n",
       "      <td>0.34</td>\n",
       "      <td>1.60</td>\n",
       "      <td>0.05</td>\n",
       "      <td>14.00</td>\n",
       "      <td>132.00</td>\n",
       "      <td>0.99</td>\n",
       "      <td>3.30</td>\n",
       "      <td>0.49</td>\n",
       "      <td>9.50</td>\n",
       "    </tr>\n",
       "    <tr>\n",
       "      <th>2</th>\n",
       "      <td>3</td>\n",
       "      <td>0</td>\n",
       "      <td>8.10</td>\n",
       "      <td>0.28</td>\n",
       "      <td>0.40</td>\n",
       "      <td>6.90</td>\n",
       "      <td>0.05</td>\n",
       "      <td>30.00</td>\n",
       "      <td>97.00</td>\n",
       "      <td>1.00</td>\n",
       "      <td>3.26</td>\n",
       "      <td>0.44</td>\n",
       "      <td>10.10</td>\n",
       "    </tr>\n",
       "    <tr>\n",
       "      <th>3</th>\n",
       "      <td>4</td>\n",
       "      <td>0</td>\n",
       "      <td>7.20</td>\n",
       "      <td>0.23</td>\n",
       "      <td>0.32</td>\n",
       "      <td>8.50</td>\n",
       "      <td>0.06</td>\n",
       "      <td>47.00</td>\n",
       "      <td>186.00</td>\n",
       "      <td>1.00</td>\n",
       "      <td>3.19</td>\n",
       "      <td>0.40</td>\n",
       "      <td>9.90</td>\n",
       "    </tr>\n",
       "    <tr>\n",
       "      <th>4</th>\n",
       "      <td>5</td>\n",
       "      <td>0</td>\n",
       "      <td>7.20</td>\n",
       "      <td>0.23</td>\n",
       "      <td>0.32</td>\n",
       "      <td>8.50</td>\n",
       "      <td>0.06</td>\n",
       "      <td>47.00</td>\n",
       "      <td>186.00</td>\n",
       "      <td>1.00</td>\n",
       "      <td>3.19</td>\n",
       "      <td>0.40</td>\n",
       "      <td>9.90</td>\n",
       "    </tr>\n",
       "  </tbody>\n",
       "</table>\n",
       "</div>"
      ],
      "text/plain": [
       "   ID  Quality  ProcessA-Pressure  ProcessA-Humidity  ProcessA-Vibration  \\\n",
       "0   1        0               7.00               0.27                0.36   \n",
       "1   2        0               6.30               0.30                0.34   \n",
       "2   3        0               8.10               0.28                0.40   \n",
       "3   4        0               7.20               0.23                0.32   \n",
       "4   5        0               7.20               0.23                0.32   \n",
       "\n",
       "   ProcessB-Light  ProcessB-Skill  ProcessB-Temp  ProcessB-Rotation  \\\n",
       "0           20.70            0.04          45.00             170.00   \n",
       "1            1.60            0.05          14.00             132.00   \n",
       "2            6.90            0.05          30.00              97.00   \n",
       "3            8.50            0.06          47.00             186.00   \n",
       "4            8.50            0.06          47.00             186.00   \n",
       "\n",
       "   ProcessC-Density  ProcessC-PH  ProcessC-skewness  ProcessC-Time  \n",
       "0              1.00         3.00               0.45           8.80  \n",
       "1              0.99         3.30               0.49           9.50  \n",
       "2              1.00         3.26               0.44          10.10  \n",
       "3              1.00         3.19               0.40           9.90  \n",
       "4              1.00         3.19               0.40           9.90  "
      ]
     },
     "execution_count": 4,
     "metadata": {},
     "output_type": "execute_result"
    }
   ],
   "source": [
    "# Azure ML service Web Interface で Dataset が登録済みの場合\n",
    "df = Dataset.get(ws, name='factory').to_pandas_dataframe() # Pandas Dataframe に変換\n",
    "df.head()"
   ]
  },
  {
   "cell_type": "code",
   "execution_count": 5,
   "metadata": {},
   "outputs": [],
   "source": [
    "# #  本ノートブックで Dataset として登録する場合はこちら (ここでは、factory-dataset という名称)\n",
    "# datastore = ws.get_default_datastore()\n",
    "# datastore.upload_files(files = ['../data/Factory.csv'],\n",
    "#                        target_path = 'dllab/',\n",
    "#                        overwrite = True,\n",
    "#                        show_progress = True)\n",
    "# dataset = Dataset.Tabular.from_delimited_files(path = [(datastore, 'dllab/Factory.csv')])\n",
    "\n",
    "\n",
    "# dataset = dataset.register(workspace = ws,\n",
    "#                            name = 'factory-dataset',\n",
    "#                            description='training dataset from client python',\n",
    "#                            create_new_version=True)\n",
    "# df = dataset.to_pandas_dataframe() # Pandas Dataframe に変換\n",
    "# df.head()"
   ]
  },
  {
   "cell_type": "code",
   "execution_count": 6,
   "metadata": {},
   "outputs": [],
   "source": [
    "from sklearn.model_selection import train_test_split\n",
    "\n",
    "X = df.drop(columns=[\"Quality\", \"ID\"],axis=1)\n",
    "y = df[\"Quality\"].values\n",
    "\n",
    "X_train, X_test, y_train, y_test = train_test_split(X,y,test_size=0.1,random_state=100,stratify=y)"
   ]
  },
  {
   "cell_type": "code",
   "execution_count": 7,
   "metadata": {},
   "outputs": [
    {
     "data": {
      "text/html": [
       "<div>\n",
       "<style scoped>\n",
       "    .dataframe tbody tr th:only-of-type {\n",
       "        vertical-align: middle;\n",
       "    }\n",
       "\n",
       "    .dataframe tbody tr th {\n",
       "        vertical-align: top;\n",
       "    }\n",
       "\n",
       "    .dataframe thead th {\n",
       "        text-align: right;\n",
       "    }\n",
       "</style>\n",
       "<table border=\"1\" class=\"dataframe\">\n",
       "  <thead>\n",
       "    <tr style=\"text-align: right;\">\n",
       "      <th></th>\n",
       "      <th>ProcessA-Pressure</th>\n",
       "      <th>ProcessA-Humidity</th>\n",
       "      <th>ProcessA-Vibration</th>\n",
       "      <th>ProcessB-Light</th>\n",
       "      <th>ProcessB-Skill</th>\n",
       "      <th>ProcessB-Temp</th>\n",
       "      <th>ProcessB-Rotation</th>\n",
       "      <th>ProcessC-Density</th>\n",
       "      <th>ProcessC-PH</th>\n",
       "      <th>ProcessC-skewness</th>\n",
       "      <th>ProcessC-Time</th>\n",
       "    </tr>\n",
       "  </thead>\n",
       "  <tbody>\n",
       "    <tr>\n",
       "      <th>3294</th>\n",
       "      <td>7.30</td>\n",
       "      <td>0.25</td>\n",
       "      <td>0.28</td>\n",
       "      <td>1.50</td>\n",
       "      <td>0.04</td>\n",
       "      <td>19.00</td>\n",
       "      <td>113.00</td>\n",
       "      <td>0.99</td>\n",
       "      <td>3.38</td>\n",
       "      <td>0.56</td>\n",
       "      <td>10.10</td>\n",
       "    </tr>\n",
       "    <tr>\n",
       "      <th>1935</th>\n",
       "      <td>8.80</td>\n",
       "      <td>0.34</td>\n",
       "      <td>0.33</td>\n",
       "      <td>9.70</td>\n",
       "      <td>0.04</td>\n",
       "      <td>46.00</td>\n",
       "      <td>172.00</td>\n",
       "      <td>1.00</td>\n",
       "      <td>3.08</td>\n",
       "      <td>0.40</td>\n",
       "      <td>10.20</td>\n",
       "    </tr>\n",
       "    <tr>\n",
       "      <th>917</th>\n",
       "      <td>7.70</td>\n",
       "      <td>0.30</td>\n",
       "      <td>0.32</td>\n",
       "      <td>1.60</td>\n",
       "      <td>0.04</td>\n",
       "      <td>23.00</td>\n",
       "      <td>124.00</td>\n",
       "      <td>0.99</td>\n",
       "      <td>2.93</td>\n",
       "      <td>0.33</td>\n",
       "      <td>11.00</td>\n",
       "    </tr>\n",
       "    <tr>\n",
       "      <th>1478</th>\n",
       "      <td>7.90</td>\n",
       "      <td>0.22</td>\n",
       "      <td>0.24</td>\n",
       "      <td>4.60</td>\n",
       "      <td>0.04</td>\n",
       "      <td>39.00</td>\n",
       "      <td>159.00</td>\n",
       "      <td>0.99</td>\n",
       "      <td>2.99</td>\n",
       "      <td>0.28</td>\n",
       "      <td>11.50</td>\n",
       "    </tr>\n",
       "    <tr>\n",
       "      <th>858</th>\n",
       "      <td>6.70</td>\n",
       "      <td>0.22</td>\n",
       "      <td>0.39</td>\n",
       "      <td>10.20</td>\n",
       "      <td>0.04</td>\n",
       "      <td>60.00</td>\n",
       "      <td>149.00</td>\n",
       "      <td>1.00</td>\n",
       "      <td>3.17</td>\n",
       "      <td>0.54</td>\n",
       "      <td>10.00</td>\n",
       "    </tr>\n",
       "  </tbody>\n",
       "</table>\n",
       "</div>"
      ],
      "text/plain": [
       "      ProcessA-Pressure  ProcessA-Humidity  ProcessA-Vibration  \\\n",
       "3294               7.30               0.25                0.28   \n",
       "1935               8.80               0.34                0.33   \n",
       "917                7.70               0.30                0.32   \n",
       "1478               7.90               0.22                0.24   \n",
       "858                6.70               0.22                0.39   \n",
       "\n",
       "      ProcessB-Light  ProcessB-Skill  ProcessB-Temp  ProcessB-Rotation  \\\n",
       "3294            1.50            0.04          19.00             113.00   \n",
       "1935            9.70            0.04          46.00             172.00   \n",
       "917             1.60            0.04          23.00             124.00   \n",
       "1478            4.60            0.04          39.00             159.00   \n",
       "858            10.20            0.04          60.00             149.00   \n",
       "\n",
       "      ProcessC-Density  ProcessC-PH  ProcessC-skewness  ProcessC-Time  \n",
       "3294              0.99         3.38               0.56          10.10  \n",
       "1935              1.00         3.08               0.40          10.20  \n",
       "917               0.99         2.93               0.33          11.00  \n",
       "1478              0.99         2.99               0.28          11.50  \n",
       "858               1.00         3.17               0.54          10.00  "
      ]
     },
     "execution_count": 7,
     "metadata": {},
     "output_type": "execute_result"
    }
   ],
   "source": [
    "X_train.head()"
   ]
  },
  {
   "cell_type": "code",
   "execution_count": 8,
   "metadata": {},
   "outputs": [
    {
     "data": {
      "text/plain": [
       "array([0, 0, 0, ..., 1, 0, 0], dtype=int64)"
      ]
     },
     "execution_count": 8,
     "metadata": {},
     "output_type": "execute_result"
    }
   ],
   "source": [
    "y_train"
   ]
  },
  {
   "cell_type": "markdown",
   "metadata": {},
   "source": [
    "## 2. 自動機械学習 Automated Machine Learning\n",
    "### 学習事前設定"
   ]
  },
  {
   "cell_type": "markdown",
   "metadata": {},
   "source": [
    "<div style=\"text-align: left\">\n",
    "\n",
    "|Property|Description|\n",
    "|-|-|\n",
    "|**task**|classification, regression or forecasting|\n",
    "|**primary_metric**|精度指標の指定, 回帰は下記のメトリックをサポート: <br><i>accuracy</i><br><i>AUC_weighted</i><br><i>average_precision_score_weighted</i><br><i>norm_macro_recall</i><br><i>precision_score_weighted</i><br>※ 詳細については、[主要なメトリック](https://docs.microsoft.com/ja-JP/azure/machine-learning/service/how-to-configure-auto-train#primary-metric) を参照|\n",
    "|**iteration_timeout_minutes**|イテレーション毎の最大実行時間|\n",
    "|**iterations**|イテレーション回数 (=試行するパイプライン数) |\n",
    "|**X**|学習データ (説明変数)|\n",
    "|**y**|学習データ (ターゲット変数)|\n",
    "    \n",
    "</div>\n",
    "\n"
   ]
  },
  {
   "cell_type": "code",
   "execution_count": 9,
   "metadata": {},
   "outputs": [],
   "source": [
    "automl_settings = {\n",
    "    \"iteration_timeout_minutes\": 5,\n",
    "    \"iterations\": 5,\n",
    "    \"n_cross_validations\": 3,\n",
    "    \"primary_metric\": 'AUC_weighted',\n",
    "    \"preprocess\": True,\n",
    "    \"enable_voting_ensemble\": False,\n",
    "    \"enable_stack_ensemble\": False\n",
    "}\n",
    "\n",
    "automl_config = AutoMLConfig(task = 'classification', # regression, forecasting\n",
    "                             X = X_train,\n",
    "                             y = y_train,\n",
    "                             **automl_settings\n",
    "                            )"
   ]
  },
  {
   "cell_type": "markdown",
   "metadata": {},
   "source": [
    "### 実行と結果確認"
   ]
  },
  {
   "cell_type": "code",
   "execution_count": 10,
   "metadata": {},
   "outputs": [
    {
     "name": "stdout",
     "output_type": "stream",
     "text": [
      "Running on local machine\n",
      "Parent Run ID: AutoML_35685078-a4d6-46b0-b761-1cd0137037f1\n",
      "Current status: DatasetFeaturization. Beginning to featurize the dataset.\n",
      "Current status: DatasetEvaluation. Gathering dataset statistics.\n",
      "Current status: FeaturesGeneration. Generating features for the dataset.\n",
      "Current status: DatasetFeaturizationCompleted. Completed featurizing the dataset.\n",
      "Current status: DatasetCrossValidationSplit. Generating individually featurized CV splits.\n",
      "\n",
      "****************************************************************************************************\n",
      "DATA GUARDRAILS SUMMARY:\n",
      "For more details, use API: run.get_guardrails()\n",
      "\n",
      "TYPE:         Class Balancing Detection\n",
      "STATUS:       PASSED\n",
      "DESCRIPTION:  Classes are balanced in the training data.\n",
      "\n",
      "TYPE:         Missing Values Imputation\n",
      "STATUS:       PASSED\n",
      "DESCRIPTION:  There were no missing values found in the training data.\n",
      "\n",
      "TYPE:         High Cardinality Feature Detection\n",
      "STATUS:       PASSED\n",
      "DESCRIPTION:  Your inputs were analyzed, and no high cardinality features were detected.\n",
      "\n",
      "****************************************************************************************************\n",
      "Current status: ModelSelection. Beginning model selection.\n",
      "\n",
      "****************************************************************************************************\n",
      "ITERATION: The iteration being evaluated.\n",
      "PIPELINE: A summary description of the pipeline being evaluated.\n",
      "DURATION: Time taken for the current iteration.\n",
      "METRIC: The result of computing score on the fitted pipeline.\n",
      "BEST: The best observed score thus far.\n",
      "****************************************************************************************************\n",
      "\n",
      " ITERATION   PIPELINE                                       DURATION      METRIC      BEST\n",
      "         0   StandardScalerWrapper SGD                      0:00:24       0.7817    0.7817\n",
      "         1   StandardScalerWrapper SGD                      0:00:24       0.7841    0.7841\n",
      "         2   MinMaxScaler LightGBM                          0:00:24       0.8421    0.8421\n",
      "         3   StandardScalerWrapper SGD                      0:00:24       0.7831    0.8421\n",
      "         4   StandardScalerWrapper ExtremeRandomTrees       0:00:28       0.8160    0.8421\n"
     ]
    }
   ],
   "source": [
    "local_run = experiment.submit(automl_config, show_output = True)"
   ]
  },
  {
   "cell_type": "code",
   "execution_count": 11,
   "metadata": {},
   "outputs": [
    {
     "data": {
      "application/vnd.jupyter.widget-view+json": {
       "model_id": "096df591596b4a9bbfa5e269d56cf782",
       "version_major": 2,
       "version_minor": 0
      },
      "text/plain": [
       "_AutoMLWidget(widget_settings={'childWidgetDisplay': 'popup', 'send_telemetry': False, 'log_level': 'INFO', 's…"
      ]
     },
     "metadata": {},
     "output_type": "display_data"
    }
   ],
   "source": [
    "# Widget で結果確認\n",
    "from azureml.widgets import RunDetails\n",
    "RunDetails(local_run).show()"
   ]
  },
  {
   "cell_type": "code",
   "execution_count": 12,
   "metadata": {},
   "outputs": [
    {
     "data": {
      "text/plain": [
       "{'runId': 'AutoML_35685078-a4d6-46b0-b761-1cd0137037f1',\n",
       " 'target': 'local',\n",
       " 'status': 'Completed',\n",
       " 'startTimeUtc': '2019-10-04T04:33:00.602713Z',\n",
       " 'endTimeUtc': '2019-10-04T04:35:14.483804Z',\n",
       " 'properties': {'num_iterations': '5',\n",
       "  'training_type': 'TrainFull',\n",
       "  'acquisition_function': 'EI',\n",
       "  'primary_metric': 'AUC_weighted',\n",
       "  'train_split': '0',\n",
       "  'MaxTimeSeconds': '300',\n",
       "  'acquisition_parameter': '0',\n",
       "  'num_cross_validation': '3',\n",
       "  'target': 'local',\n",
       "  'RawAMLSettingsString': \"{'name': 'automl-classif-factoryQC', 'path': '.', 'subscription_id': '9c0f91b8-eb2f-484c-979c-15848c098a6b', 'resource_group': 'mlservice', 'workspace_name': 'azureml', 'region': 'eastus', 'compute_target': 'local', 'spark_service': None, 'azure_service': None, 'iterations': 5, 'primary_metric': 'AUC_weighted', 'task_type': 'classification', 'data_script': None, 'validation_size': 0.0, 'n_cross_validations': 3, 'y_min': None, 'y_max': None, 'num_classes': 2, 'featurization': 'off', 'preprocess': True, 'lag_length': 0, 'is_timeseries': False, 'max_cores_per_iteration': 1, 'max_concurrent_iterations': 1, 'iteration_timeout_minutes': 5, 'mem_in_mb': None, 'enforce_time_on_windows': False, 'experiment_timeout_minutes': None, 'experiment_exit_score': None, 'whitelist_models': None, 'blacklist_algos': ['XGBoostClassifier', 'XGBoostClassifier'], 'supported_models': ['LogisticRegression', 'SGD', 'MultinomialNaiveBayes', 'BernoulliNaiveBayes', 'SVM', 'LinearSVM', 'KNN', 'DecisionTree', 'RandomForest', 'ExtremeRandomTrees', 'LightGBM', 'XGBoostClassifier', 'NimbusMLAveragedPerceptronClassifier', 'NimbusMLLinearSVMClassifier', 'GradientBoosting', 'TensorFlowDNN', 'TensorFlowLinearClassifier'], 'auto_blacklist': True, 'blacklist_samples_reached': False, 'exclude_nan_labels': True, 'verbosity': 20, 'debug_log': 'automl.log', 'show_warnings': False, 'model_explainability': False, 'service_url': None, 'sdk_url': None, 'sdk_packages': None, 'enable_onnx_compatible_models': False, 'enable_feature_sweeping': True, 'vm_type': None, 'telemetry_verbosity': 'INFO', 'send_telemetry': True, 'enable_early_stopping': False, 'early_stopping_n_iters': 10, 'metrics': None, 'enable_ensembling': False, 'enable_stack_ensembling': False, 'ensemble_iterations': 5, 'enable_tf': False, 'enable_cache': True, 'enable_subsampling': False, 'subsample_seed': None, 'enable_nimbusml': False, 'enable_streaming': False, 'label_column_name': None, 'weight_column_name': None, 'cost_mode': 0, 'metric_operation': 'maximize'}\",\n",
       "  'AMLSettingsJsonString': '{\"name\": \"automl-classif-factoryQC\", \"path\": \".\", \"subscription_id\": \"9c0f91b8-eb2f-484c-979c-15848c098a6b\", \"resource_group\": \"mlservice\", \"workspace_name\": \"azureml\", \"region\": \"eastus\", \"compute_target\": \"local\", \"spark_service\": null, \"azure_service\": null, \"iterations\": 5, \"primary_metric\": \"AUC_weighted\", \"task_type\": \"classification\", \"data_script\": null, \"validation_size\": 0.0, \"n_cross_validations\": 3, \"y_min\": null, \"y_max\": null, \"num_classes\": 2, \"featurization\": \"off\", \"preprocess\": true, \"lag_length\": 0, \"is_timeseries\": false, \"max_cores_per_iteration\": 1, \"max_concurrent_iterations\": 1, \"iteration_timeout_minutes\": 5, \"mem_in_mb\": null, \"enforce_time_on_windows\": false, \"experiment_timeout_minutes\": null, \"experiment_exit_score\": null, \"whitelist_models\": null, \"blacklist_algos\": [\"XGBoostClassifier\", \"XGBoostClassifier\"], \"supported_models\": [\"LogisticRegression\", \"SGD\", \"MultinomialNaiveBayes\", \"BernoulliNaiveBayes\", \"SVM\", \"LinearSVM\", \"KNN\", \"DecisionTree\", \"RandomForest\", \"ExtremeRandomTrees\", \"LightGBM\", \"XGBoostClassifier\", \"NimbusMLAveragedPerceptronClassifier\", \"NimbusMLLinearSVMClassifier\", \"GradientBoosting\", \"TensorFlowDNN\", \"TensorFlowLinearClassifier\"], \"auto_blacklist\": true, \"blacklist_samples_reached\": false, \"exclude_nan_labels\": true, \"verbosity\": 20, \"debug_log\": \"automl.log\", \"show_warnings\": false, \"model_explainability\": false, \"service_url\": null, \"sdk_url\": null, \"sdk_packages\": null, \"enable_onnx_compatible_models\": false, \"enable_feature_sweeping\": true, \"vm_type\": null, \"telemetry_verbosity\": \"INFO\", \"send_telemetry\": true, \"enable_early_stopping\": false, \"early_stopping_n_iters\": 10, \"metrics\": null, \"enable_ensembling\": false, \"enable_stack_ensembling\": false, \"ensemble_iterations\": 5, \"enable_tf\": false, \"enable_cache\": true, \"enable_subsampling\": false, \"subsample_seed\": null, \"enable_nimbusml\": false, \"enable_streaming\": false, \"label_column_name\": null, \"weight_column_name\": null, \"cost_mode\": 0, \"metric_operation\": \"maximize\"}',\n",
       "  'DataPrepJsonString': None,\n",
       "  'EnableSubsampling': 'False',\n",
       "  'runTemplate': 'AutoML',\n",
       "  'azureml.runsource': 'automl',\n",
       "  'display_task_type': 'classification',\n",
       "  'dependencies_versions': '{\"azureml-widgets\": \"1.0.65\", \"azureml-train\": \"1.0.65\", \"azureml-train-restclients-hyperdrive\": \"1.0.65\", \"azureml-train-core\": \"1.0.65\", \"azureml-train-automl\": \"1.0.65\", \"azureml-telemetry\": \"1.0.65\", \"azureml-sdk\": \"1.0.65\", \"azureml-pipeline\": \"1.0.65\", \"azureml-pipeline-steps\": \"1.0.65\", \"azureml-pipeline-core\": \"1.0.65\", \"azureml-explain-model\": \"1.0.65\", \"azureml-dataprep\": \"1.1.19\", \"azureml-dataprep-native\": \"13.0.3\", \"azureml-core\": \"1.0.65\", \"azureml-contrib-services\": \"1.0.65\", \"azureml-contrib-server\": \"1.0.65\", \"azureml-contrib-notebook\": \"1.0.65\", \"azureml-contrib-explain-model\": \"1.0.65\", \"azureml-automl-core\": \"1.0.65.1\"}',\n",
       "  'ProblemInfoJsonString': '{\"dataset_num_categorical\": 0, \"is_sparse\": false, \"subsampling\": false, \"dataset_classes\": 2, \"dataset_features\": 11, \"dataset_samples\": 4408, \"single_frequency_class_detected\": false}',\n",
       "  'azureml.git.repository_uri': 'https://github.com/konabuta/DataExplore-Workshop.git',\n",
       "  'mlflow.source.git.repoURL': 'https://github.com/konabuta/DataExplore-Workshop.git',\n",
       "  'azureml.git.branch': 'master',\n",
       "  'mlflow.source.git.branch': 'master',\n",
       "  'azureml.git.commit': '754d84b491ecff02de2c4f52f4df3359531d94de',\n",
       "  'mlflow.source.git.commit': '754d84b491ecff02de2c4f52f4df3359531d94de',\n",
       "  'azureml.git.dirty': 'True'},\n",
       " 'inputDatasets': [],\n",
       " 'logFiles': {}}"
      ]
     },
     "execution_count": 12,
     "metadata": {},
     "output_type": "execute_result"
    }
   ],
   "source": [
    "# 詳細ログの出力\n",
    "local_run.get_details()"
   ]
  },
  {
   "cell_type": "markdown",
   "metadata": {},
   "source": [
    "#### チャンピョンモデルの取得"
   ]
  },
  {
   "cell_type": "code",
   "execution_count": 13,
   "metadata": {},
   "outputs": [
    {
     "data": {
      "text/html": [
       "<table style=\"width:100%\"><tr><th>Experiment</th><th>Id</th><th>Type</th><th>Status</th><th>Details Page</th><th>Docs Page</th></tr><tr><td>automl-classif-factoryQC</td><td>AutoML_35685078-a4d6-46b0-b761-1cd0137037f1_2</td><td></td><td>Completed</td><td><a href=\"https://mlworkspace.azure.ai/portal/subscriptions/9c0f91b8-eb2f-484c-979c-15848c098a6b/resourceGroups/mlservice/providers/Microsoft.MachineLearningServices/workspaces/azureml/experiments/automl-classif-factoryQC/runs/AutoML_35685078-a4d6-46b0-b761-1cd0137037f1_2\" target=\"_blank\" rel=\"noopener\">Link to Azure Portal</a></td><td><a href=\"https://docs.microsoft.com/en-us/python/api/azureml-core/azureml.core.run.Run?view=azure-ml-py\" target=\"_blank\" rel=\"noopener\">Link to Documentation</a></td></tr></table>"
      ],
      "text/plain": [
       "Run(Experiment: automl-classif-factoryQC,\n",
       "Id: AutoML_35685078-a4d6-46b0-b761-1cd0137037f1_2,\n",
       "Type: None,\n",
       "Status: Completed)"
      ]
     },
     "execution_count": 13,
     "metadata": {},
     "output_type": "execute_result"
    }
   ],
   "source": [
    "best_run, fitted_model = local_run.get_output()\n",
    "best_run"
   ]
  },
  {
   "cell_type": "markdown",
   "metadata": {},
   "source": [
    "### モデルの理解\n",
    "参考 : [自動化された ML モデルを理解する](https://docs.microsoft.com/ja-JP/azure/machine-learning/service/how-to-configure-auto-train#understand-automated-ml-models)"
   ]
  },
  {
   "cell_type": "code",
   "execution_count": 14,
   "metadata": {},
   "outputs": [
    {
     "data": {
      "text/plain": [
       "[{'RawFeatureName': 'ProcessA-Pressure',\n",
       "  'TypeDetected': 'Numeric',\n",
       "  'Dropped': 'No',\n",
       "  'EngineeredFeatureCount': 1,\n",
       "  'Tranformations': ['MeanImputer']},\n",
       " {'RawFeatureName': 'ProcessA-Humidity',\n",
       "  'TypeDetected': 'Numeric',\n",
       "  'Dropped': 'No',\n",
       "  'EngineeredFeatureCount': 1,\n",
       "  'Tranformations': ['MeanImputer']},\n",
       " {'RawFeatureName': 'ProcessA-Vibration',\n",
       "  'TypeDetected': 'Numeric',\n",
       "  'Dropped': 'No',\n",
       "  'EngineeredFeatureCount': 1,\n",
       "  'Tranformations': ['MeanImputer']},\n",
       " {'RawFeatureName': 'ProcessB-Light',\n",
       "  'TypeDetected': 'Numeric',\n",
       "  'Dropped': 'No',\n",
       "  'EngineeredFeatureCount': 1,\n",
       "  'Tranformations': ['MeanImputer']},\n",
       " {'RawFeatureName': 'ProcessB-Skill',\n",
       "  'TypeDetected': 'Numeric',\n",
       "  'Dropped': 'No',\n",
       "  'EngineeredFeatureCount': 1,\n",
       "  'Tranformations': ['MeanImputer']},\n",
       " {'RawFeatureName': 'ProcessB-Temp',\n",
       "  'TypeDetected': 'Numeric',\n",
       "  'Dropped': 'No',\n",
       "  'EngineeredFeatureCount': 1,\n",
       "  'Tranformations': ['MeanImputer']},\n",
       " {'RawFeatureName': 'ProcessB-Rotation',\n",
       "  'TypeDetected': 'Numeric',\n",
       "  'Dropped': 'No',\n",
       "  'EngineeredFeatureCount': 1,\n",
       "  'Tranformations': ['MeanImputer']},\n",
       " {'RawFeatureName': 'ProcessC-Density',\n",
       "  'TypeDetected': 'Numeric',\n",
       "  'Dropped': 'No',\n",
       "  'EngineeredFeatureCount': 1,\n",
       "  'Tranformations': ['MeanImputer']},\n",
       " {'RawFeatureName': 'ProcessC-PH',\n",
       "  'TypeDetected': 'Numeric',\n",
       "  'Dropped': 'No',\n",
       "  'EngineeredFeatureCount': 1,\n",
       "  'Tranformations': ['MeanImputer']},\n",
       " {'RawFeatureName': 'ProcessC-skewness',\n",
       "  'TypeDetected': 'Numeric',\n",
       "  'Dropped': 'No',\n",
       "  'EngineeredFeatureCount': 1,\n",
       "  'Tranformations': ['MeanImputer']},\n",
       " {'RawFeatureName': 'ProcessC-Time',\n",
       "  'TypeDetected': 'Numeric',\n",
       "  'Dropped': 'No',\n",
       "  'EngineeredFeatureCount': 1,\n",
       "  'Tranformations': ['MeanImputer']}]"
      ]
     },
     "execution_count": 14,
     "metadata": {},
     "output_type": "execute_result"
    }
   ],
   "source": [
    "fitted_model.named_steps['datatransformer'].get_featurization_summary()"
   ]
  },
  {
   "cell_type": "code",
   "execution_count": 15,
   "metadata": {},
   "outputs": [
    {
     "name": "stdout",
     "output_type": "stream",
     "text": [
      "datatransformer\n",
      "{'enable_feature_sweeping': None,\n",
      " 'feature_sweeping_timeout': None,\n",
      " 'featurization_config': None,\n",
      " 'is_cross_validation': None,\n",
      " 'is_onnx_compatible': None,\n",
      " 'jasmine_client': None,\n",
      " 'logger': None,\n",
      " 'observer': None,\n",
      " 'parent_run_id': 'AutoML_35685078-a4d6-46b0-b761-1cd0137037f1',\n",
      " 'task': None}\n",
      "\n",
      "MinMaxScaler\n",
      "{'copy': True, 'feature_range': (0, 1)}\n",
      "\n",
      "LightGBMClassifier\n",
      "{'boosting_type': 'goss',\n",
      " 'class_weight': None,\n",
      " 'colsample_bytree': 0.7922222222222222,\n",
      " 'importance_type': 'split',\n",
      " 'learning_rate': 0.1,\n",
      " 'max_bin': 170,\n",
      " 'max_depth': 4,\n",
      " 'min_child_samples': 168,\n",
      " 'min_child_weight': 4,\n",
      " 'min_split_gain': 0.8421052631578947,\n",
      " 'n_estimators': 50,\n",
      " 'n_jobs': 1,\n",
      " 'num_leaves': 62,\n",
      " 'objective': None,\n",
      " 'random_state': None,\n",
      " 'reg_alpha': 0.7894736842105263,\n",
      " 'reg_lambda': 0.15789473684210525,\n",
      " 'silent': True,\n",
      " 'subsample': 1,\n",
      " 'subsample_for_bin': 200000,\n",
      " 'subsample_freq': 0,\n",
      " 'verbose': -10}\n",
      "\n"
     ]
    }
   ],
   "source": [
    "from pprint import pprint\n",
    "\n",
    "\n",
    "def print_model(model, prefix=\"\"):\n",
    "    for step in model.steps:\n",
    "        print(prefix + step[0])\n",
    "        if hasattr(step[1], 'estimators') and hasattr(step[1], 'weights'):\n",
    "            pprint({'estimators': list(\n",
    "                e[0] for e in step[1].estimators), 'weights': step[1].weights})\n",
    "            print()\n",
    "            for estimator in step[1].estimators:\n",
    "                print_model(estimator[1], estimator[0] + ' - ')\n",
    "        else:\n",
    "            pprint(step[1].get_params())\n",
    "            print()\n",
    "\n",
    "\n",
    "print_model(fitted_model)"
   ]
  },
  {
   "cell_type": "markdown",
   "metadata": {},
   "source": [
    "## 3. モデルの解釈"
   ]
  },
  {
   "cell_type": "markdown",
   "metadata": {},
   "source": [
    "Azure Machine Learning Interpretability SDK は、Microsoftと主要な3rd Partyのライブラリ(LIME,SHAP etc)で構成されたモデル解釈のフレームワークで、統合APIをご提供しています。"
   ]
  },
  {
   "cell_type": "code",
   "execution_count": 16,
   "metadata": {},
   "outputs": [
    {
     "name": "stdout",
     "output_type": "stream",
     "text": [
      "Current status: Setting up data for AutoMl explanations\n",
      "Current status: Setting up the AutoML featurization for explanations\n",
      "Current status: Setting up the AutoML estimator\n",
      "Current status: Setting up the AutoML featurizer\n",
      "Current status: Generating a feature map for raw feature importance\n",
      "Current status: Finding all classes from the dataset\n",
      "Current status: Data for AutoMl explanations successfully setup\n"
     ]
    }
   ],
   "source": [
    "# Automated ML から情報を収集\n",
    "from azureml.train.automl.automl_explain_utilities import AutoMLExplainerSetupClass, automl_setup_model_explanations\n",
    "automl_explainer_setup_obj = automl_setup_model_explanations(fitted_model, X=X_train, X_test=X_test, y=y_train, task='classification')\n",
    "\n"
   ]
  },
  {
   "cell_type": "code",
   "execution_count": 17,
   "metadata": {},
   "outputs": [],
   "source": [
    "# Automated ML のモデルを解釈する際は、MimicWrapper を利用\n",
    "from azureml.explain.model.mimic.models.lightgbm_model import LGBMExplainableModel\n",
    "from azureml.explain.model.mimic_wrapper import MimicWrapper\n",
    "explainer = MimicWrapper(ws, automl_explainer_setup_obj.automl_estimator, \n",
    "                         LGBMExplainableModel, \n",
    "                         init_dataset=automl_explainer_setup_obj.X_transform, run=best_run,\n",
    "                         features=automl_explainer_setup_obj.engineered_feature_names, \n",
    "                         feature_maps=[automl_explainer_setup_obj.feature_map],\n",
    "                         classes=automl_explainer_setup_obj.classes)"
   ]
  },
  {
   "cell_type": "code",
   "execution_count": 18,
   "metadata": {},
   "outputs": [],
   "source": [
    "raw_explanations = explainer.explain(['local', 'global'], get_raw=True, \n",
    "                                     raw_feature_names=automl_explainer_setup_obj.raw_feature_names,\n",
    "                                     eval_dataset=automl_explainer_setup_obj.X_test_transform)\n",
    "#print(raw_explanations.get_feature_importance_dict())"
   ]
  },
  {
   "cell_type": "code",
   "execution_count": 19,
   "metadata": {
    "scrolled": false
   },
   "outputs": [
    {
     "data": {
      "application/vnd.jupyter.widget-view+json": {
       "model_id": "5b739bb51c9143678cfcc391c6131af9",
       "version_major": 2,
       "version_minor": 0
      },
      "text/plain": [
       "ExplanationWidget(value={'predictedY': [0, 0, 0, 0, 0, 0, 0, 0, 0, 0, 0, 0, 0, 0, 1, 0, 0, 0, 0, 0, 0, 0, 0, 0…"
      ]
     },
     "metadata": {},
     "output_type": "display_data"
    },
    {
     "data": {
      "text/plain": [
       "<azureml.contrib.explain.model.visualize.ExplanationDashboard.ExplanationDashboard at 0x123bb6e48>"
      ]
     },
     "execution_count": 19,
     "metadata": {},
     "output_type": "execute_result"
    }
   ],
   "source": [
    "# Global, Local なモデルの解釈専用のダッシュボード\n",
    "from azureml.contrib.explain.model.visualize import ExplanationDashboard\n",
    "ExplanationDashboard(raw_explanations, automl_explainer_setup_obj.automl_pipeline, automl_explainer_setup_obj.X_test_raw)"
   ]
  },
  {
   "cell_type": "code",
   "execution_count": null,
   "metadata": {},
   "outputs": [],
   "source": []
  },
  {
   "cell_type": "code",
   "execution_count": null,
   "metadata": {},
   "outputs": [],
   "source": []
  }
 ],
 "metadata": {
  "kernelspec": {
   "display_name": "azureml",
   "language": "python",
   "name": "azureml"
  },
  "language_info": {
   "codemirror_mode": {
    "name": "ipython",
    "version": 3
   },
   "file_extension": ".py",
   "mimetype": "text/x-python",
   "name": "python",
   "nbconvert_exporter": "python",
   "pygments_lexer": "ipython3",
   "version": "3.6.9"
  }
 },
 "nbformat": 4,
 "nbformat_minor": 2
}
